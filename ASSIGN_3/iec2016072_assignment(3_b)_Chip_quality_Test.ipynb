{
 "cells": [
  {
   "cell_type": "code",
   "execution_count": 48,
   "metadata": {},
   "outputs": [],
   "source": [
    "import pandas as pd\n",
    "import numpy as np\n",
    "import matplotlib.pyplot as plt\n",
    "import timeit"
   ]
  },
  {
   "cell_type": "code",
   "execution_count": 49,
   "metadata": {},
   "outputs": [
    {
     "data": {
      "text/html": [
       "<div>\n",
       "<style scoped>\n",
       "    .dataframe tbody tr th:only-of-type {\n",
       "        vertical-align: middle;\n",
       "    }\n",
       "\n",
       "    .dataframe tbody tr th {\n",
       "        vertical-align: top;\n",
       "    }\n",
       "\n",
       "    .dataframe thead th {\n",
       "        text-align: right;\n",
       "    }\n",
       "</style>\n",
       "<table border=\"1\" class=\"dataframe\">\n",
       "  <thead>\n",
       "    <tr style=\"text-align: right;\">\n",
       "      <th></th>\n",
       "      <th>a</th>\n",
       "      <th>b</th>\n",
       "      <th>p</th>\n",
       "    </tr>\n",
       "  </thead>\n",
       "  <tbody>\n",
       "    <tr>\n",
       "      <th>0</th>\n",
       "      <td>0.051267</td>\n",
       "      <td>0.69956</td>\n",
       "      <td>1</td>\n",
       "    </tr>\n",
       "    <tr>\n",
       "      <th>1</th>\n",
       "      <td>-0.092742</td>\n",
       "      <td>0.68494</td>\n",
       "      <td>1</td>\n",
       "    </tr>\n",
       "    <tr>\n",
       "      <th>2</th>\n",
       "      <td>-0.213710</td>\n",
       "      <td>0.69225</td>\n",
       "      <td>1</td>\n",
       "    </tr>\n",
       "    <tr>\n",
       "      <th>3</th>\n",
       "      <td>-0.375000</td>\n",
       "      <td>0.50219</td>\n",
       "      <td>1</td>\n",
       "    </tr>\n",
       "    <tr>\n",
       "      <th>4</th>\n",
       "      <td>-0.513250</td>\n",
       "      <td>0.46564</td>\n",
       "      <td>1</td>\n",
       "    </tr>\n",
       "  </tbody>\n",
       "</table>\n",
       "</div>"
      ],
      "text/plain": [
       "          a        b  p\n",
       "0  0.051267  0.69956  1\n",
       "1 -0.092742  0.68494  1\n",
       "2 -0.213710  0.69225  1\n",
       "3 -0.375000  0.50219  1\n",
       "4 -0.513250  0.46564  1"
      ]
     },
     "execution_count": 49,
     "metadata": {},
     "output_type": "execute_result"
    }
   ],
   "source": [
    "df = pd.read_csv('Chip_Quality')\n",
    "df.head()"
   ]
  },
  {
   "cell_type": "code",
   "execution_count": 50,
   "metadata": {},
   "outputs": [
    {
     "data": {
      "text/html": [
       "<div>\n",
       "<style scoped>\n",
       "    .dataframe tbody tr th:only-of-type {\n",
       "        vertical-align: middle;\n",
       "    }\n",
       "\n",
       "    .dataframe tbody tr th {\n",
       "        vertical-align: top;\n",
       "    }\n",
       "\n",
       "    .dataframe thead th {\n",
       "        text-align: right;\n",
       "    }\n",
       "</style>\n",
       "<table border=\"1\" class=\"dataframe\">\n",
       "  <thead>\n",
       "    <tr style=\"text-align: right;\">\n",
       "      <th></th>\n",
       "      <th>c1</th>\n",
       "      <th>c2</th>\n",
       "      <th>res</th>\n",
       "    </tr>\n",
       "  </thead>\n",
       "  <tbody>\n",
       "    <tr>\n",
       "      <th>0</th>\n",
       "      <td>0.051267</td>\n",
       "      <td>0.69956</td>\n",
       "      <td>1</td>\n",
       "    </tr>\n",
       "    <tr>\n",
       "      <th>1</th>\n",
       "      <td>-0.092742</td>\n",
       "      <td>0.68494</td>\n",
       "      <td>1</td>\n",
       "    </tr>\n",
       "    <tr>\n",
       "      <th>2</th>\n",
       "      <td>-0.213710</td>\n",
       "      <td>0.69225</td>\n",
       "      <td>1</td>\n",
       "    </tr>\n",
       "    <tr>\n",
       "      <th>3</th>\n",
       "      <td>-0.375000</td>\n",
       "      <td>0.50219</td>\n",
       "      <td>1</td>\n",
       "    </tr>\n",
       "    <tr>\n",
       "      <th>4</th>\n",
       "      <td>-0.513250</td>\n",
       "      <td>0.46564</td>\n",
       "      <td>1</td>\n",
       "    </tr>\n",
       "  </tbody>\n",
       "</table>\n",
       "</div>"
      ],
      "text/plain": [
       "         c1       c2  res\n",
       "0  0.051267  0.69956    1\n",
       "1 -0.092742  0.68494    1\n",
       "2 -0.213710  0.69225    1\n",
       "3 -0.375000  0.50219    1\n",
       "4 -0.513250  0.46564    1"
      ]
     },
     "execution_count": 50,
     "metadata": {},
     "output_type": "execute_result"
    }
   ],
   "source": [
    "df.columns = ['c1', 'c2','res']\n",
    "df.head()"
   ]
  },
  {
   "cell_type": "code",
   "execution_count": 51,
   "metadata": {},
   "outputs": [
    {
     "data": {
      "image/png": "[encoded data removed]",
      "text/plain": [
       "<Figure size 432x288 with 1 Axes>"
      ]
     },
     "metadata": {
      "needs_background": "light"
     },
     "output_type": "display_data"
    }
   ],
   "source": [
    "#Plot of the data points\n",
    "x = df[['c1','c2']] \n",
    "#x = (x-x.mean())/x.std()\n",
    "y = df['res']\n",
    "for i in range(x.shape[0]):\n",
    "    if y[i]==1:\n",
    "        plt.plot(x.iloc[i][0],x.iloc[i][1],'rx')\n",
    "        #print(\"Aa\")\n",
    "    else:\n",
    "        \n",
    "        plt.plot(x.iloc[i][0],x.iloc[i][1],'bx')\n",
    "plt.show()"
   ]
  },
  {
   "cell_type": "markdown",
   "metadata": {},
   "source": [
    "The plot shows that we require some higher order polynomial features to fit a good decision boundary."
   ]
  },
  {
   "cell_type": "code",
   "execution_count": 52,
   "metadata": {},
   "outputs": [
    {
     "data": {
      "text/html": [
       "<div>\n",
       "<style scoped>\n",
       "    .dataframe tbody tr th:only-of-type {\n",
       "        vertical-align: middle;\n",
       "    }\n",
       "\n",
       "    .dataframe tbody tr th {\n",
       "        vertical-align: top;\n",
       "    }\n",
       "\n",
       "    .dataframe thead th {\n",
       "        text-align: right;\n",
       "    }\n",
       "</style>\n",
       "<table border=\"1\" class=\"dataframe\">\n",
       "  <thead>\n",
       "    <tr style=\"text-align: right;\">\n",
       "      <th></th>\n",
       "      <th>c1</th>\n",
       "      <th>c2</th>\n",
       "      <th>res</th>\n",
       "      <th>c3</th>\n",
       "      <th>c4</th>\n",
       "    </tr>\n",
       "  </thead>\n",
       "  <tbody>\n",
       "    <tr>\n",
       "      <th>0</th>\n",
       "      <td>0.051267</td>\n",
       "      <td>0.69956</td>\n",
       "      <td>1</td>\n",
       "      <td>0.002628</td>\n",
       "      <td>0.489384</td>\n",
       "    </tr>\n",
       "    <tr>\n",
       "      <th>1</th>\n",
       "      <td>-0.092742</td>\n",
       "      <td>0.68494</td>\n",
       "      <td>1</td>\n",
       "      <td>0.008601</td>\n",
       "      <td>0.469143</td>\n",
       "    </tr>\n",
       "    <tr>\n",
       "      <th>2</th>\n",
       "      <td>-0.213710</td>\n",
       "      <td>0.69225</td>\n",
       "      <td>1</td>\n",
       "      <td>0.045672</td>\n",
       "      <td>0.479210</td>\n",
       "    </tr>\n",
       "    <tr>\n",
       "      <th>3</th>\n",
       "      <td>-0.375000</td>\n",
       "      <td>0.50219</td>\n",
       "      <td>1</td>\n",
       "      <td>0.140625</td>\n",
       "      <td>0.252195</td>\n",
       "    </tr>\n",
       "    <tr>\n",
       "      <th>4</th>\n",
       "      <td>-0.513250</td>\n",
       "      <td>0.46564</td>\n",
       "      <td>1</td>\n",
       "      <td>0.263426</td>\n",
       "      <td>0.216821</td>\n",
       "    </tr>\n",
       "  </tbody>\n",
       "</table>\n",
       "</div>"
      ],
      "text/plain": [
       "         c1       c2  res        c3        c4\n",
       "0  0.051267  0.69956    1  0.002628  0.489384\n",
       "1 -0.092742  0.68494    1  0.008601  0.469143\n",
       "2 -0.213710  0.69225    1  0.045672  0.479210\n",
       "3 -0.375000  0.50219    1  0.140625  0.252195\n",
       "4 -0.513250  0.46564    1  0.263426  0.216821"
      ]
     },
     "execution_count": 52,
     "metadata": {},
     "output_type": "execute_result"
    }
   ],
   "source": [
    "x1 = np.multiply(df['c1'],df['c1'])\n",
    "x1 = np.array(x1)\n",
    "x1 = np.reshape(x1,(x1.shape[0],1))\n",
    "x2 = np.multiply(df['c2'],df['c2'])\n",
    "x2 = np.array(x2)\n",
    "x2 = np.reshape(x2,(x2.shape[0],1))\n",
    "df = df.assign(c3=x1, c4 = x2)\n",
    "df.head()"
   ]
  },
  {
   "cell_type": "code",
   "execution_count": 53,
   "metadata": {},
   "outputs": [
    {
     "data": {
      "text/plain": [
       "(118, 5)"
      ]
     },
     "execution_count": 53,
     "metadata": {},
     "output_type": "execute_result"
    }
   ],
   "source": [
    "df.shape"
   ]
  },
  {
   "cell_type": "code",
   "execution_count": 54,
   "metadata": {},
   "outputs": [
    {
     "data": {
      "text/html": [
       "<div>\n",
       "<style scoped>\n",
       "    .dataframe tbody tr th:only-of-type {\n",
       "        vertical-align: middle;\n",
       "    }\n",
       "\n",
       "    .dataframe tbody tr th {\n",
       "        vertical-align: top;\n",
       "    }\n",
       "\n",
       "    .dataframe thead th {\n",
       "        text-align: right;\n",
       "    }\n",
       "</style>\n",
       "<table border=\"1\" class=\"dataframe\">\n",
       "  <thead>\n",
       "    <tr style=\"text-align: right;\">\n",
       "      <th></th>\n",
       "      <th>c1</th>\n",
       "      <th>c2</th>\n",
       "      <th>res</th>\n",
       "      <th>c3</th>\n",
       "      <th>c4</th>\n",
       "    </tr>\n",
       "  </thead>\n",
       "  <tbody>\n",
       "    <tr>\n",
       "      <th>count</th>\n",
       "      <td>118.000000</td>\n",
       "      <td>118.000000</td>\n",
       "      <td>118.000000</td>\n",
       "      <td>118.000000</td>\n",
       "      <td>118.000000</td>\n",
       "    </tr>\n",
       "    <tr>\n",
       "      <th>mean</th>\n",
       "      <td>0.054779</td>\n",
       "      <td>0.183102</td>\n",
       "      <td>0.491525</td>\n",
       "      <td>0.247575</td>\n",
       "      <td>0.301370</td>\n",
       "    </tr>\n",
       "    <tr>\n",
       "      <th>std</th>\n",
       "      <td>0.496654</td>\n",
       "      <td>0.519743</td>\n",
       "      <td>0.502060</td>\n",
       "      <td>0.248532</td>\n",
       "      <td>0.284536</td>\n",
       "    </tr>\n",
       "    <tr>\n",
       "      <th>min</th>\n",
       "      <td>-0.830070</td>\n",
       "      <td>-0.769740</td>\n",
       "      <td>0.000000</td>\n",
       "      <td>0.000040</td>\n",
       "      <td>0.000026</td>\n",
       "    </tr>\n",
       "    <tr>\n",
       "      <th>25%</th>\n",
       "      <td>-0.372120</td>\n",
       "      <td>-0.254385</td>\n",
       "      <td>0.000000</td>\n",
       "      <td>0.043243</td>\n",
       "      <td>0.061086</td>\n",
       "    </tr>\n",
       "    <tr>\n",
       "      <th>50%</th>\n",
       "      <td>-0.006336</td>\n",
       "      <td>0.213455</td>\n",
       "      <td>0.000000</td>\n",
       "      <td>0.165397</td>\n",
       "      <td>0.252195</td>\n",
       "    </tr>\n",
       "    <tr>\n",
       "      <th>75%</th>\n",
       "      <td>0.478970</td>\n",
       "      <td>0.646562</td>\n",
       "      <td>1.000000</td>\n",
       "      <td>0.389925</td>\n",
       "      <td>0.464189</td>\n",
       "    </tr>\n",
       "    <tr>\n",
       "      <th>max</th>\n",
       "      <td>1.070900</td>\n",
       "      <td>1.108900</td>\n",
       "      <td>1.000000</td>\n",
       "      <td>1.146827</td>\n",
       "      <td>1.229659</td>\n",
       "    </tr>\n",
       "  </tbody>\n",
       "</table>\n",
       "</div>"
      ],
      "text/plain": [
       "               c1          c2         res          c3          c4\n",
       "count  118.000000  118.000000  118.000000  118.000000  118.000000\n",
       "mean     0.054779    0.183102    0.491525    0.247575    0.301370\n",
       "std      0.496654    0.519743    0.502060    0.248532    0.284536\n",
       "min     -0.830070   -0.769740    0.000000    0.000040    0.000026\n",
       "25%     -0.372120   -0.254385    0.000000    0.043243    0.061086\n",
       "50%     -0.006336    0.213455    0.000000    0.165397    0.252195\n",
       "75%      0.478970    0.646562    1.000000    0.389925    0.464189\n",
       "max      1.070900    1.108900    1.000000    1.146827    1.229659"
      ]
     },
     "execution_count": 54,
     "metadata": {},
     "output_type": "execute_result"
    }
   ],
   "source": [
    "df.describe(include='all')"
   ]
  },
  {
   "cell_type": "code",
   "execution_count": 55,
   "metadata": {},
   "outputs": [
    {
     "name": "stdout",
     "output_type": "stream",
     "text": [
      "<class 'pandas.core.frame.DataFrame'>\n",
      "RangeIndex: 118 entries, 0 to 117\n",
      "Data columns (total 5 columns):\n",
      "c1     118 non-null float64\n",
      "c2     118 non-null float64\n",
      "res    118 non-null int64\n",
      "c3     118 non-null float64\n",
      "c4     118 non-null float64\n",
      "dtypes: float64(4), int64(1)\n",
      "memory usage: 4.7 KB\n"
     ]
    }
   ],
   "source": [
    "df.info()"
   ]
  },
  {
   "cell_type": "code",
   "execution_count": 56,
   "metadata": {},
   "outputs": [
    {
     "data": {
      "text/html": [
       "<div>\n",
       "<style scoped>\n",
       "    .dataframe tbody tr th:only-of-type {\n",
       "        vertical-align: middle;\n",
       "    }\n",
       "\n",
       "    .dataframe tbody tr th {\n",
       "        vertical-align: top;\n",
       "    }\n",
       "\n",
       "    .dataframe thead th {\n",
       "        text-align: right;\n",
       "    }\n",
       "</style>\n",
       "<table border=\"1\" class=\"dataframe\">\n",
       "  <thead>\n",
       "    <tr style=\"text-align: right;\">\n",
       "      <th></th>\n",
       "      <th>c1</th>\n",
       "      <th>c2</th>\n",
       "      <th>res</th>\n",
       "      <th>c3</th>\n",
       "      <th>c4</th>\n",
       "    </tr>\n",
       "  </thead>\n",
       "  <tbody>\n",
       "    <tr>\n",
       "      <th>c1</th>\n",
       "      <td>1.000000</td>\n",
       "      <td>-0.138709</td>\n",
       "      <td>-0.074115</td>\n",
       "      <td>0.378070</td>\n",
       "      <td>-0.007324</td>\n",
       "    </tr>\n",
       "    <tr>\n",
       "      <th>c2</th>\n",
       "      <td>-0.138709</td>\n",
       "      <td>1.000000</td>\n",
       "      <td>0.005697</td>\n",
       "      <td>-0.114382</td>\n",
       "      <td>0.594471</td>\n",
       "    </tr>\n",
       "    <tr>\n",
       "      <th>res</th>\n",
       "      <td>-0.074115</td>\n",
       "      <td>0.005697</td>\n",
       "      <td>1.000000</td>\n",
       "      <td>-0.389963</td>\n",
       "      <td>-0.247882</td>\n",
       "    </tr>\n",
       "    <tr>\n",
       "      <th>c3</th>\n",
       "      <td>0.378070</td>\n",
       "      <td>-0.114382</td>\n",
       "      <td>-0.389963</td>\n",
       "      <td>1.000000</td>\n",
       "      <td>-0.344834</td>\n",
       "    </tr>\n",
       "    <tr>\n",
       "      <th>c4</th>\n",
       "      <td>-0.007324</td>\n",
       "      <td>0.594471</td>\n",
       "      <td>-0.247882</td>\n",
       "      <td>-0.344834</td>\n",
       "      <td>1.000000</td>\n",
       "    </tr>\n",
       "  </tbody>\n",
       "</table>\n",
       "</div>"
      ],
      "text/plain": [
       "           c1        c2       res        c3        c4\n",
       "c1   1.000000 -0.138709 -0.074115  0.378070 -0.007324\n",
       "c2  -0.138709  1.000000  0.005697 -0.114382  0.594471\n",
       "res -0.074115  0.005697  1.000000 -0.389963 -0.247882\n",
       "c3   0.378070 -0.114382 -0.389963  1.000000 -0.344834\n",
       "c4  -0.007324  0.594471 -0.247882 -0.344834  1.000000"
      ]
     },
     "execution_count": 56,
     "metadata": {},
     "output_type": "execute_result"
    }
   ],
   "source": [
    "df.corr()"
   ]
  },
  {
   "cell_type": "code",
   "execution_count": 57,
   "metadata": {},
   "outputs": [],
   "source": [
    "df['c1'] = (df['c1']-df['c1'].mean())/df['c1'].std()\n",
    "df['c2'] = (df['c2']-df['c2'].mean())/df['c2'].std()\n",
    "df['c3'] = (df['c3']-df['c3'].mean())/df['c3'].std()\n",
    "df['c4'] = (df['c4']-df['c4'].mean())/df['c4'].std()\n",
    "x = df[['c1','c2','c3','c4']] \n",
    "#x = (x-x.mean())/x.std()\n",
    "y = df['res']\n",
    "from sklearn.model_selection import train_test_split\n",
    "X_train, X_test, y_train, y_test = train_test_split(x, y, test_size=0.3)\n",
    "x = X_train\n",
    "y = y_train\n",
    "y_test = np.array(y_test)\n",
    "y_test = np.reshape(y_test,(y_test.shape[0],1))\n",
    "t = np.ones((X_test.shape[0],1))\n",
    "X_test = np.hstack((t,X_test))"
   ]
  },
  {
   "cell_type": "code",
   "execution_count": null,
   "metadata": {},
   "outputs": [],
   "source": []
  },
  {
   "cell_type": "code",
   "execution_count": 58,
   "metadata": {},
   "outputs": [
    {
     "name": "stdout",
     "output_type": "stream",
     "text": [
      "x.shape: (82, 4)\n",
      "y.shape: (82,)\n",
      "m: 82\n",
      "n: 4\n",
      "x.shape after appending a column for bias: (82, 5)\n"
     ]
    }
   ],
   "source": [
    "#Normalisation\n",
    "print(\"x.shape: \" + str(x.shape))\n",
    "print(\"y.shape: \" + str(y.shape))\n",
    "m = x.shape[0]\n",
    "n = x.shape[1]\n",
    "print(\"m: \" + str(m))\n",
    "print(\"n: \" + str(n))\n",
    "t = np.ones((m,1))\n",
    "x = np.hstack((t,x))\n",
    "print(\"x.shape after appending a column for bias: \" + str(x.shape))"
   ]
  },
  {
   "cell_type": "code",
   "execution_count": 59,
   "metadata": {},
   "outputs": [
    {
     "data": {
      "text/plain": [
       "(array([[ 0.88881994],\n",
       "        [-0.23783335],\n",
       "        [-1.22996664],\n",
       "        [-0.72578481],\n",
       "        [ 1.42591009]]), (5, 1))"
      ]
     },
     "execution_count": 59,
     "metadata": {},
     "output_type": "execute_result"
    }
   ],
   "source": [
    "w = np.random.randn(n+1,1)\n",
    "w,w.shape"
   ]
  },
  {
   "cell_type": "code",
   "execution_count": 60,
   "metadata": {},
   "outputs": [
    {
     "data": {
      "text/plain": [
       "(82, 1)"
      ]
     },
     "execution_count": 60,
     "metadata": {},
     "output_type": "execute_result"
    }
   ],
   "source": [
    "y = np.array(y)\n",
    "y = np.reshape(y,(y.shape[0],1))\n",
    "y.shape"
   ]
  },
  {
   "cell_type": "code",
   "execution_count": 61,
   "metadata": {},
   "outputs": [
    {
     "data": {
      "text/plain": [
       "1.0942260537679973"
      ]
     },
     "execution_count": 61,
     "metadata": {},
     "output_type": "execute_result"
    }
   ],
   "source": [
    "z = np.matmul(x,w)\n",
    "#h2 = np.dot(x,w.T)\n",
    "w1 = np.log(1/(1 + np.exp(-z)))\n",
    "w2 = np.log(1-(1/(1 + np.exp(-z))))\n",
    "#J = (-1)*(1/m)*np.sum(  y*(np.log(w1)) + (1-y)*(log(w2))  )\n",
    "#w3 = w1\n",
    "#w4 = w2\n",
    "w1 = y*w1\n",
    "w2 = (1-y)*w2\n",
    "w5 = w1+w2\n",
    "w6 = np.sum(w5)\n",
    "w6 = -1*(1/m)*w6\n",
    "j = w6\n",
    "j"
   ]
  },
  {
   "cell_type": "code",
   "execution_count": 62,
   "metadata": {},
   "outputs": [
    {
     "name": "stdout",
     "output_type": "stream",
     "text": [
      "alpha =  0.001  cost =  0.4737963173730668  iterations =  67432  accuracy =  83.33333333333334\n",
      "alpha =  0.01  cost =  0.47205621211835597  iterations =  11296  accuracy =  83.33333333333334\n",
      "alpha =  0.1  cost =  0.47186581056022275  iterations =  1620  accuracy =  83.33333333333334\n"
     ]
    }
   ],
   "source": [
    "alpha = 0.001 # Learning rate\n",
    "log = np.array([])\n",
    "while(alpha<1):\n",
    "    J_prev = 100\n",
    "    J=0\n",
    "    iterations = 0\n",
    "    w = np.zeros((n+1,1))\n",
    "    temp = np.zeros((n+1,1))\n",
    "    while(abs(J_prev-J) > 0.0000001):\n",
    "        z = np.matmul(x,w)\n",
    "        h = 1/(1 + np.exp(-z))\n",
    "        for i in range(n+1):\n",
    "            temp[i] = w[i,:] - alpha*(1/m)*(np.sum( (h-y)*x[:,i:i+1], axis=0))\n",
    "        for i in range(n+1):\n",
    "            w[i,:] = temp[i]\n",
    "        #print(w)\n",
    "        #print(np.matmul(h-y,(h-y).T))\n",
    "        J_prev = J\n",
    "        w1 = np.log(1/(1 + np.exp(-z)))\n",
    "        w2 = np.log(1-(1/(1 + np.exp(-z))))\n",
    "        J = (-1/m)*np.sum(y*w1 + (1-y)*w2)\n",
    "        #print(J)\n",
    "        if(alpha == 0.001):\n",
    "            log = np.append(log, J)\n",
    "        iterations+=1\n",
    "    if(alpha == 0.001):\n",
    "        it = np.arange(iterations)\n",
    "    z = np.matmul(X_test,w)\n",
    "    y_pred = 1/(1 + np.exp(-z))\n",
    "    i=0\n",
    "    cnt=0\n",
    "    for i in range(X_test.shape[0]):\n",
    "        if( abs(y_pred[i] - y_test[i]) < 0.5):\n",
    "            cnt = cnt+1\n",
    "    accuracy = (cnt/y_test.shape[0])*100\n",
    "    print(\"alpha = \",alpha,\" cost = \",J,\" iterations = \",iterations,\" accuracy = \",accuracy)\n",
    "    alpha =alpha*10"
   ]
  },
  {
   "cell_type": "code",
   "execution_count": 63,
   "metadata": {},
   "outputs": [
    {
     "data": {
      "image/png": "[encoded data removed]",
      "text/plain": [
       "<Figure size 432x288 with 1 Axes>"
      ]
     },
     "metadata": {
      "needs_background": "light"
     },
     "output_type": "display_data"
    }
   ],
   "source": [
    "\n",
    "plt.plot(it, log)\n",
    "plt.xlabel('Iterations')\n",
    "plt.ylabel('Cost')\n",
    "plt.title('Cost function vs No. of iterations')\n",
    "plt.show()"
   ]
  },
  {
   "cell_type": "markdown",
   "metadata": {},
   "source": [
    "# Using Regularisation"
   ]
  },
  {
   "cell_type": "code",
   "execution_count": 64,
   "metadata": {},
   "outputs": [
    {
     "data": {
      "text/html": [
       "<div>\n",
       "<style scoped>\n",
       "    .dataframe tbody tr th:only-of-type {\n",
       "        vertical-align: middle;\n",
       "    }\n",
       "\n",
       "    .dataframe tbody tr th {\n",
       "        vertical-align: top;\n",
       "    }\n",
       "\n",
       "    .dataframe thead th {\n",
       "        text-align: right;\n",
       "    }\n",
       "</style>\n",
       "<table border=\"1\" class=\"dataframe\">\n",
       "  <thead>\n",
       "    <tr style=\"text-align: right;\">\n",
       "      <th></th>\n",
       "      <th>c1</th>\n",
       "      <th>c2</th>\n",
       "      <th>res</th>\n",
       "      <th>c3</th>\n",
       "      <th>c4</th>\n",
       "    </tr>\n",
       "  </thead>\n",
       "  <tbody>\n",
       "    <tr>\n",
       "      <th>0</th>\n",
       "      <td>-0.007071</td>\n",
       "      <td>0.993681</td>\n",
       "      <td>1</td>\n",
       "      <td>-0.985574</td>\n",
       "      <td>0.660775</td>\n",
       "    </tr>\n",
       "    <tr>\n",
       "      <th>1</th>\n",
       "      <td>-0.297030</td>\n",
       "      <td>0.965551</td>\n",
       "      <td>1</td>\n",
       "      <td>-0.961542</td>\n",
       "      <td>0.589637</td>\n",
       "    </tr>\n",
       "    <tr>\n",
       "      <th>2</th>\n",
       "      <td>-0.540596</td>\n",
       "      <td>0.979616</td>\n",
       "      <td>1</td>\n",
       "      <td>-0.812383</td>\n",
       "      <td>0.625018</td>\n",
       "    </tr>\n",
       "    <tr>\n",
       "      <th>3</th>\n",
       "      <td>-0.865349</td>\n",
       "      <td>0.613935</td>\n",
       "      <td>1</td>\n",
       "      <td>-0.430328</td>\n",
       "      <td>-0.172824</td>\n",
       "    </tr>\n",
       "    <tr>\n",
       "      <th>4</th>\n",
       "      <td>-1.143712</td>\n",
       "      <td>0.543612</td>\n",
       "      <td>1</td>\n",
       "      <td>0.063775</td>\n",
       "      <td>-0.297147</td>\n",
       "    </tr>\n",
       "  </tbody>\n",
       "</table>\n",
       "</div>"
      ],
      "text/plain": [
       "         c1        c2  res        c3        c4\n",
       "0 -0.007071  0.993681    1 -0.985574  0.660775\n",
       "1 -0.297030  0.965551    1 -0.961542  0.589637\n",
       "2 -0.540596  0.979616    1 -0.812383  0.625018\n",
       "3 -0.865349  0.613935    1 -0.430328 -0.172824\n",
       "4 -1.143712  0.543612    1  0.063775 -0.297147"
      ]
     },
     "execution_count": 64,
     "metadata": {},
     "output_type": "execute_result"
    }
   ],
   "source": [
    "df.head()"
   ]
  },
  {
   "cell_type": "code",
   "execution_count": 65,
   "metadata": {},
   "outputs": [
    {
     "name": "stdout",
     "output_type": "stream",
     "text": [
      "(36, 5)\n",
      "(36, 1)\n"
     ]
    }
   ],
   "source": [
    "df['c1'] = (df['c1']-df['c1'].mean())/df['c1'].std()\n",
    "df['c2'] = (df['c2']-df['c2'].mean())/df['c2'].std()\n",
    "df['c3'] = (df['c3']-df['c3'].mean())/df['c3'].std()\n",
    "df['c4'] = (df['c4']-df['c4'].mean())/df['c4'].std()\n",
    "x = df[['c1','c2','c3','c4']] \n",
    "y = df['res']\n",
    "from sklearn.model_selection import train_test_split\n",
    "X_train, X_test, y_train, y_test = train_test_split(x, y, test_size=0.3)\n",
    "x = X_train\n",
    "y = y_train\n",
    "y_test = np.array(y_test)\n",
    "y_test = np.reshape(y_test,(y_test.shape[0],1))\n",
    "t = np.ones((X_test.shape[0],1))\n",
    "X_test = np.hstack((t,X_test))\n",
    "print(X_test.shape)\n",
    "print(y_test.shape)"
   ]
  },
  {
   "cell_type": "code",
   "execution_count": 66,
   "metadata": {},
   "outputs": [
    {
     "name": "stdout",
     "output_type": "stream",
     "text": [
      "x.shape: (82, 4)\n",
      "y.shape: (82,)\n",
      "m: 82\n",
      "n: 4\n",
      "x.shape after appending a column for bias: (82, 5)\n"
     ]
    }
   ],
   "source": [
    "#Normalisation\n",
    "print(\"x.shape: \" + str(x.shape))\n",
    "print(\"y.shape: \" + str(y.shape))\n",
    "m = x.shape[0]\n",
    "n = x.shape[1]\n",
    "print(\"m: \" + str(m))\n",
    "print(\"n: \" + str(n))\n",
    "t = np.ones((m,1))\n",
    "x = np.hstack((t,x))\n",
    "print(\"x.shape after appending a column for bias: \" + str(x.shape))"
   ]
  },
  {
   "cell_type": "code",
   "execution_count": 67,
   "metadata": {},
   "outputs": [
    {
     "data": {
      "text/plain": [
       "(array([[-1.53016117],\n",
       "        [ 0.24362393],\n",
       "        [ 0.103746  ],\n",
       "        [-0.85271446],\n",
       "        [-0.23507601]]), (5, 1))"
      ]
     },
     "execution_count": 67,
     "metadata": {},
     "output_type": "execute_result"
    }
   ],
   "source": [
    "w = np.random.randn(n+1,1)\n",
    "w,w.shape"
   ]
  },
  {
   "cell_type": "code",
   "execution_count": 68,
   "metadata": {},
   "outputs": [],
   "source": [
    "y = np.array(y)\n",
    "y = np.reshape(y,(y.shape[0],1))"
   ]
  },
  {
   "cell_type": "code",
   "execution_count": 69,
   "metadata": {},
   "outputs": [
    {
     "data": {
      "text/plain": [
       "0.7802452366397364"
      ]
     },
     "execution_count": 69,
     "metadata": {},
     "output_type": "execute_result"
    }
   ],
   "source": [
    "z = np.matmul(x,w)\n",
    "#h2 = np.dot(x,w.T)\n",
    "w1 = np.log(1/(1 + np.exp(-z)))\n",
    "w2 = np.log(1-(1/(1 + np.exp(-z))))\n",
    "#J = (-1)*(1/m)*np.sum(  y*(np.log(w1)) + (1-y)*(log(w2))  )\n",
    "#w3 = w1\n",
    "#w4 = w2\n",
    "w1 = y*w1\n",
    "w2 = (1-y)*w2\n",
    "w5 = w1+w2\n",
    "w6 = np.sum(w5)\n",
    "w6 = -1*(1/m)*w6\n",
    "j = w6\n",
    "j"
   ]
  },
  {
   "cell_type": "code",
   "execution_count": 70,
   "metadata": {},
   "outputs": [
    {
     "name": "stdout",
     "output_type": "stream",
     "text": [
      "alpha =  0.001  lamda =  10  iterations =  8126  cost =  0.5983044773901046 accuracy =  72.22222222222221\n",
      "alpha =  0.001  lamda =  100  iterations =  1427  cost =  0.6738795351367356 accuracy =  75.0\n",
      "alpha =  0.001  lamda =  1000  iterations =  166  cost =  0.6909375982304351 accuracy =  75.0\n",
      "___________________\n",
      "alpha =  0.01  lamda =  10  iterations =  1406  cost =  0.5960326716659574 accuracy =  75.0\n",
      "alpha =  0.01  lamda =  100  iterations =  235  cost =  0.6735617450824716 accuracy =  75.0\n",
      "alpha =  0.01  lamda =  1000  iterations =  35  cost =  0.69090117381101 accuracy =  75.0\n",
      "___________________\n",
      "alpha =  0.1  lamda =  10  iterations =  215  cost =  0.5958035854070283 accuracy =  75.0\n",
      "alpha =  0.1  lamda =  100  iterations =  46  cost =  0.6735230815032291 accuracy =  75.0\n",
      "alpha =  0.1  lamda =  1000  iterations =  9  cost =  0.6908949443161656 accuracy =  75.0\n",
      "___________________\n"
     ]
    }
   ],
   "source": [
    "alpha = 0.001 # Learning rate\n",
    "temp = np.zeros((n+1,1))\n",
    "#log = np.array([])\n",
    "while(alpha < 1):\n",
    "    lamda = 10\n",
    "    while(lamda < 1001):\n",
    "        w = np.zeros((n+1,1))\n",
    "        J_prev = 100\n",
    "        J=0\n",
    "        iterations = 0\n",
    "        while(abs(J_prev-J) > 0.000001):\n",
    "            z = np.matmul(x,w)\n",
    "            h = 1/(1 + np.exp(-z))\n",
    "            for i in range(n+1):\n",
    "                temp[i] = w[i,:] - alpha*(1/m)*(np.sum( (h-y)*x[:,i:i+1], axis=0)) - alpha*lamda*(1/m)*w[i,:]\n",
    "            for i in range(n+1):\n",
    "                w[i,:] = temp[i]\n",
    "            J_prev = J\n",
    "            w1 = np.log(1/(1 + np.exp(-z)))\n",
    "            w2 = np.log(1-(1/(1 + np.exp(-z))))\n",
    "            J = (-1/m)*np.sum(y*w1 + (1-y)*w2) + (1/(2*m))*lamda*np.sum(np.multiply(w,w))\n",
    "            #print(w)\n",
    "            #print(np.matmul(h-y,(h-y).T))\n",
    "            #if(lamda == 1000):\n",
    "            #    log = np.append(log, J)\n",
    "            iterations+=1\n",
    "        z = np.matmul(X_test,w)\n",
    "        y_pred = 1/(1 + np.exp(-z))\n",
    "        i=0\n",
    "        cnt=0\n",
    "        for i in range(X_test.shape[0]):\n",
    "            if( abs(y_pred[i] - y_test[i]) < 0.5):\n",
    "                cnt = cnt+1\n",
    "        accuracy = (cnt/y_test.shape[0])*100\n",
    "        print(\"alpha = \",alpha,\" lamda = \",lamda,\" iterations = \",iterations,\" cost = \",J,\"accuracy = \",accuracy)\n",
    "        lamda = lamda*10\n",
    "    print(\"___________________\")\n",
    "    alpha = alpha*10"
   ]
  },
  {
   "cell_type": "markdown",
   "metadata": {},
   "source": [
    "# Conclusion"
   ]
  },
  {
   "cell_type": "markdown",
   "metadata": {},
   "source": [
    "Minimum cost that we are getting is 0.59580 for alpha = 0.1 and lamda = 10.\n",
    "However cost for alpha=0.001 and alpha=0.01 for lamda = 10 is also approx 0.59.\n",
    "Therefore we can deduct that cost is lesser for lamda = 10 as compared to lamda = 100 and 1000.\n",
    "This means that higher value of lamda is underfitting our model."
   ]
  },
  {
   "cell_type": "code",
   "execution_count": null,
   "metadata": {},
   "outputs": [],
   "source": []
  }
 ],
 "metadata": {
  "kernelspec": {
   "display_name": "Python 3",
   "language": "python",
   "name": "python3"
  },
  "language_info": {
   "codemirror_mode": {
    "name": "ipython",
    "version": 3
   },
   "file_extension": ".py",
   "mimetype": "text/x-python",
   "name": "python",
   "nbconvert_exporter": "python",
   "pygments_lexer": "ipython3",
   "version": "3.6.7"
  }
 },
 "nbformat": 4,
 "nbformat_minor": 2
}
