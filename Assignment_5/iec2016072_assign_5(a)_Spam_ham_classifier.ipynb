{
 "cells": [
  {
   "cell_type": "markdown",
   "metadata": {},
   "source": [
    "# Import libraries"
   ]
  },
  {
   "cell_type": "code",
   "execution_count": 1,
   "metadata": {
    "collapsed": true
   },
   "outputs": [],
   "source": [
    "import pandas as pd\n",
    "import numpy as np\n",
    "import matplotlib.pyplot as plt"
   ]
  },
  {
   "cell_type": "code",
   "execution_count": 2,
   "metadata": {},
   "outputs": [
    {
     "data": {
      "text/html": [
       "<div>\n",
       "<style scoped>\n",
       "    .dataframe tbody tr th:only-of-type {\n",
       "        vertical-align: middle;\n",
       "    }\n",
       "\n",
       "    .dataframe tbody tr th {\n",
       "        vertical-align: top;\n",
       "    }\n",
       "\n",
       "    .dataframe thead th {\n",
       "        text-align: right;\n",
       "    }\n",
       "</style>\n",
       "<table border=\"1\" class=\"dataframe\">\n",
       "  <thead>\n",
       "    <tr style=\"text-align: right;\">\n",
       "      <th></th>\n",
       "      <th>v1</th>\n",
       "      <th>v2</th>\n",
       "      <th>Unnamed: 2</th>\n",
       "      <th>Unnamed: 3</th>\n",
       "      <th>Unnamed: 4</th>\n",
       "    </tr>\n",
       "  </thead>\n",
       "  <tbody>\n",
       "    <tr>\n",
       "      <th>0</th>\n",
       "      <td>ham</td>\n",
       "      <td>Go until jurong point, crazy.. Available only ...</td>\n",
       "      <td>NaN</td>\n",
       "      <td>NaN</td>\n",
       "      <td>NaN</td>\n",
       "    </tr>\n",
       "    <tr>\n",
       "      <th>1</th>\n",
       "      <td>ham</td>\n",
       "      <td>Ok lar... Joking wif u oni...</td>\n",
       "      <td>NaN</td>\n",
       "      <td>NaN</td>\n",
       "      <td>NaN</td>\n",
       "    </tr>\n",
       "    <tr>\n",
       "      <th>2</th>\n",
       "      <td>spam</td>\n",
       "      <td>Free entry in 2 a wkly comp to win FA Cup fina...</td>\n",
       "      <td>NaN</td>\n",
       "      <td>NaN</td>\n",
       "      <td>NaN</td>\n",
       "    </tr>\n",
       "    <tr>\n",
       "      <th>3</th>\n",
       "      <td>ham</td>\n",
       "      <td>U dun say so early hor... U c already then say...</td>\n",
       "      <td>NaN</td>\n",
       "      <td>NaN</td>\n",
       "      <td>NaN</td>\n",
       "    </tr>\n",
       "    <tr>\n",
       "      <th>4</th>\n",
       "      <td>ham</td>\n",
       "      <td>Nah I don't think he goes to usf, he lives aro...</td>\n",
       "      <td>NaN</td>\n",
       "      <td>NaN</td>\n",
       "      <td>NaN</td>\n",
       "    </tr>\n",
       "  </tbody>\n",
       "</table>\n",
       "</div>"
      ],
      "text/plain": [
       "     v1                                                 v2 Unnamed: 2  \\\n",
       "0   ham  Go until jurong point, crazy.. Available only ...        NaN   \n",
       "1   ham                      Ok lar... Joking wif u oni...        NaN   \n",
       "2  spam  Free entry in 2 a wkly comp to win FA Cup fina...        NaN   \n",
       "3   ham  U dun say so early hor... U c already then say...        NaN   \n",
       "4   ham  Nah I don't think he goes to usf, he lives aro...        NaN   \n",
       "\n",
       "  Unnamed: 3 Unnamed: 4  \n",
       "0        NaN        NaN  \n",
       "1        NaN        NaN  \n",
       "2        NaN        NaN  \n",
       "3        NaN        NaN  \n",
       "4        NaN        NaN  "
      ]
     },
     "execution_count": 2,
     "metadata": {},
     "output_type": "execute_result"
    }
   ],
   "source": [
    "df = pd.read_csv('spam',encoding = \"ISO-8859-1\")\n",
    "df.head()"
   ]
  },
  {
   "cell_type": "code",
   "execution_count": 3,
   "metadata": {},
   "outputs": [
    {
     "data": {
      "text/html": [
       "<div>\n",
       "<style scoped>\n",
       "    .dataframe tbody tr th:only-of-type {\n",
       "        vertical-align: middle;\n",
       "    }\n",
       "\n",
       "    .dataframe tbody tr th {\n",
       "        vertical-align: top;\n",
       "    }\n",
       "\n",
       "    .dataframe thead th {\n",
       "        text-align: right;\n",
       "    }\n",
       "</style>\n",
       "<table border=\"1\" class=\"dataframe\">\n",
       "  <thead>\n",
       "    <tr style=\"text-align: right;\">\n",
       "      <th></th>\n",
       "      <th>v1</th>\n",
       "      <th>v2</th>\n",
       "    </tr>\n",
       "  </thead>\n",
       "  <tbody>\n",
       "    <tr>\n",
       "      <th>0</th>\n",
       "      <td>ham</td>\n",
       "      <td>Go until jurong point, crazy.. Available only ...</td>\n",
       "    </tr>\n",
       "    <tr>\n",
       "      <th>1</th>\n",
       "      <td>ham</td>\n",
       "      <td>Ok lar... Joking wif u oni...</td>\n",
       "    </tr>\n",
       "    <tr>\n",
       "      <th>2</th>\n",
       "      <td>spam</td>\n",
       "      <td>Free entry in 2 a wkly comp to win FA Cup fina...</td>\n",
       "    </tr>\n",
       "    <tr>\n",
       "      <th>3</th>\n",
       "      <td>ham</td>\n",
       "      <td>U dun say so early hor... U c already then say...</td>\n",
       "    </tr>\n",
       "    <tr>\n",
       "      <th>4</th>\n",
       "      <td>ham</td>\n",
       "      <td>Nah I don't think he goes to usf, he lives aro...</td>\n",
       "    </tr>\n",
       "  </tbody>\n",
       "</table>\n",
       "</div>"
      ],
      "text/plain": [
       "     v1                                                 v2\n",
       "0   ham  Go until jurong point, crazy.. Available only ...\n",
       "1   ham                      Ok lar... Joking wif u oni...\n",
       "2  spam  Free entry in 2 a wkly comp to win FA Cup fina...\n",
       "3   ham  U dun say so early hor... U c already then say...\n",
       "4   ham  Nah I don't think he goes to usf, he lives aro..."
      ]
     },
     "execution_count": 3,
     "metadata": {},
     "output_type": "execute_result"
    }
   ],
   "source": [
    "df = df[['v1','v2']]\n",
    "df.head()"
   ]
  },
  {
   "cell_type": "code",
   "execution_count": 4,
   "metadata": {},
   "outputs": [
    {
     "data": {
      "text/html": [
       "<div>\n",
       "<style scoped>\n",
       "    .dataframe tbody tr th:only-of-type {\n",
       "        vertical-align: middle;\n",
       "    }\n",
       "\n",
       "    .dataframe tbody tr th {\n",
       "        vertical-align: top;\n",
       "    }\n",
       "\n",
       "    .dataframe thead th {\n",
       "        text-align: right;\n",
       "    }\n",
       "</style>\n",
       "<table border=\"1\" class=\"dataframe\">\n",
       "  <thead>\n",
       "    <tr style=\"text-align: right;\">\n",
       "      <th></th>\n",
       "      <th>v1</th>\n",
       "      <th>v2</th>\n",
       "    </tr>\n",
       "  </thead>\n",
       "  <tbody>\n",
       "    <tr>\n",
       "      <th>count</th>\n",
       "      <td>5572</td>\n",
       "      <td>5572</td>\n",
       "    </tr>\n",
       "    <tr>\n",
       "      <th>unique</th>\n",
       "      <td>2</td>\n",
       "      <td>5169</td>\n",
       "    </tr>\n",
       "    <tr>\n",
       "      <th>top</th>\n",
       "      <td>ham</td>\n",
       "      <td>Sorry, I'll call later</td>\n",
       "    </tr>\n",
       "    <tr>\n",
       "      <th>freq</th>\n",
       "      <td>4825</td>\n",
       "      <td>30</td>\n",
       "    </tr>\n",
       "  </tbody>\n",
       "</table>\n",
       "</div>"
      ],
      "text/plain": [
       "          v1                      v2\n",
       "count   5572                    5572\n",
       "unique     2                    5169\n",
       "top      ham  Sorry, I'll call later\n",
       "freq    4825                      30"
      ]
     },
     "execution_count": 4,
     "metadata": {},
     "output_type": "execute_result"
    }
   ],
   "source": [
    "df.describe()"
   ]
  },
  {
   "cell_type": "code",
   "execution_count": 5,
   "metadata": {},
   "outputs": [
    {
     "data": {
      "text/plain": [
       "(5572, 2)"
      ]
     },
     "execution_count": 5,
     "metadata": {},
     "output_type": "execute_result"
    }
   ],
   "source": [
    "df.shape"
   ]
  },
  {
   "cell_type": "code",
   "execution_count": 6,
   "metadata": {},
   "outputs": [
    {
     "name": "stdout",
     "output_type": "stream",
     "text": [
      "(5572,)\n",
      "(5572,)\n"
     ]
    }
   ],
   "source": [
    "X = df['v2'].values\n",
    "y = df['v1'].values\n",
    "print(X.shape)\n",
    "print(y.shape)"
   ]
  },
  {
   "cell_type": "markdown",
   "metadata": {},
   "source": [
    "# Remove punctuation marks"
   ]
  },
  {
   "cell_type": "code",
   "execution_count": 7,
   "metadata": {
    "collapsed": true
   },
   "outputs": [],
   "source": [
    "for i,email in enumerate(X):\n",
    "    dummy = email.replace(\"&gt\",\"\").replace(\"&lt\",\"\")\n",
    "    email_cl = ''.join(e for e in dummy if e.isalnum() or e==' ')\n",
    "    X[i]=email_cl.strip()\n"
   ]
  },
  {
   "cell_type": "code",
   "execution_count": 8,
   "metadata": {},
   "outputs": [
    {
     "name": "stdout",
     "output_type": "stream",
     "text": [
      "Ok lar Joking wif u oni\n",
      "ham\n",
      "(5572,)\n",
      "(5572,)\n"
     ]
    }
   ],
   "source": [
    "print(X[1])\n",
    "print(y[1])\n",
    "print(X.shape)\n",
    "print(y.shape)"
   ]
  },
  {
   "cell_type": "code",
   "execution_count": 9,
   "metadata": {
    "collapsed": true
   },
   "outputs": [],
   "source": [
    "from sklearn.model_selection import train_test_split\n",
    "X_train, X_test, y_train, y_test = train_test_split(X, y, test_size=0.3)"
   ]
  },
  {
   "cell_type": "code",
   "execution_count": 15,
   "metadata": {},
   "outputs": [
    {
     "name": "stdout",
     "output_type": "stream",
     "text": [
      "521\n"
     ]
    }
   ],
   "source": [
    "print(len(y_train[y_train==\"spam\"]))"
   ]
  },
  {
   "cell_type": "markdown",
   "metadata": {},
   "source": [
    "Probability of han and spam"
   ]
  },
  {
   "cell_type": "code",
   "execution_count": 16,
   "metadata": {},
   "outputs": [
    {
     "name": "stdout",
     "output_type": "stream",
     "text": [
      "0.8664102564102564 0.1335897435897436\n"
     ]
    }
   ],
   "source": [
    "haml = len(y_train[y_train==\"ham\"])\n",
    "spaml = len(y_train[y_train==\"spam\"])\n",
    "p_ham = haml/(haml+spaml)\n",
    "p_spam = spaml/(haml+spaml)\n",
    "print(p_ham,p_spam)"
   ]
  },
  {
   "cell_type": "code",
   "execution_count": 17,
   "metadata": {},
   "outputs": [
    {
     "data": {
      "text/plain": [
       "3664"
      ]
     },
     "execution_count": 17,
     "metadata": {},
     "output_type": "execute_result"
    }
   ],
   "source": [
    "all_words = []\n",
    "for email in X_train:\n",
    "    for word in email.split(\", \"):\n",
    "        if word not in all_words:\n",
    "            all_words.append(word)\n",
    "len(all_words)"
   ]
  },
  {
   "cell_type": "markdown",
   "metadata": {},
   "source": [
    "# Finding Conditional Probabilities"
   ]
  },
  {
   "cell_type": "code",
   "execution_count": 18,
   "metadata": {
    "collapsed": true
   },
   "outputs": [],
   "source": [
    "uniq = []\n",
    "freq_ham = {}\n",
    "freq_spam = {}\n",
    "for i,email in enumerate(X_train):\n",
    "    if y_train[i]==\"spam\":\n",
    "        for word in email.split():\n",
    "            if word not in freq_spam:\n",
    "                freq_spam[word]=1\n",
    "            else:\n",
    "                freq_spam[word]+=1\n",
    "    else:\n",
    "        for word in email.split():\n",
    "            if word not in freq_ham:\n",
    "                freq_ham[word]=1\n",
    "            else:\n",
    "                freq_ham[word]+=1\n",
    "    \n",
    "        \n",
    "        "
   ]
  },
  {
   "cell_type": "code",
   "execution_count": 19,
   "metadata": {},
   "outputs": [
    {
     "name": "stdout",
     "output_type": "stream",
     "text": [
      "3015\n",
      "{'You': 52, 'have': 90, 'won': 38, 'a': 269, 'guaranteed': 20, '32000': 1, 'award': 18, 'or': 124, 'maybe': 1, 'even': 5, 'å1000': 27, 'cash': 22, 'to': 435, 'claim': 53, 'ur': 78, 'call': 125, 'free': 41, 'on': 100, '0800': 11, '18': 29, 'Its': 4, 'legitimat': 1, 'efreefone': 1, 'number': 22, 'wat': 1, 'do': 7, 'u': 42, 'think': 2, 'Not': 3, 'heard': 3, 'from': 78, 'U4': 3, 'while': 3, 'Call': 94, 'me': 24, 'now': 89, 'am': 8, 'here': 4, 'all': 14, 'night': 6, 'with': 72, 'just': 34, 'my': 7, 'knickers': 1, 'Make': 1, 'beg': 1, 'for': 119, 'it': 19, 'like': 8, 'U': 69, 'did': 1, 'last': 4, 'time': 13, '01223585236': 1, 'XX': 1, 'Luv': 5, 'Nikiyu4net': 1, 'WIN': 11, 'URGENT': 33, 'Your': 45, 'mobile': 66, 'has': 21, 'been': 27, 'awarded': 22, 'å2000': 24, 'prize': 52, 'GUARANTEED': 19, '09061790121': 1, 'land': 14, 'line': 25, '3030': 6, 'valid': 3, '12hrs': 14, 'only': 43, '150ppm': 18, 'Dear': 12, 'Matthew': 1, 'please': 15, '09063440451': 1, 'landline': 16, 'your': 122, 'complimentary': 7, '4Lux': 1, 'Tenerife': 3, 'holiday': 8, 'CASH': 13, 'await': 11, 'collection': 14, 'ppm150': 1, 'SAE': 12, 'TCs': 19, 'Box334': 1, 'SK38XH': 1, 'Had': 9, '11mths': 5, 'Update': 7, 'FREE': 75, 'Oranges': 2, 'latest': 18, 'colour': 10, 'camera': 10, 'mobiles': 6, 'unlimited': 2, 'weekend': 4, 'calls': 5, 'Mobile': 19, 'Upd8': 2, 'freefone': 2, '08000839402': 10, '2StopTx': 1, 'Summers': 1, 'finally': 1, 'Fancy': 5, 'chat': 14, 'flirt': 3, 'sexy': 12, 'singles': 4, 'in': 44, 'yr': 8, 'area': 5, 'To': 53, 'get': 37, 'MATCHED': 1, 'up': 12, 'reply': 41, 'SUMMER': 1, 'Free': 25, '2': 132, 'Join': 6, 'OptOut': 2, 'txt': 52, 'STOP': 51, 'Help08714742804': 1, 'This': 32, 'message': 14, 'is': 111, 'Welcome': 5, 'the': 121, 'new': 32, 'improved': 2, 'Sex': 3, 'Dogging': 8, 'club': 7, 'unsubscribe': 13, 'this': 31, 'service': 33, 'msgs150p': 2, 'NOKIA': 13, 'Or': 2, 'Motorola': 7, 'upto': 2, '12mths': 1, '12price': 1, 'linerental': 2, '500': 19, 'xnet': 1, 'mins100txtmth': 1, 'Btooth': 1, 'Mobileupd8': 1, '08001950382': 2, '2optoutD3WV': 1, '447801259231': 2, 'secret': 8, 'admirer': 8, 'who': 41, 'looking': 7, 'make': 10, 'contact': 46, 'Ufind': 7, 'out': 36, 'they': 9, 'Rreveal': 7, 'thinks': 9, 'UR': 17, 'so': 17, 'specialcall': 7, '09058094597': 2, 'todays': 1, 'vodafone': 2, 'numbers': 4, 'ending': 4, '0089my': 1, 'four': 1, 'digits': 1, 'are': 55, 'selected': 15, 'received': 2, 'å350': 8, 'If': 9, 'matches': 5, '09063442151': 1, 'Ur': 13, 'balance': 2, 'å600': 1, 'Next': 1, 'question': 3, 'Complete': 1, 'landmark': 1, 'Big': 1, 'A': 13, 'Bob': 1, 'B': 4, 'Barry': 1, 'C': 12, 'Ben': 1, 'Text': 30, '83738': 1, 'Good': 7, 'luck': 2, 'LORD': 1, 'OF': 2, 'THE': 3, 'RINGSRETURN': 1, 'KING': 1, 'store': 3, 'NOWREPLY': 1, 'LOTR': 2, 'by': 26, 'June': 1, '4': 84, 'Chance': 4, 'soundtrack': 1, 'CDs': 4, 'StdTxtRate': 1, 'Reply': 31, 'end': 7, 'txts': 8, '3': 14, 'content': 8, 'Enjoy': 4, 'PRIVATE': 8, '2003': 5, 'Account': 8, 'Statement': 8, 'shows': 22, '800': 5, 'unredeemed': 8, 'S': 5, 'I': 25, 'M': 5, 'points': 5, '08719899230': 1, 'Identifier': 8, 'Code': 11, '41685': 2, 'Expires': 9, '071104': 2, 'Bloomberg': 2, 'Message': 3, 'center': 2, '447797706009': 2, 'Why': 4, 'wait': 2, 'Apply': 2, 'future': 3, 'httpcareers': 2, 'bloombergcom': 2, 'subscribed': 3, 'best': 6, 'Content': 2, 'Service': 5, 'UK': 12, 'å3': 2, 'per': 34, '10': 3, 'days': 8, 'until': 3, 'you': 144, 'send': 39, '82324': 1, 'Helpline': 2, '08706091795': 2, '74355': 1, 'XMAS': 3, 'iscoming': 1, 'either': 6, 'å500': 14, 'CD': 4, 'gift': 9, 'vouchers': 10, 'entry': 17, 'r': 9, 'å100': 15, 'weekly': 17, 'draw': 23, 'MUSIC': 5, '87066': 8, 'TnC': 1, '1': 24, 'week': 38, 'membership': 2, 'our': 56, 'å100000': 2, 'Prize': 17, 'Jackpot': 2, 'Txt': 52, 'word': 18, 'CLAIM': 2, 'No': 29, '81010': 2, 'TC': 14, 'wwwdbuknet': 2, 'LCCLTD': 2, 'POBOX': 6, '4403LDNW1A7RW18': 2, '07753741225': 1, '08715203677': 1, '42478': 1, '241004': 1, 'will': 27, 'be': 32, 'receiving': 2, 'weeks': 11, 'Triple': 1, 'Echo': 1, 'ringtone': 11, 'shortly': 1, 'We': 25, 'tried': 11, 're': 5, 'offer': 9, 'of': 65, 'Video': 9, 'Handset': 2, '750': 13, 'anytime': 11, 'networks': 2, 'mins': 17, 'UNLIMITED': 4, 'TEXT': 6, 'Camcorder': 7, '08000930705': 13, 'NOW': 36, 'winner': 8, 'specially': 6, 'receive': 18, 'flights': 4, 'inc': 5, 'speak': 5, 'live': 14, 'operator': 11, '0871277810910pmin': 1, '077xxx': 1, 'WON': 17, 'Bonus': 15, 'Caller': 9, '020603': 3, '2nd': 15, 'attempt': 17, 'reach': 4, 'YOU': 21, '09066362206': 1, 'ASAP': 4, 'BOX97N7QP': 3, 'shag': 1, 'doInterested': 1, 'sextextukcom': 1, 'XXUK': 1, 'SUZY': 1, '69876': 1, 'Txts': 3, 'cost': 5, '150': 9, 'msg': 13, 'TnCs': 3, 'website': 1, 'X': 5, 'being': 4, 'contacted': 4, 'Dating': 1, 'someone': 5, 'know': 17, 'find': 15, '09064017305': 1, 'PoBox75LDNS7': 1, 'HMV': 7, 'Quiz': 8, 'cashbalance': 7, 'currently': 9, 'maximize': 7, 'cashin': 7, 'HMV1': 1, '86688': 15, '150pmsg': 9, 'Natalja': 1, '25F': 1, 'inviting': 4, 'her': 10, 'friend': 6, 'YES440': 1, 'NO440': 1, 'See': 6, 'wwwSMSacunat27081980': 1, 'Send': 13, 'FRND': 4, '62468': 4, 'CLAIRE': 2, 'havin': 1, 'borin': 1, 'alone': 2, 'wanna': 4, 'cum': 5, 'over': 5, '2nite': 3, 'Chat': 5, '09099725823': 1, 'hope': 2, 'xx': 3, 'Callså1minmoremobsEMSPOBox45PO139WA': 2, 'Hi': 9, 'Im': 11, 'sue': 1, '20': 2, 'years': 2, 'old': 1, 'and': 81, 'work': 3, 'as': 14, 'lapdancer': 1, 'love': 4, 'sex': 5, 'i': 4, 'bedroom': 1, 'text': 55, 'SUE': 1, '89555': 3, 'By': 1, 'TextOperator': 1, 'G2': 1, '1DA': 1, '150ppmsg': 1, 'wkly': 6, 'comp': 8, 'win': 23, 'FA': 4, 'Cup': 3, 'final': 8, 'tkts': 4, '21st': 2, 'May': 2, '2005': 3, '87121': 3, 'questionstd': 2, 'rateTCs': 2, 'apply': 22, '08452810075over18s': 2, 'Oh': 1, 'god': 1, 'Ive': 1, 'found': 1, 'again': 3, 'glad': 1, 'back': 15, 'xafter': 1, 'msgs': 3, 'cst': 1, 'std': 7, 'ntwk': 2, 'chg': 1, 'å150': 22, 'As': 10, 'Registered': 1, 'Subscriber': 1, 'voucher': 6, 'b': 2, 'entered': 4, 'receipt': 1, 'correct': 1, 'ans': 2, 'When': 2, 'next': 8, 'olympics': 1, '80062': 3, 'voicemail': 2, 'Please': 25, '08719181513': 2, 'ASKED': 1, '3MOBILE': 1, 'IF': 1, '0870': 4, 'CHATLINES': 1, 'INCLU': 1, 'IN': 2, 'MINS': 1, 'INDIA': 1, 'CUST': 1, 'SERVs': 1, 'SED': 1, 'YES': 11, 'L8ER': 1, 'GOT': 1, 'MEGA': 1, 'BILL': 1, 'DONT': 1, 'GIV': 1, 'SHIT': 1, 'BAILIFF': 1, 'DUE': 1, 'DAYS': 1, 'O': 1, 'å250': 10, 'WANT': 1, 'å800': 8, 'Germany': 2, 'pence': 3, 'minute': 5, 'fixed': 2, 'via': 3, 'access': 5, '0844': 2, '861': 2, '85': 4, 'prepayment': 2, 'Direct': 2, 'å400': 3, 'REWARD': 1, 'IS': 6, 'WAITING': 1, 'FOR': 6, 'Our': 2, 'computer': 3, 'randomly': 1, 'picked': 3, 'loyal': 1, 'customers': 1, 'reward': 5, 'Just': 19, '09066380611': 1, 'name': 7, 'address': 3, 'WILL': 1, 'RECEIVE': 3, 'BY': 1, 'POST': 2, 'completely': 1, 'accommodation': 1, 'at': 17, 'various': 1, 'global': 1, 'locations': 5, 'wwwphb1com': 1, 'ph08700435505150p': 1, 'Twinks': 1, 'bears': 1, 'scallies': 1, 'skins': 1, 'jocks': 1, 'calling': 3, 'Dont': 3, 'miss': 4, 'weekends': 7, 'fun': 6, '08712466669': 1, '10pmin': 3, 'stop': 31, 'texts': 10, '08712460324nat': 1, 'rate': 11, 'trying': 14, 'Todays': 13, 'that': 20, '09050001808': 2, 'Claim': 25, 'M95': 2, 'Valid12hrs': 3, 'Voucher': 6, 'Holder': 5, 'PC': 4, 'go': 11, 'httpwwwwtlpcouktext': 1, 'TsCs': 14, '09050001295': 1, 'A21': 1, 'Valid': 16, 'Xmas': 6, 'New': 11, 'Years': 2, 'Eve': 2, 'tickets': 1, 'sale': 2, 'during': 1, 'day': 5, '10am': 1, 'till': 2, '8pm': 1, 'Thurs': 1, 'Fri': 1, 'Sat': 2, 'Theyre': 1, 'selling': 1, 'fast': 1, 'RING': 1, 'TONE': 12, 'POLYS': 1, '87131': 4, 'Then': 2, 'every': 24, 'tone': 21, '0870737910216yrs': 1, 'å150wk': 1, 'How': 5, 'about': 5, 'getting': 3, 'touch': 1, 'folks': 1, 'waiting': 9, 'company': 2, 'NAME': 4, 'AGE': 5, 'opt': 8, 'community': 2, '150pSMS': 1, 'come': 1, 'takes': 3, 'little': 2, 'child': 1, 'afraid': 1, 'dark': 1, 'become': 1, 'teenager': 1, 'wants': 1, 'stay': 2, 'Romantic': 1, 'Paris': 1, 'nights': 1, 'å79': 1, 'Book': 2, 'year': 3, '08704439680TsCs': 1, 'Hello': 2, 'darling': 2, 'how': 3, 'today': 11, 'would': 1, 'why': 5, 'dont': 9, 'tell': 10, 'what': 12, 'look': 3, 'Youll': 1, 'not': 13, 'rcv': 2, 'any': 21, 'more': 15, 'svc': 1, 'For': 16, 'Hardcore': 1, 'services': 10, 'GO': 9, '69988': 1, 'nothing': 1, 'must': 2, 'Age': 1, 'Verify': 1, 'network': 18, 'try': 3, 'The': 9, 'place': 5, 'town': 3, 'meet': 5, 'exciting': 3, 'adult': 3, 'CHAT': 10, '150pMsg': 3, 'IMPORTANT': 3, 'MESSAGE': 2, 'important': 6, 'messages': 7, 'customer': 31, 'claims': 2, 'dept': 1, '13404': 1, '08717507382': 1, 'Sunshine': 5, 'Win': 8, 'super': 1, 'Sony': 6, 'DVD': 5, 'recorder': 1, 'if': 14, 'canname': 1, 'capital': 1, 'Australia': 1, 'MQUIZ': 1, '82277': 4, 'Congratulations': 8, 'yrs': 3, 'supply': 2, 'Virgin': 1, 'Records': 1, 'Mystery': 1, 'Gift': 4, '09061104283': 1, 'wwwsmsconet': 1, 'å150pm': 1, 'approx': 1, '3mins': 3, 'rude': 3, 'private': 2, '01223585334': 2, 'Wan': 2, '2C': 2, 'pics': 9, 'gettin': 2, 'shagged': 2, 'then': 6, 'PIX': 3, '8552': 4, '2End': 2, 'SAM': 2, 'xxx': 4, 'can': 17, 'date': 2, 'its': 6, '10p': 9, 'REPLY': 1, 'eg': 11, 'Sam': 1, '25': 2, 'recdthirtyeight': 1, 'FROM': 3, '88066': 3, 'LOST': 2, 'å12': 1, 'HELP': 3, 'VE': 1, 'Costa': 5, 'Del': 5, 'Sol': 5, 'Holiday': 11, 'å5000': 13, '09050090044': 4, 'Now': 9, 'toClaim': 4, 's': 2, 'POBox334': 4, 'Stockport': 4, 'SK38xh': 4, 'Costå150pm': 4, 'Max10mins': 4, '2004': 6, '0784987': 1, '786': 3, 'Points': 3, '08719180219': 1, '45239': 3, '060505': 1, 'dating': 11, '09050000928': 1, 'PoBox45W2TG150P': 1, 'SavaMob': 10, 'member': 4, 'offers': 11, 'accessible': 1, '08709501522': 1, 'details': 7, '139': 1, 'LA3': 1, '2WU': 1, 'Only': 8, 'å150week': 1, 'BangBabes': 1, 'order': 9, 'way': 1, 'SHOULD': 1, 'Msg': 2, 'download': 2, 'GoTo': 1, 'wap': 2, 'bangb': 1, 'tv': 2, 'internetservice': 1, 'menu': 1, 'GOING': 2, 'BAHAMAS': 2, 'CallFREEFONE': 2, '08081560665': 2, 'Bahamas': 2, 'cruise': 2, 'ofå2000': 2, '18only': 3, '07786200117': 2, 'Double': 10, '6months': 2, 'Bluetooth': 6, 'Orange': 14, 'Available': 2, 'Nokia': 36, 'phones': 8, 'MobileUpd8': 9, 'call2optoutN9DX': 2, 'Gnarls': 1, 'Barkleys': 1, 'Crazy': 2, 'TOTALLY': 1, 'right': 2, 'pounds': 14, '150pmeg': 1, 'CC': 6, '08718720201': 5, 'HGSuite3422lands': 1, 'RowW1j6HL': 1, 'Last': 8, '09064017295': 1, 'code': 8, 'K52': 3, '150p': 17, 'pm': 1, 'FreeMsg': 9, 'CALL': 14, '86888': 1, 'hours': 3, 'talk': 3, 'use': 2, 'phone': 24, 'Subscribe6GBPmnth': 1, '3hrs': 1, '16': 37, 'stoptxtStop': 1, 'Bears': 1, 'Pic': 1, 'Nick': 1, 'Tom': 1, 'Pete': 1, 'Dick': 1, 'In': 1, 'fact': 1, 'types': 1, 'gay': 1, 'photo': 1, 'upload': 1, '08718730666': 1, '08712460324': 3, '07808726822': 1, 'was': 7, '020903': 2, '08718729758': 1, 'BOX95QU': 3, 'Who': 1, 'sang': 1, 'Uptown': 1, 'Girl': 1, '80s': 1, 'answer': 4, 'ANSWER': 1, '83600': 3, 'WINNER': 2, 'valued': 10, 'hvae': 1, 'å900': 6, 'collect': 12, '09061701444': 1, '24': 1, 'ACL03530150PM': 2, 'into': 4, 'competition': 2, '80086': 1, 'wwwtxttowincouk': 1, 'Someone': 6, 'asked': 4, 'Cant': 3, 'Guess': 4, '09058097189': 1, 'revealed': 4, 'POBox': 9, '6': 6, 'LS15HB': 2, '07xxxxxxxxx': 1, 'bonus': 1, 'caller': 1, '09066362231': 1, '150PPM': 2, 'we': 9, 'å1450': 2, '09053750005': 1, 'b4': 3, '310303': 1, 'TCsstop': 2, 'SMS': 11, '08718725756': 1, '140ppm': 1, 'sports': 2, 'fans': 1, 'news': 4, 'str': 1, 'wk': 12, 'PLUS': 1, 'SPORT': 1, 'ON': 4, '8007': 18, 'wwwgetzedcouk': 9, '0870141701216': 1, 'norm': 2, '4txt120p': 1, '1st': 21, 'No1': 6, 'mob': 12, 'Get': 22, 'txting': 8, 'mates': 9, '36504': 6, 'W45WQ': 5, 'norm150ptone': 5, 'Show': 1, 'colours': 1, 'Euro': 1, '241': 1, 'Offer': 7, 'an': 17, 'England': 3, 'Flag': 1, '3Lions': 1, 'Click': 1, 'following': 5, 'info': 6, 'FREERingtone': 1, 'REAL': 2, 'POLY': 6, 'REAL1': 1, 'PushButton': 1, 'DontCha': 1, 'BabyGoodbye': 1, 'GoldDigger': 1, '5': 5, 'WeBeBurnin': 1, 'when': 9, 'join': 8, 'å3wk': 4, 'Shop': 1, 'Drop': 1, 'IT': 1, '10K': 1, '5K': 1, 'Cash': 4, 'Travel': 1, '09064011000': 1, 'NTT': 6, 'PO': 16, 'Box': 10, 'CR01327BT': 1, 'fixedline': 1, 'Cost': 10, 'vary': 2, 'Do': 11, 'want': 14, 'video': 13, 'handset': 4, 'Half': 4, 'Price': 2, 'Line': 1, 'Rental': 2, 'delivery': 13, 'tomorrow': 5, 'Loan': 2, 'purpose': 3, 'å75000': 2, 'Homeowners': 2, 'Tenants': 3, 'welcome': 2, 'Have': 4, 'previously': 2, 'refused': 2, 'still': 6, 'help': 7, '1956669': 2, 'FREEPHONE': 7, '542': 4, '0578': 2, 'GENT': 2, '09064012160': 2, 'EASTENDERS': 2, 'TV': 3, 'What': 4, 'FLOWER': 2, 'does': 3, 'DOT': 2, 'compare': 2, 'herself': 2, 'D': 4, 'VIOLET': 2, 'E': 4, 'TULIP': 2, 'F': 5, 'LILY': 2, '84025': 3, 'chance': 12, 'WKENT150P16': 2, 'YOUR': 2, 'CHANCE': 1, 'TO': 3, 'BE': 1, 'REALITY': 1, 'FANTASY': 1, 'SHOW': 1, '08707509020': 4, '20p': 5, 'min': 9, 'Ltd': 9, '1327': 5, 'Croydon': 5, 'CR9': 5, '5WB': 5, 'national': 4, 'W4': 1, '5WQ': 1, '150ptone': 4, 'DATE': 3, 'UKs': 6, 'fastest': 2, 'growing': 2, 'Msgs': 1, 'rcvd': 4, '25p': 5, 'optout': 1, '83021': 1, 'Collect': 1, 'VALENTINES': 1, 'PARIS': 2, 'Flight': 1, 'Hotel': 1, 'å200': 5, '69101': 1, 'wwwrtfsphostingcom': 1, 'Phone': 7, '40GB': 5, 'iPod': 6, 'MP3': 4, 'player': 8, 'COLLECT': 4, '83355': 3, 'IBHltd': 3, 'LdnW15H': 3, '150pMtmsgrcvd18': 3, 'information': 5, 'orange': 2, 'user': 6, 'lucky': 6, 'day2find': 2, 'log': 4, 'onto': 5, 'httpwwwurawinnercom': 5, 'THERES': 3, 'FANTASTIC': 4, 'SURPRISE': 3, 'AWAITING': 3, 'SIM': 1, 'subscriber': 1, 'delivered': 1, 'door': 1, 'OK': 2, '88600': 3, 'EXP': 1, '30Apr': 1, 'Gr8': 5, 'see': 6, 'sexiest': 1, 'dirtiest': 1, 'girls': 4, 'horny': 6, '89070': 2, 'cancel': 3, 'WELL': 2, 'DONE': 2, '08702490080': 1, 'tells': 1, '09066358152': 1, 'enter': 4, 'personal': 1, 'prompts': 1, 'Careful': 1, 'SplashMobile': 1, 'Choose': 5, '1000s': 4, 'gr8': 2, 'tones': 15, 'each': 5, 'subscrition': 1, 'costing': 1, '300p': 2, 'one': 3, 'credit': 4, 'kick': 2, 'ENJOY': 1, 'Lions': 2, 'lionm': 2, 'mono': 2, 'lionp': 2, 'poly': 7, 'wwwringtonescouk': 3, 'original': 3, 'n': 5, 'Tones': 5, '3GBP': 3, 'rates': 6, '3510i': 4, 'DeliveredTomorrow': 3, 'With': 5, '300': 5, 'minutes': 4, '100': 10, 'ok': 2, '80488': 3, 'well': 1, 'account': 2, '85233': 1, 'FREERingtoneReply': 1, 'cashto': 2, '08000407165': 2, 'getstop': 2, '88222': 2, 'PHP': 2, 'RG21': 1, '4JX': 1, 'Hey': 5, 'there': 8, 'no': 12, 'Id': 1, 'some': 6, 'Tb': 1, 'XxX': 2, 'chgs': 1, 'Mila': 2, 'age23': 2, 'blonde': 2, 'guys': 4, 'MTALK': 2, '6986618': 2, '30pptxt': 2, '5free': 2, 'increments': 2, 'Help08718728876': 2, '5p': 1, 'alfie': 1, 'Moons': 2, 'Children': 2, 'need': 6, 'song': 2, 'Tell': 2, 'm8s': 2, 'Tone': 6, 'charity': 4, 'Nokias': 1, 'Poly': 2, 'polys': 4, 'zed': 3, '08701417012': 2, 'profit': 2, 'TEXTBUDDY': 2, 'Search': 2, 'postcode': 3, 'gaytextbuddycom': 2, 'TXT': 8, 'ONE': 2, '89693': 2, 'another': 1, 'wwwtcbiz': 1, '150pmin': 3, 'Polo': 1, 'Suite': 1, '373': 1, 'London': 2, 'W1J': 1, '6HL': 1, 'busy': 1, 'Urgent': 8, 'trip': 2, 'EuroDisinc': 1, 'Trav': 1, 'AcoEntry41': 1, 'DIS': 1, '186å150moreFrmMob': 1, 'ShrAcomOrSglSuplt10': 1, 'LS1': 1, '3AJ': 1, 'del': 1, 'AM': 1, 'Where': 1, '2006': 1, 'FIFA': 1, 'World': 1, 'held': 1, '87239': 4, 'further': 3, 'replying': 5, 'MIX': 1, 'mytonecomenjoy': 1, 'html': 1, 'terms': 3, 'Club': 8, 'GBP450week': 1, 'MFL': 1, 'pleased': 3, 'advise': 3, 'recent': 3, 'review': 4, 'Mob': 5, 'å1500': 3, '09066364589': 2, 'conacted': 1, 'because': 2, 'fancy': 3, 'youTo': 1, '09111030116': 1, 'PoBox12n146tf15': 1, '09061701939': 1, 'S89': 1, '449050000301': 1, 'price': 9, '09050000301': 1, 'ARE': 2, 'CHOSEN': 2, 'AWARD': 2, 'Pls': 2, '09066364311': 2, 'which': 7, 'Ever': 1, 'thought': 1, 'living': 1, 'good': 3, 'life': 1, 'perfect': 1, 'partner': 4, '100pSMS': 1, 'Freemessage': 1, 'JamsterGet': 1, 'crazy': 3, 'frog': 1, 'sound': 1, 'MAD1': 1, 'real': 7, 'MAD2': 1, '88888': 2, 'sounds': 1, 'GBPweek': 1, '16only': 1, 'SERVICES': 2, 'inclusive': 2, 'credits': 4, 'pls': 5, 'goto': 3, 'wwwcomuknet': 3, 'login': 3, 'extra': 4, 'charge': 6, 'help08700469649': 1, 'BOX420': 1, 'IP4': 1, '5WE': 1, 'fancies': 3, '09058097218': 1, '09095350301': 1, 'erotic': 1, 'ecstacy': 1, '60pmin': 2, 'nat': 1, 'RINGTONE': 3, 'FIRST': 1, 'GET': 4, 'true': 3, 'Help': 2, '0845': 3, '2814032': 1, 'after': 4, '3xå150pw': 1, 'eånd': 1, 'Bored': 1, 'speed': 1, 'Try': 2, 'SPEEDCHAT': 2, '80155': 1, 'em': 1, 'SWAP': 1, 'chatter': 1, 'Chat80155': 1, 'POBox36504W45WQ': 5, 'rcd': 1, 'Want': 10, 'funk': 1, 'fone': 2, 'TONES2U': 1, 'BONUS': 2, 'SPECIAL': 2, 'genuine': 2, 'easy': 9, 'questions': 3, 'Play': 4, 'More': 6, 'infowww100percentrealcom': 2, 'lets': 3, 'other': 1, 'HGSuite3422LandsRowW1J6HL': 1, 'LDN': 4, 'Luck': 3, 'Draw': 2, '28th': 1, 'Feb': 1, '06': 1, 'removal': 2, '08708034412': 2, 'guess': 1, '09058095107': 1, '7': 2, 'S3XY': 1, 'announcement': 5, '0825': 2, 'worth': 9, 'discount': 7, 'SHOP': 2, '85023': 5, 'T': 7, 'Cs': 7, 'POBOX84': 3, 'M263UZ': 3, 'å300': 5, 'Sub': 3, '09058094454': 1, 'Uve': 5, 'invited': 4, 'XCHAT': 4, '150pMsgrcvdHGSuite3422LandsRowW1J6HL': 3, 'Save': 2, 'money': 3, 'wedding': 1, 'lingerie': 1, 'wwwbridalpetticoatdreamscouk': 1, 'superb': 1, 'selection': 4, 'Brought': 1, 'WeddingFriend': 1, 'arsenal': 1, 'dartboard': 1, 'condition': 1, 'but': 5, 'doubles': 1, 'trebles': 1, 'Moby': 2, 'Pub': 2, 'QuizWin': 2, 'High': 2, 'Street': 2, 'Duchess': 2, 'Cornwall': 2, 'first': 3, '82277unsub': 2, '008704050406': 2, 'SP': 3, 'Arrow': 1, '08717898035': 2, 'Unsub': 2, 'recieve': 1, 'within': 4, '24hrs': 1, 'Terms': 1, 'conditions': 3, 'Channel': 1, 'Teletext': 1, 'Pg': 1, 'wwwLdewcom': 1, 'win150ppmx3age16': 1, 'Mobiles': 2, 'MUST': 2, '89545': 2, 'yours': 6, 'todayFrom': 1, 'ONLY': 4, 'å1': 2, 'www4tcbiz': 2, '2optout': 2, '08718726270150gbpmtmsg18': 2, 'TXTAUCTION': 3, 'Congrats': 4, '3650': 1, '09066382422': 1, 'Calls': 3, 'Ave': 1, 'Close': 1, '300603': 1, 'post': 1, 'BCM4284': 1, 'Ldn': 1, 'WC1N3XX': 2, '09058095201': 1, 'Mins': 6, '1000': 2, 'tariffs': 3, 'Latest': 5, 'SonyEricsson': 3, 'call2optoutHF8': 1, 'Warner': 2, 'Village': 2, '83118': 1, 'Colin': 1, 'Farrell': 1, 'SWAT': 1, 'wkend': 1, 'med': 2, 'PopcornJust': 1, 'show': 1, 'msgticketkioskValid': 1, '4712': 1, 'tc': 1, 'kiosk': 1, 'SONY': 1, 'mre': 1, 'film': 1, 'Customer': 8, 'recently': 2, 'were': 3, 'unable': 2, '07090298926': 1, 'reschedule': 2, 'Ref9307622': 1, 'httptms': 1, 'widelivecomindex': 1, 'wmlid820554ad0a1705572711firsttrueåÁC': 1, 'RingtoneåÁ': 1, '10803': 1, '08714719523': 1, 'BT': 2, 'National': 3, 'Rate': 2, 'GSOH': 1, 'SPAM': 1, 'ladiesU': 1, 'could': 2, 'male': 1, 'gigolo': 1, 'uks': 1, 'mens': 1, 'ONCALL': 1, 'mjzgroup': 1, '087143423992stop': 1, 'msgå150rcvd': 1, 'Somebody': 2, 'secretly': 2, 'Wanna': 5, 'Give': 2, 'us': 5, '09065394973': 1, 'Landline': 4, 'DATEBox1282EssexCM61XN': 2, 'professional': 1, 'sport': 3, 'Tiger': 1, 'Woods': 1, 'play': 5, 'BOX': 7, '11414': 3, 'TCRW1': 3, 'UpgrdCentre': 1, 'may': 2, 'CAMERA': 2, 'PHONE': 2, 'upgrade': 2, 'loyalty': 2, '0207': 1, '153': 1, '9153': 1, 'ends': 3, '26th': 1, 'July': 1, 'Optout': 4, 'available': 1, 'str8': 1, 'Classic': 1, 'HIT': 1, 'Polys': 1, 'Nokia150p': 1, 'Poly200p': 1, 'unclaimed': 1, '09066368327': 1, 'closingdate040902': 1, 'claimcode': 1, 'M39M51': 1, 'å150pmmorefrommobile2BremovedMobyPOBox734LS27YF': 1, 'Forwarded': 3, '21870000Hi': 2, 'Mailbox': 2, 'Messaging': 2, 'alert': 2, '21': 1, '09056242159': 2, 'retrieve': 2, 'From': 7, '0871277810810': 2, 'official': 4, 'ENGLAND': 3, 'flag': 3, 'yer': 3, 'tonights': 2, 'game': 6, 'FLAG': 3, '84199': 3, 'ENG': 3, 'Box39822': 3, 'W111WX': 3, '88877FREE': 1, 'ENTER': 3, '88877': 1, 'wwwtextcompcom': 2, 'REMINDER': 1, 'O2': 5, '250': 4, 'great': 5, 'house': 1, '08708800282': 1, 'HGSuite3422Lands': 7, 'RowW1J6HL': 3, 'forget': 1, 'many': 2, 'Requests': 1, '1stchoicecouk': 1, 'wish': 2, 'Information': 1, '08707808226': 1, 'httpwwwetlpcoukexpressoffer': 2, 'apply2': 1, 'BANNEDUK': 1, 'textoperator': 2, 'g696ga': 2, 'XXX': 4, 'PREMIER': 1, 'Am': 1, 'fink': 1, 'met': 1, 'yet': 2, 'Will': 2, 'leave': 1, '2day': 2, 'wiv': 1, '09099726553': 1, 'promised': 1, 'CARLIE': 1, 'x': 3, 'Callså1minMobsmore': 1, 'LKPOBOX177HP51FL': 1, 'credited': 1, 'Messages': 2, 'activate': 2, 'CREDIT': 1, 'www80488biz': 1, 'Sorry': 2, 'missed': 1, '07090201529': 1, '87077': 5, 'Kick': 1, 'off': 3, 'season': 1, '2wks': 1, 'goals': 1, 'VILLA': 1, '3POUND': 1, 'TEXTCOMP': 1, 'wks': 2, 'follows': 1, 'subsequent': 1, 'charged150pmsg2': 1, '84128custcare': 1, '08712405020': 3, 'Camera': 5, 'SiPix': 3, 'Digital': 3, '09061221066': 2, 'fromm': 2, 'Delivery': 3, '28': 3, '09066350750': 1, 'Ibiza': 2, '10000': 1, '434': 2, 'SK3': 2, '8WP': 2, 'ppm': 3, '200': 2, 'shopping': 3, 'spree': 3, '08717895698': 1, 'MobStoreQuiz10ppm': 1, 'receivea': 1, '09061701461': 1, 'KL341': 1, '12': 7, '09061701851': 1, 'K61': 1, '12hours': 1, 'ree': 1, 'ipod': 3, 'POD': 4, '80182': 3, '08452810073': 3, 'okmail': 1, 'Dave': 1, 'notice': 2, '5000': 2, '09061743806': 1, 'Box326': 1, 'CW25WX': 2, '09061221061': 1, '28days': 1, 'Box177': 1, 'M221BP': 1, '2yr': 1, 'warranty': 1, 'p': 1, 'på399': 1, 'Final': 3, 'Subs': 2, 'PLS': 1, 'bootydelious': 1, '32F': 1, 'YES434': 1, 'NO434': 1, 'wwwSMSacubootydelious': 1, 'nokia': 2, '6230': 1, 'plus': 2, 'digital': 1, 'auction': 8, 'take': 10, 'part': 9, '83383': 1, 'POBOX11414TCRW1': 1, 'explicit': 1, 'SEX': 1, '30': 1, 'secs': 1, 'Ring': 1, '02073162414': 1, 'Costs': 1, '20pmin': 1, 'Gsex': 1, '2667': 1, 'WC1N': 1, '3XX': 1, '09066649731from': 1, 'å10000': 2, '7250i': 4, '86021': 6, 'RowW1JHL': 4, 'Are': 1, 'unique': 2, 'enough': 2, 'Find': 2, '30th': 1, 'August': 2, 'wwwareyouuniquecouk': 1, 'tddnewsletteremc1couk': 1, 'games': 5, 'TheDailyDraw': 1, 'Helen': 1, 'Dozens': 1, 'Games': 3, 'prizesWith': 1, 'It': 2, 'resent': 1, 'previous': 1, 'failed': 1, 'due': 1, 'error': 1, 'Queries': 1, 'customersqueriesnetvisionukcom': 1, '09058094565': 2, '09058091854': 1, 'BOX385': 1, 'M6': 1, '6WU': 1, 'month': 1, '50': 3, 'standard': 4, '9061100010': 1, 'Wire3net': 1, '1st4Terms': 1, 'PoBox84': 1, 'M26': 3, '3UZ': 3, 'MobcudB': 1, '3G': 2, 'Videophones': 2, 'R': 5, '09063458130': 2, 'videochat': 2, 'wid': 2, 'java': 2, 'Dload': 2, 'polypH': 1, 'music': 2, 'noline': 2, 'rentl': 2, 'bx420': 1, 'ip4': 1, '5we': 1, 'Boys': 1, 'hot': 5, 'sent': 7, 'direct': 7, 'PORN': 1, '69855': 1, '24Hrs': 1, '50p': 3, 'STOPBCM': 1, 'SF': 1, 'choice': 2, 'Weekly': 1, 'wwwLdewcomsubs161win150ppmx3': 1, 'representative': 7, '08714712379': 1, 'between': 7, '10am7pm': 2, 'HAVE': 2, 'Vodafone': 2, '09061743386': 2, 'Santa': 2, 'Would': 1, 'ones': 1, '09077818151': 1, 'book': 1, 'Calls150ppm': 1, '30s': 1, 'wwwsantacallingcom': 1, '087104711148': 1, 'BTnationalrate': 5, 'cock': 1, 'My': 1, 'hubbys': 1, 'away': 2, 'man': 1, 'satisfy': 2, 'WIFE': 1, '89938': 1, 'strings': 1, 'action': 1, 'rec': 1, 'å150ea': 1, 'OTBox': 1, '731': 1, 'LA1': 1, '7WS': 1, '22': 2, '146tf150p': 1, 'Eerie': 2, '4u': 3, 'rply': 5, 'TITLE': 3, 'DRACULA': 2, 'Titles': 3, 'GHOST': 2, 'ADDAMSFA': 2, 'MUNSTERS': 2, 'EXORCIST': 2, 'TWILIGHT': 2, '08718738034': 1, 'NEW': 8, 'five': 3, '08000776320': 2, 'Tomorrow': 2, 'ready': 6, 'Netcollex': 2, '08700621170150p': 2, 'Stop': 4, 'registered': 1, 'subscribers': 1, 'GB': 1, 'polyPH': 1, 'Here': 1, 'RP176781': 1, 'wwwregalportfoliocouk': 1, 'Services': 1, '08717205546': 1, 'Thanks': 9, 'reference': 2, 'X29': 1, 'charged': 9, '450': 2, 'Should': 4, 'arrive': 4, '09065989180': 1, '4mths': 2, 'half': 4, 'rental': 6, 'MobilesDirect': 2, '08000938767': 2, 'update': 3, 'or2stoptxt': 2, 'HOT': 4, 'LIVE': 6, 'FANTASIES': 4, '0870k': 2, 'TBSPERSOLVO': 1, 'chasing': 1, 'since': 1, 'Sept': 1, 'forå38': 1, 'definitely': 1, 'paying': 1, 'thanks': 1, 'ignore': 1, 'them': 2, 'Kath': 1, 'Manchester': 1, '09061790126': 1, 'Fantasy': 1, 'Football': 1, 'Go': 2, 'Sky': 2, 'Gamestar': 1, 'Active': 1, 'å250k': 1, 'Dream': 1, 'Team': 1, 'Scoring': 1, 'starts': 1, 'Saturday': 4, 'register': 1, 'nowSKY': 1, 'OPT': 1, 'OUT': 7, '88088': 1, 'Loyalty': 2, 'OfferThe': 1, 'Nokia6650': 1, 'å10': 2, 'START': 1, '81151': 1, '4TCtxt': 1, '150pMTmsg': 1, 'got': 3, 'these': 3, 'videopic': 1, 'fones': 1, 'WILD': 1, 'ill': 1, 'hurry': 1, 'bored': 1, '150prcvd': 1, 'STOP2stop': 1, 'logo': 3, 'lover': 2, 'names': 2, 'joined': 2, 'heart': 2, 'LOVE': 4, 'NAME1': 2, 'NAME2': 2, 'MOBNO': 2, 'ADAM': 2, 'EVE': 2, '07123456789': 2, 'Yahoo': 2, 'TxtNO': 2, 'ads': 2, 'Knock': 2, 'whose': 1, '80082': 1, 'wwwtklscom': 1, 'age16': 5, 'stoptxtstopå150week': 1, 'pic': 5, 'Jordan': 2, 'BABE': 1, 'celeb': 1, 'PocketBabecouk': 3, '087016248': 1, 'AUCTION': 3, 'BRAND': 2, '7250': 2, 'Auction': 4, 'Wan2': 2, 'MeetGreet': 2, 'Westlife': 2, 'm8': 2, 'They': 2, 'tour': 2, '1Unbreakable': 2, '2Untamed': 2, '3Unkempt': 2, '83049': 2, 'Amanda': 1, 'regard': 1, 'renewing': 1, 'upgrading': 1, 'current': 2, 'TMobile': 3, 'Tel': 1, '021': 2, '3680': 1, 'subject': 1, 'Ts': 1, 'Pound': 2, '08718726970': 1, 'top': 6, 'British': 1, 'hotels': 1, 'NOTHING': 1, 'Dial': 1, '08712300220': 4, 'Bx526': 1, 'SW73SS': 1, '600': 1, '400': 1, 'Inclusive': 1, 'AND': 2, 'downloads': 1, 'delTOMORROW': 1, '08002888812': 2, 'Got': 1, 'WRC': 1, 'Rally': 1, 'Oz': 1, 'Lucozade': 1, 'Energy': 1, 'RALLY': 1, 'LE': 1, '61200': 1, 'packs': 1, 'lucozadecoukwrc': 1, 'itcould': 1, '5903': 1, '09064019788': 1, 'BOX42WR29C': 1, '08712402972': 1, 'immediately': 3, 'urgent': 3, 'Mr': 1, 'Foley': 1, 'prizes': 1, 'soon': 2, 'keep': 2, 'eye': 1, 'visit': 4, 'wwwwin82050couk': 1, '07808': 1, 'XXXXXX': 1, '08719899217': 1, 'Important': 2, '02': 1, 'Today': 2, 'fantastic': 3, 'surprise': 2, 'awaiting': 4, '09066358361': 1, 'Y87': 1, '09066612661': 2, 'luxury': 1, 'Canary': 1, 'Islands': 1, '20M12AQ': 1, 'ÛÏ': 1, 'sms': 3, 'camcorder': 4, 'Linerental': 2, 'very': 2, 'call2optoutLF56': 2, 'holder': 1, 'meal': 1, 'Use': 1, 'link': 2, 'pc': 1, 'enjoy': 2, 'dining': 1, 'experiencehttpwwwvouch4mecometlpdiningasp': 1, 'B4U': 1, 'wc': 1, '2703': 1, 'MARSMS': 1, 'Log': 1, 'wwwB4Utelecom': 1, 'care': 4, '08717168528': 1, 'Hope': 2, 'enjoyed': 2, '61610': 2, 'help08712400602450p': 2, 'Provided': 2, 'tones2youcouk': 2, 'Bank': 2, 'Granite': 2, 'issues': 2, 'StrongBuy': 2, 'EXPLOSIVE': 2, 'PICK': 2, 'OUR': 2, 'MEMBERS': 2, 'UP': 2, 'OVER': 2, 'Nasdaq': 2, 'Symbol': 2, 'CDGT': 2, 'That': 2, '31': 1, 'December': 2, 'Buffy': 1, 'men': 1, 'Home': 1, 'feeling': 1, 'randy': 1, 'QlynnBV': 1, 'Help08700621170150p': 1, 'local': 2, 'virgins': 1, '4fil': 2, 'sexual': 1, 'Can': 4, 'theirs': 1, 'CUTE': 1, '69911å150p': 1, 'm': 1, 'httpwwwetlpcoukreward': 1, 'Wkly': 3, 'Q': 3, 'country': 3, 'Liverpool': 2, 'played': 1, 'mid': 1, 'ansr': 3, 'SPTyrone': 3, 'ALL': 1, 'mobs': 1, '2u': 1, 'BREATHE1': 1, 'CRAZYIN': 1, 'SLEEPINGWITH': 1, 'FINEST': 1, 'YMCA': 1, 'getzedcouk': 1, 'POBox365O4W45WQ': 1, 'Hottest': 1, 'straight': 1, 'Wet': 1, 'Wanting': 1, 'PICS': 1, 'costs': 1, '09050003091': 1, 'C52': 1, 'pay': 1, 'sim': 1, 'card': 1, '3680Offer': 1, '28thFebTCs': 1, 'Music': 3, 'Vouchers': 3, 'starting': 3, 'DRAW': 3, 'wwwldewcom': 1, 'SkillGame1Winaweek': 1, 'age16150ppermessSubscription': 1, 'Algarve': 2, 'Great': 3, 'News': 2, 'FREEFONE': 2, '08006344447': 2, 'Speak': 3, '0808': 3, '145': 3, '4742': 3, '9am11pm': 3, 'taking': 1, 'survey': 1, 'yesterday': 1, 'however': 1, '80160': 1, 'wwwtxt43com': 1, '07801543489': 1, 'latests': 1, 'wordCOLLECT': 1, 'No83355': 1, 'TCLLC': 1, 'NYUSA': 1, '150pMt': 1, 'msgrcvd18': 1, 'lyricalladie21F': 1, 'YES910': 1, 'NO910': 1, 'wwwSMSacuhmmross': 1, 'Hols': 1, 'stamped': 1, 'self': 1, 'envelope': 1, 'Drinks': 1, 'Us': 1, '113': 1, 'Bray': 1, 'Wicklow': 1, 'Eire': 1, 'Starts': 1, 'thesmszonecom': 1, 'anonymous': 1, 'masked': 1, 'messagesim': 1, 'sending': 2, 'theredo': 1, 'potential': 1, 'abuse': 1, 'Natalie': 1, '20F': 1, 'YES165': 1, 'NO165': 1, 'wwwSMSacunatalie2k9': 1, 'January': 1, 'Male': 1, 'Sale': 1, 'Hot': 1, 'Gay': 1, 'cheaper': 1, '08709222922': 1, '15pmin': 1, 'cheap': 1, '78pmin': 1, 'peak': 1, 'Reminder': 1, 'downloaded': 1, 'already': 1, 'paid': 1, 'Goto': 1, 'httpdoit': 1, 'mymoby': 1, 'outbid': 1, 'simonwatson5120': 1, 'Shinco': 1, 'Plyr': 1, 'bid': 3, 'acsmsrewards': 1, 'notifications': 1, 'END': 1, 'REVEAL': 4, 'So': 2, 'special': 3, '09065174042': 2, 'recd': 2, 'Cust': 2, '07821230901': 2, 'Check': 2, 'Out': 1, 'Babe': 2, 'Videos': 1, 'smsshsexnetUN': 1, 'fgkslpoPW': 1, 'fgkslpo': 1, '83039': 1, '62735å450': 1, 'Break': 1, 'AccommodationVouchers': 1, 'mustprovide': 1, '15541': 1, 'newest': 2, 'ÛÏHarry': 1, 'Potter': 1, 'Order': 2, 'Phoenix': 1, 'HARRY': 1, 'among': 1, 'readers': 1, '3000': 1, '08712402050': 1, 'BEFORE': 1, 'lines': 1, 'close': 1, '10ppm': 1, 'AG': 1, 'Promo': 1, '07742676969': 2, '08719180248': 2, 'UKP2000': 1, '09061790125': 1, '3qxj9': 2, '08702840625COMUK': 2, '220CM2': 2, '9AE': 2, 'Spanish': 2, '09050000332': 1, 'RSTM': 1, 'SW7': 1, '3SS': 1, 'UÛªve': 1, 'Bin': 1, 'Awarded': 1, 'å50': 1, 'Instant': 1, '08715203028': 1, 'EVERY': 1, '9th': 1, 'Player': 1, 'Wins': 1, 'Min': 1, 'å50å500': 1, '08718727870': 1, 'most': 1, 'sparkling': 1, 'breaks': 1, '45': 1, 'person': 1, '0121': 1, '2025050': 1, 'wwwshortbreaksorguk': 1, 'Voda': 3, '7548': 1, '350': 1, 'match': 3, 'quoting': 3, '4041': 1, 'app': 2, '100603': 1, '09066368753': 1, '97N7QP': 1, 'babe': 5, 'home': 1, 'abroad': 1, 'lonely': 1, 'xxSP': 1, 'visionsmscom': 2, 'stopCost': 1, '08712400603': 1, '08712103738': 1, 'Jamster': 1, 'wallpaper': 2, 'HEART': 1, 'Need': 3, '08701213186': 1, 'YOUVE': 1, 'Won': 1, 'Youre': 1, 'Winner': 1, '09066660100': 1, '2309': 1, 'Lux': 1, 'James': 1, 'EH74RR': 1, '169': 2, '6031': 2, '10am9pm': 2, '09111032124': 1, 'PoBox12n146tf150p': 1, 'GAME': 1, 'Rayman': 1, 'Golf': 1, 'Arcade': 2, 'settings': 1, 'save': 1, 'activ8': 1, 'Press': 1, '0': 1, 'key': 1, 'Termsapply': 1, 'Shopping': 1, 'WEEK': 1, 'Starting': 1, 'STORE': 1, '88039': 1, 'SkilGme': 1, 'TsCs08714740323': 1, '1Winawk': 1, 'å150perweeksub': 1, 'MSGWe': 1, 'billed': 1, 'mistake': 1, 'shortcode': 1, '83332Please': 1, '08081263000': 1, 'charges': 1, 'refundedThis': 1, 'POLYPHONIC': 3, 'PT2': 2, '87575': 4, 'txtin': 3, 'friends': 3, 'HL': 5, '4info': 3, 'Youve': 2, 'EURO2004': 2, 'CUP': 2, 'FINAL': 2, '09058099801': 2, 'b4190604': 2, '7876150ppm': 2, 'FREE2DAY': 2, 'St': 2, 'Georges': 2, 'Day': 3, 'JordanTxt': 2, 'PIC': 2, '89080': 2, 'saucy': 2, 'celeb4': 2, 'c': 3, '0870241182716': 2, 'Guaranteed': 1, '09071517866': 1, '150ppmPOBox10183BhamB64XE': 1, 'GENDER': 1, 'begin': 1, '24M': 1, 'becausethey': 1, '09058098002': 1, 'PoBox1': 1, 'W14RG': 1, 'Amy': 1, 'couple': 1, 'give': 3, 'parties': 1, 'ten': 1, '83435': 1, 'ever': 1, 'youre': 1, 'driving': 2, 'anyone': 1, 'going': 1, 'slower': 1, 'than': 2, 'idiot': 1, 'everyone': 1, 'faster': 1, 'maniac': 1, 'Thank': 1, 'notified': 1, 'marketing': 1, '84122': 1, '08450542832': 1, 'wont': 2, 'believe': 2, 'Incredible': 2, 'G': 2, 'learn': 2, 'truly': 2, 'amazing': 3, 'things': 2, 'blow': 2, 'mind': 2, 'O2FWD': 2, '18ptxt': 2, 'leading': 1, '151': 1, 'pause': 1, 'Care': 1, '08718726270': 2, 'Dorothykiefercom': 1, 'wwwIdewcom': 2, 'SkillGame': 2, '1Winaweek': 2, '150ppermessSubscription': 2, '125gift': 1, 'Chloe': 1, 'smashed': 1, 'saturday': 1, 'missing': 1, '150ptext': 1, 'laid': 3, 'tonight': 2, 'largest': 4, 'Network': 3, 'bt': 1, 'Txting': 1, 'GRAVEL': 1, '69888': 1, 'Nt': 1, 'ec2a': 4, '31pmsg150p': 2, 'Marvel': 1, 'Ultimate': 1, 'Spiderman': 1, 'å450': 3, 'SPIDER': 1, '83338': 1, 'll': 1, '8Ball': 1, '0776xxxxxxx': 1, '18yrs': 2, 'HALF': 1, 'PRICE': 1, 'Wed': 1, '11': 2, 'months': 2, 'entitled': 2, 'Co': 2, '08002986030': 1, 'Top': 1, 'sub': 1, 'ringtoneget': 1, 'freesend': 1, 'SUBPOLY': 1, '816183': 1, 'weekstop': 1, 'sms08718727870': 1, '09061743810': 1, 'ABTA': 2, '326': 1, '123': 2, '09050002311': 1, 'b4280703': 1, '08718727868': 1, 'Over': 1, '80878': 1, 'wwwtxt2shopcom': 1, 'custcare': 5, '08715705022': 2, '1x150pwk': 4, 'ID': 1, '1172': 1, 'Back': 1, '2morro': 1, 'term': 2, 'passion': 1, 'B4': 1, '09099726481': 1, 'DENA': 1, 'å1minMobsmoreLKPOBOX177HP51FL': 1, 'messagesText': 1, 'nowUse': 1, 'web2mobile': 1, 'etc': 3, 'Txt250com': 1, '150pwk': 1, 'BOX139': 1, 'LA32WU': 1, 'Remove': 2, 'txtX': 1, '08715205273': 1, 'ACTION': 2, '80608': 2, 'wwwmovietriviatv': 2, '08712405022': 2, '2StopTxt': 1, 'Email': 1, 'AlertFrom': 1, 'Jeri': 1, 'StewartSize': 1, '2KBSubject': 1, 'Lowcost': 1, 'prescripiton': 1, 'drvgsTo': 1, 'listen': 1, 'email': 1, 'PLAY': 2, '83370': 1, 'wwwmusictrivianet': 1, 'KEEP': 2, 'NGage': 1, 'deck': 1, 'wwwcnupdatescomnewsletter': 1, 'alerts': 1, 'SIX': 2, 'chances': 2, '20000': 2, 'CSH11': 2, '150pday': 2, '6days': 2, 'TsandCs': 2, '08714712412': 1, '09065394514': 1, 'RTKIng': 1, 'Pro': 1, 'inforingtonekingcouk': 1, '08701237397': 1, 'redeemable': 1, 'wwwringtonekingcouk': 1, 'PICSFREE1': 2, 'vid': 1, 'keyword': 1, 'subscription': 2, 'Ringtone': 5, 'å5month': 1, 'confirm': 1, 'NO': 2, 'ou': 1, 'ringtoneking': 1, '84484': 1, 'PARK': 1, '69696': 2, 'Nyt': 1, '3lp': 2, 'å150msg': 2, 'wwwtelediscountcouk': 1, 'really': 1, 'naked': 1, '69698': 2, '150pm': 2, 'Goal': 1, 'Arsenal': 2, 'Henry': 2, 'v': 1, 'scores': 1, 'simple': 1, 'shot': 1, 'yards': 1, 'pass': 2, 'Bergkamp': 1, 'goal': 1, 'margin': 1, '78': 1, '08712402578': 1, 'baby': 2, 'wow': 1, 'cam': 2, 'moby': 2, 'chatIm': 1, 'w8in': 1, '4uTxt': 1, '82242': 3, 'Hlp': 2, '08712317606': 2, 'Msg150p': 2, '2rcv': 2, 'Valentines': 1, 'Special': 1, 'quiz': 2, 'lifetime': 1, 'CustCare08718720201': 1, '0721072': 1, 'Spook': 1, 'Halloween': 1, 'eerie': 1, 'CARD': 1, 'SPOOK': 1, '08701417012150p': 1, 'logopic': 1, '7634': 1, '7684': 1, 'TOP': 1, '08452810071': 1, 'Euro2004': 2, 'kept': 2, 'results': 2, 'daily': 2, 'removed': 1, '83222': 2, 'SEXYCHAT': 1, 'chatting': 2, '08715203652': 1, '42810': 1, '29100': 1, 'posh': 1, 'birds': 1, 'chaps': 1, 'trial': 1, 'prods': 1, 'champneys': 1, 'put': 1, 'down': 1, 'dob': 1, 'asap': 1, 'Ta': 1, '8077': 2, 'wwwApplausestorecom': 1, 'MonthlySubscription50pmsg': 1, 'max6month': 1, 'TCsC': 1, 'web': 1, '2stop': 1, 'quality': 2, 'items': 1, '7cfca1a': 1, '087147123779am7pm': 1, 'INFORMATION': 2, 'USER': 2, 'TODAY': 2, 'LUCKY': 2, 'DAY': 1, 'FIND': 2, 'WHY': 2, 'LOG': 2, 'ONTO': 2, 'HTTPWWWURAWINNERCOM': 1, 'THERE': 1, '07973788240': 1, '08715203649': 1, '40533': 1, '311004': 1, 'brand': 1, 'agent': 1, 'Plus': 1, 'loads': 1, 'goodies': 1, 'MAT': 1, '87021': 2, 'SMSSERVICES': 1, 'yourinclusive': 1, 'chart': 1, 'choose': 1, 'shy': 1, '09058091870': 1, 'POBox84': 1, '09058094507': 1, 'mths': 3, 'cross': 1, 'Call2OptOut674': 1, 'ORANGE': 1, '0796XXXXXX': 1, 'DAY2': 1, 'PRIZEAWAITING': 1, '09066368470': 1, 'TheMobHit': 1, 'premium': 2, 'Pink': 1, 'Panther': 1, 'Sugababes': 1, 'Zebra': 1, 'animation': 1, 'badass': 1, 'Hoody': 1, 'wallpaperall': 1, 'Alfie': 1, 'CHARITY': 2, 'nokias': 1, 'UU': 2, 'å1000CALL': 1, '09071512432': 1, '300603tcsBCM4235WC1N3XXcallcost150ppmmobilesvary': 1, 'maxå7': 2, 'contract': 1, 'Mnths': 1, 'callback': 2, 'remove': 1, 'records': 1, 'NOK': 1, 'Colour': 1, 'Delivered': 1, '08718726978': 1, '08707500020': 1, 'å125': 1, 'Freeentry': 1, 'xt': 1, 'wwwldewcom1win150ppmx3age16': 1, '09066362220': 1, 'MOB': 1, 'package': 1, '54': 1, 'resubmit': 1, 'request': 1, 'expiry': 1, 'THEMOB': 1, 'X49Your': 1, '09065989182': 1, 'LookAtMe': 2, 'purchase': 1, 'clip': 1, 'youve': 1, '35p': 1, 'Think': 2, 'better': 1, 'MMSto': 1, '32323': 1, 'Reference': 1, 'T91': 1, 'GBP': 1, '09057039994': 1, 'cmon': 1, 'turn': 1, 'fantasy': 1, 'sticky': 1, 'All': 1, 'replies': 1, 'phone750': 1, 'dream': 1, 'Is': 1, 'career': 1, 'flyng': 1, 'start': 1, 'HORO': 2, 'followed': 1, 'star': 1, 'sign': 1, 'e': 1, 'g': 1, 'ARIES': 1, '84128': 2, 'cust': 1, '40': 1, 'cc100pmin': 1, 'Loans': 1, 'Bad': 1, 'Credit': 1, 'NoWorriesLoanscom': 1, '08717111821': 1, 'Did': 1, 'hear': 2, 'Divorce': 1, 'Barbie': 1, 'comes': 2, 'Kens': 1, 'stuff': 1, 'Single': 1, 'people': 1, 'nowSend': 1, '62220Cncl': 1, 'STOPCS': 1, '08717890890å150': 1, 'vouchersText': 1, 'nowSavaMobmember': 1, '09058094599': 2, 'garden': 2, 'summer': 4, 'bulbs': 2, 'seeds': 2, 'å3350': 2, 'Scotsman': 2, 'go2': 2, 'notxtcouk': 2, 'brings': 1, 'ringtones': 1, 'Chart': 1, 'Heroes': 1, 'hit': 2, 'Ringtones': 1, 'Pics': 1, 'tips': 1, 'YESTERDAY': 2, '09061702893': 2, 'RGENT': 1, 'å1250': 1, '09071512433': 1, '050703': 1, 'TCsBCM4235WC1N3XX': 1, 'callcost': 1, 'mobilesvary': 1, 'annoncement': 1, '07046744435': 1, 'arrange': 1, '08715500022': 1, 'rpl': 1, 'cnl': 1, '07099833605': 1, 'Ref9280114': 1, 'im': 1, 'wet': 1, 'warm': 1, 'porn': 1, 'THIS': 1, 'MSG': 1, 'RECD': 1, 'MSGS': 1, '150P': 1, 'INC': 1, 'VAT': 1, 'CANCEL': 1, 'subs': 1, 'expired': 1, 'resub': 1, 'MONOC': 1, 'monos': 1, 'POLYC': 1, 'Stream': 1, '0871212025016': 1, 'flirting': 1, 'GIRL': 2, 'BLOKE': 1, 'ZOE': 1, 'RECPT': 1, '13': 1, 'ordered': 2, 'processed': 1, 'kickoff': 1, 'informed': 1, 'Unsubscribe': 2, 'EURO': 1, 'movie': 1, '89105': 1, 'Extra': 1, 'films': 2, 'ts': 1, 'cs': 1, 'Someonone': 1, '09064015307': 1, 'BOX334SK38ch': 1, 'DOUBLE': 2, '2stoptxt': 1, 'TEXTPOD': 1, 'wwwtextpodnet': 1, '07734396839': 1, 'IBH': 1, 'NOKIA6600': 1, 'TXTAUCTIONTxt': 1, 'wordSTART': 1, 'No81151': 1, 'Yours': 1, 'Now4T': 1, '08718729755': 1, 'FreeMsgFeelin': 1, 'kinda': 1, 'lnly': 1, 'Jst': 1, 'picTxt': 1, 'ref': 2, 'K718': 1, '09065069120': 1, '08712101358': 1, '08712402779': 1, 'wamma': 1, 'laidwant': 1, 'doggin': 1, 'dogging': 1, 'dogs': 1, 'nownyt': 1, '0906346330': 1, '47': 1, 'PO19': 1, '2EZ': 1, '09050000460': 1, 'J89': 1, 'po': 1, 'box245c2150pm': 1, 'set': 1, '09096102316': 1, '2moro': 1, 'JANE': 1, '08712400200': 1, '09058094594': 1, 'CoolMob': 1, 'include': 1, 'FrogAXEL': 1, 'AkonLonely': 1, 'Black': 1, 'EyedDont': 1, 'P': 1, 'cameravideo': 1, 'ås': 1, 'textsweekend': 1, 'orno': 1, '0789xxxxxxx': 1, 'ya': 1, '4goten': 1, 'bout': 1, 'scammers': 1, 'smartThough': 1, 'regular': 1, 'respond': 1, 'prem': 1, 'msgsubscription': 1, 'Other': 1, 'nos': 1, 'used': 1, 'also': 1, 'Beware': 1, 'BTooth': 1, 'FREENokia': 1, 'or2optoutHV9D': 1, 'Phony': 1, 'XXXX': 1, '3100': 1, 'datingi': 1, 'had': 1, 'two': 1, 'started': 1, 'radio': 1, 'Any': 1, 'connection': 1, 'coincidence': 1, '09058094455': 1, 'CameraVideo': 1, 'SAME': 1, 'NUMBER': 1, 'minstexts': 1, 'Activate': 1, 'www07781482378com': 1, 'Rock': 1, 'chik': 1, '100s': 1, 'filthy': 1, 'FILTH': 1, '69669': 1, 'Saristar': 1, 'E14': 1, '9YT': 1, '08701752560': 1, '450p': 1, 'Stop2': 1, 'nasty': 1, 'thing': 1, 'filthyguys': 1, 'bitch': 1, 'slo': 1, 'hard': 1, 'SLO4msgs': 1, 'ac': 1, 'sun0819': 1, 'posts': 1, 'HELLOYou': 1, 'seem': 1, 'cool': 1, 'draws': 1, 'MOAN': 1, '69888Nyt': 1, 'smart': 1, '85222': 1, 'nowTCs': 1, 'WinnersClub': 1, '84': 1, 'GBP150week': 1, 'Boltblue': 1, 'MONO': 1, 'POLY3': 1, 'Cha': 2, 'Slide': 1, 'Yeah': 1, 'Slow': 1, 'Jamz': 1, 'Toxic': 1, '8': 1, 'Come': 1, 'Me': 1, 'MORE': 1, 'response': 1, '44': 1, '7732584351': 1, 'Well': 1, 'done': 1, 'Hard': 1, '121': 1, 'girl': 1, 'connect': 1, '09094646899': 1, 'Cheap': 1, 'biggest': 1, 'VU': 1, 'BCM1896WC1N3XX': 1, 'Select': 1, 'added': 1, 'benefits': 1, 'trained': 1, 'advisors': 1, 'dialling': 1, '402': 1, 'Block': 1, 'Breaker': 1, 'deluxe': 1, 'format': 1, 'features': 1, 'graphics': 1, 'Buy': 1, 'å5': 1, 'BBDELUXE': 1, 'challenge': 1, '2nights': 1, 'Uks': 1, 'wildest': 1, 'å1million': 1, 'ppt150x3normal': 1, 'box403': 1, 'w1t1jy': 1, 'VIDEO': 1, 'Secret': 1, 'Admirer': 1, '09065171142stopsms08718727870150ppm': 1, 'ring': 1, '09050005321': 1, 'cinema': 1, '09061209465': 1, 'Suprman': 1, 'V': 1, 'Matrix3': 1, 'StarWars3': 1, 'bx420ip45we': 1, 'RCT': 1, 'THNQ': 1, 'Adrian': 1, 'Rgds': 1, 'Vatian': 1, 'class': 2, 'airport': 1, 'lounge': 1, 'passes': 1, 'using': 2, '08704439680': 1, 'booking': 1, 'quote': 1, 'laugh': 1, 'CHITCHAT': 1, 'Logon': 1, '8883': 1, 'CM': 1, '4217': 1, 'W1A': 1, '6ZF': 1, '118pmsg': 1, 'MESSAGEThanks': 1, 'Subscription': 1, '150pMSGRCVD': 1, 'Skip': 1, 'CustomerCare': 1, 'havent': 1, 'replied': 1, 'Randy': 1, 'female': 1, 'R836': 1, '09065069154': 1, '08002986906': 1, 'UpdateNow': 1, 'call2optoutF4Q': 1, '88800': 1, '89034': 1, '08718711108': 1, 'TheMob': 1, 'Gossip': 1, 'babes': 1, 'Keep': 1, 'fit': 1, 'funky': 1, 'WAP': 1, '82468': 1, 'Filthy': 1, 'stories': 1, 'GIRLS': 1, 'INTERFLORA': 1, 'åÒIts': 1, 'too': 1, 'late': 1, 'Interflora': 1, 'flowers': 1, 'christmas': 1, '505060': 1, 'before': 1, 'Midnight': 1, 'SUPER': 1, 'SN': 1, 'PoBox202': 1, 'NR31': 1, '7ZS': 1, '450pw': 1}\n"
     ]
    }
   ],
   "source": [
    "print(len(freq_spam))\n",
    "print(freq_spam)"
   ]
  },
  {
   "cell_type": "code",
   "execution_count": 20,
   "metadata": {},
   "outputs": [
    {
     "name": "stdout",
     "output_type": "stream",
     "text": [
      "7470\n",
      "{'Sir': 10, 'Waiting': 5, 'for': 338, 'your': 259, 'mail': 16, 'So': 84, 'is': 456, 'there': 110, 'anything': 42, 'specific': 2, 'I': 1037, 'should': 52, 'be': 222, 'doing': 54, 'with': 163, 'regards': 4, 'to': 1064, 'jaklin': 1, 'or': 136, 'what': 93, 'because': 22, 'idk': 1, 'the': 712, 'fuck': 11, 'Sounds': 7, 'great': 51, 'Are': 61, 'you': 1108, 'home': 114, 'now': 179, 'hate': 5, 'when': 158, 'she': 62, 'does': 17, 'this': 141, 'She': 33, 'turns': 5, 'a': 638, 'fun': 17, 'shopping': 13, 'trip': 11, 'into': 22, 'an': 58, 'annoying': 1, 'day': 119, 'of': 358, 'how': 84, 'everything': 21, 'would': 48, 'look': 19, 'in': 541, 'her': 73, 'house': 23, 'Wow': 6, 'v': 21, 'impressed': 1, 'Have': 52, 'funs': 1, 'Mm': 7, 'yes': 8, 'dear': 39, 'i': 535, 'am': 132, 'hugging': 1, 'both': 8, 'P': 6, 'Im': 206, 'done': 29, 'add': 6, 'that': 298, 'dont': 142, 'really': 53, 'care': 42, 'and': 512, 'if': 158, 'cant': 86, 'can': 192, 'at': 239, 'least': 10, 'get': 204, 'dude': 9, 'off': 34, 'but': 190, 'hey': 3, 'money': 39, 'want': 102, 'it': 372, 'Oh': 54, 'ho': 4, 'Is': 33, 'first': 30, 'time': 120, 'u': 496, 'use': 22, 'these': 8, 'type': 11, 'words': 15, 'said': 59, 'kiss': 24, 'do': 194, 'sound': 9, 'effects': 2, 'He': 33, 'gorgeous': 3, 'man': 24, 'isnt': 9, 'he': 106, 'Kind': 3, 'person': 21, 'who': 34, 'needs': 11, 'smile': 21, 'brighten': 1, 'his': 40, 'Thats': 32, 'cool': 19, 'princess': 17, 'will': 190, 'cover': 4, 'face': 25, 'hot': 7, 'sticky': 1, 'cum': 6, 'Aww': 2, 'must': 12, 'nearly': 2, 'deadWell': 1, 'Jez': 1, 'isComing': 1, 'over': 44, 'toDo': 1, 'some': 75, 'workAnd': 1, 'whillTake': 1, 'forever': 7, 'Hi': 54, 'Do': 64, 'join': 10, 'me': 477, 'sts': 1, 'later': 86, 'Meeting': 2, 'them': 56, 'five': 3, 'Call': 16, 'after': 50, 'class': 34, 'Went': 4, 'fast': 11, 'asleep': 5, 'deartake': 1, 'Lol': 38, 'know': 163, 'Theyre': 2, 'so': 199, 'dramatic': 1, 'Schools': 1, 'already': 55, 'closed': 2, 'tomorrow': 48, 'Apparently': 1, 'we': 161, 'drive': 11, 'inch': 2, 'snow': 10, 'were': 50, 'supposed': 9, 'And': 66, 'my': 431, 'carlos': 6, 'definitely': 4, 'coming': 34, 'by': 91, 'mu': 9, 'tonight': 38, 'no': 88, 'excuses': 2, 'was': 141, 'gonna': 42, 'last': 41, 'month': 23, 'cashed': 1, 'left': 16, 'just': 143, 'case': 7, 'collecting': 2, 'more': 51, 'during': 6, 'week': 43, 'cause': 14, 'they': 55, 'announced': 1, 'on': 249, 'blog': 1, 'good': 92, 'mornin': 1, 'Thanku': 1, 'wish': 27, 'd': 60, 'same': 28, 'Ill': 106, 'talk': 27, 'others': 5, 'probably': 18, 'come': 139, 'early': 20, 'then': 103, 'Forgot': 4, 'takes': 10, '3': 30, 'years': 12, 'shower': 9, 'sorry': 29, 'Where': 29, 'atyour': 1, 'phone': 52, 'dead': 3, 'yet': 35, 'Kallis': 1, 'wont': 39, 'bat': 1, '2nd': 7, 'innings': 2, 'Good': 51, 'Morning': 5, 'Dear': 26, 'amp': 57, 'successful': 2, 'Darren': 4, 'saying': 13, 'dat': 24, 'meeting': 22, 'da': 88, 'ge': 4, 'den': 16, 'dun': 35, 'meet': 47, '4': 113, 'dinner': 29, 'Cos': 16, 'leave': 35, 'xy': 4, 'feel': 40, 'awkward': 1, 'Den': 8, 'him': 80, 'lunch': 28, 'lor': 106, 'Not': 39, 'chikkugoing': 1, 'room': 21, 'nw': 4, 'im': 96, 'bus': 17, 'morning': 44, 'pookie': 1, 'pie': 2, 'hope': 31, 'didnt': 58, 'wake': 14, 'up': 176, 'town': 19, 'ill': 40, 'jus': 15, 'take': 61, 'mrt': 5, 'down': 39, 'No': 102, 'worries': 7, 'photo': 4, 'shoot': 2, 'went': 37, 'well': 54, 'have': 243, 'spiffing': 1, 'workage': 1, 'outside': 10, 'office': 16, 'all': 146, 'from': 92, 'Yar': 8, 'else': 18, 'thk': 31, 'sorts': 1, 'funny': 3, 'things': 34, 'think': 89, 'Should': 11, 'say': 55, 'syllabus': 1, 'Hey': 64, 'online': 16, 'Use': 2, 'msn': 2, 'We': 55, 'are': 229, 'Kothi': 1, 'print': 1, 'out': 147, 'marandratha': 1, 'Thank': 13, 'much': 73, 'When': 35, 'skyped': 1, 'wit': 12, 'kz': 1, 'sura': 1, 'pleasure': 2, 'company': 10, 'Hope': 22, 'Weve': 1, 'given': 1, 'ultimatum': 1, 'oh': 24, 'countin': 1, 'aburo': 1, 'Enjoy': 7, 'This': 29, 'message': 36, 'sent': 43, 'days': 19, 'ago': 7, 'Sorry': 79, 'call': 137, 'Text': 2, 'If': 72, 'doesnt': 14, 'reply': 25, 'let': 39, 'log': 4, 'One': 9, 'crab': 2, 'running': 5, 'sea': 13, 'shoreThe': 1, 'waves': 1, 'came': 19, 'n': 95, 'cleared': 3, 'footprints': 3, 'Crab': 1, 'asked': 18, 'being': 28, 'frnd': 6, 'y': 20, 'r': 64, 'clearing': 1, 'beautiful': 5, 'Waves': 1, 'replied': 2, 'A': 57, 'fox': 1, 'following': 1, 'ur': 128, 'catch': 5, 'thats': 36, 'frndsship': 1, 'never': 23, 'lets': 4, 'dwn': 1, 'GUD': 2, 'nyt': 7, 'see': 74, 'letter': 3, 'B': 5, 'car': 28, 'Just': 62, 'got': 141, 'very': 43, 'soon': 32, 'Û': 10, 'hadnt': 1, 'put': 19, 'clocks': 1, 'back': 79, 'til': 21, '8': 12, 'shouted': 2, 'everyone': 9, 'realised': 1, '7': 20, 'wahay': 1, 'another': 21, 'hour': 19, 'bed': 23, 'Alright': 9, 'bring': 17, 'like': 142, 'mins': 11, 'Joys': 8, 'father': 12, 'John': 8, 'Then': 42, 'ans': 5, 'ths': 2, 'hav': 15, 'IQ': 3, 'Tis': 2, 's': 9, 'IAS': 2, 'question': 9, 'try': 27, 'answer': 10, 'dawhere': 1, 'Yep': 6, 'fine': 27, '730': 3, '830': 2, 'ice': 6, 'age': 4, 'nothis': 1, 'kallis': 4, 'groundamla': 1, 'durban': 2, 'need': 98, 'go': 154, 'could': 28, 'starve': 1, 'lose': 15, 'pound': 2, 'end': 17, 'Was': 10, 'farm': 2, 'open': 9, 'ok': 81, 'lot': 18, 'has': 61, 'happened': 13, 'here': 77, 'Feels': 1, 'quiet': 2, 'Beth': 1, 'aunts': 2, 'charlie': 1, 'working': 21, 'lots': 8, 'helen': 1, 'mo': 6, 'How': 99, 'been': 52, 'Make': 7, 'girl': 17, 'Happy': 39, 'Its': 74, 'not': 224, 'difficult': 8, 'make': 53, 'girls': 7, 'happy': 35, 'U': 181, 'only': 84, '1': 39, 'friend': 24, '2': 212, 'Companion': 1, 'Lover': 4, 'Chef': 1, 'listener': 1, 'Organizer': 1, 'boyfriend': 1, 'Very': 6, 'clean': 6, 'Sympathetic': 1, 'Athletic': 1, 'Warm': 1, 'Courageous': 1, 'Determined': 1, 'True': 4, 'Dependable': 1, 'Intelligent': 1, 'Psychologist': 1, 'Pest': 1, 'exterminator': 1, 'Psychiatrist': 1, 'Healer': 1, 'Stylist': 1, 'Driver': 1, 'Aaniye': 1, 'pudunga': 1, 'venaam': 1, 'Did': 32, 'somebody': 6, 'named': 1, 'tampa': 6, 'gone': 11, 'mad': 3, 'many': 41, 'pending': 2, 'works': 4, 'You': 139, 'mean': 18, 'website': 2, 'Yes': 43, 'Shhhhh': 1, 'nobody': 2, 'What': 80, 'Hello': 25, 'wats': 6, 'talks': 1, 'email': 14, 'address': 11, 'Please': 23, 'ask': 56, 'mummy': 3, 'Bugis': 1, 'oso': 17, 'near': 6, 'wat': 50, 'Nothing': 10, 'bit': 26, 'bored': 13, 'too': 72, 'sleep': 37, 'today': 63, 'Ssindia': 1, 'going': 109, 'draw': 4, 'series': 4, 'south': 4, 'african': 1, 'soil': 1, 'sweets': 2, 'pizza': 5, 'bout': 9, 'nite': 11, 'wasnåÕt': 1, 'fault': 6, 'spouse': 1, 'pmt': 1, 'sumthin': 1, '4give': 1, 'shldxxxx': 1, 'New': 11, 'Theory': 2, 'Argument': 2, 'wins': 2, 'SITUATION': 2, 'loses': 2, 'PERSON': 2, 'argue': 3, 'friends': 31, 'kick': 4, 'always': 31, 'correct': 6, 'bucks': 6, 'Can': 52, 'plz': 15, 'tell': 68, 'BSLVYL': 12, 'via': 5, 'fullonsmscom': 5, 'mentor': 1, '100': 1, 'percent': 1, 'sure': 39, 'wear': 5, 'jeans': 1, 'As': 19, 'usualiam': 3, 'Honeybee': 3, 'Said': 6, 'Sweetest': 3, 'World': 5, 'God': 15, 'Laughed': 3, 'WaitU': 3, 'Havnt': 3, 'Met': 3, 'Person': 5, 'Reading': 4, 'Msg': 4, 'MORAL': 3, 'Even': 11, 'GOD': 5, 'Crack': 3, 'Jokes': 3, 'GMGNGEGN': 3, 'custom': 2, 'officer': 1, 'discount': 1, 'late': 42, 'school': 15, 'night': 62, 'ESPECIALLY': 1, 'one': 102, 'missed': 14, 'wednesday': 4, 'failed': 2, 'test': 14, 'friday': 7, 'Japanese': 1, 'Proverb': 1, 'none': 3, 'itU': 1, 'Indian': 2, 'version': 2, 'LET': 1, 'HIM': 1, 'DO': 6, 'itLEAVE': 1, 'finally': 6, 'Kerala': 1, 'Stop': 4, 'strike': 1, 'against': 3, 'Yeah': 37, 'random': 4, 'change': 13, 'our': 36, 'info': 2, 'sheets': 3, 'PARTY': 2, 'NEVER': 1, 'STUDY': 1, 'safe': 6, 'technical': 3, 'support': 4, 'voice': 8, 'processnetworking': 1, 'field': 2, 'Sent': 3, 'id': 15, 'Come': 10, 'point': 10, 'iron': 1, 'plan': 23, 'weekend': 18, 'christmassy': 1, 'THATåÕS': 2, 'ALRITE': 4, 'GIRL': 3, 'KNOW': 5, 'GAIL': 1, 'IS': 8, 'NEVA': 2, 'WRONGTAKE': 1, 'CARE': 3, 'SWEET': 2, 'AND': 8, 'DONåÕT': 3, 'WORRYC': 1, 'L8TR': 1, 'HUNLOVE': 1, 'Yaxxx': 1, 'Nigeria': 3, 'Wish': 9, 'happiness': 8, 'share': 6, 'moments': 3, 'billion': 2, 'classes': 2, 'right': 53, 'wipro': 1, 'interview': 3, 'Ok': 111, 'stay': 14, 'its': 121, 'tough': 5, 'optimistic': 1, 'improve': 2, 'lit': 1, 'hair': 18, 'fire': 2, 'SHIT': 2, 'BABE': 9, 'THASA': 1, 'BIT': 2, 'MESSED': 1, 'UPYEH': 1, 'excellent': 3, 'spent': 8, 'Air': 1, 'Force': 1, 'Iraq': 1, 'afghanistan': 1, 'stable': 1, 'honest': 1, 'traveling': 1, 'way': 72, 'food': 17, 'fridge': 1, 'Want': 6, 'meal': 2, 'actually': 14, 'quite': 15, 'slow': 7, 'Haha': 29, 'Guess': 5, 'easy': 8, 'enough': 22, 'LOL': 5, 'busy': 10, 'Aight': 19, 'sounds': 4, 'Dearregret': 1, 'cudnt': 1, 'pick': 40, 'calldrove': 1, 'frm': 9, 'ctla': 1, 'cochin': 2, 'homeleft': 1, 'mobile': 10, 'carente': 1, 'style': 6, 'ishtamayoohappy': 1, 'bakrid': 1, 'Ur': 26, 'luck': 5, 'Love': 21, 'someone': 28, 'fortune': 1, 'Loves': 5, 'But': 96, 'Sure': 3, 'thing': 41, 'big': 23, 'hockey': 1, 'elections': 1, '6': 22, 'shouldnÛt': 1, 'longer': 4, 'than': 26, 'though': 17, 'Oops': 5, 'check': 18, 'mind': 26, 'picking': 9, 'tomo': 14, 'half': 16, 'eight': 2, 'station': 3, 'Would': 4, 'born': 3, 'Another': 3, 'IDIOT': 1, 'keep': 39, 'those': 20, 'pix': 3, 'cumming': 1, 'thank': 6, 'trouble': 6, 'while': 17, 'convincingjust': 1, 'tel': 6, 'once': 17, 'twice': 5, 'neglect': 1, 'msgs': 5, 'c': 26, 'read': 6, 'itjust': 1, 'Honey': 3, 'Sweetheart': 1, 'Darling': 1, 'Sexy': 1, 'buns': 3, 'Sugar': 1, 'plum': 1, 'Loverboy': 1, 'miss': 44, 'boytoy': 10, 'smacks': 1, 'ass': 7, 'gym': 8, 'dint': 5, 'angry': 18, 'why': 36, 'told': 45, 'abi': 2, 'arm': 1, 'feeling': 13, 'weak': 5, 'cuz': 4, 'shot': 1, 'stopped': 4, 'cream': 4, 'reckon': 1, 'as': 84, 'arrange': 2, 'transport': 2, 'thanks': 16, 'pic': 4, 'resend': 1, 'cute': 3, 'thought': 28, 'friendship': 7, 'necessary': 2, 'every': 20, 'secret': 4, 'close': 7, 'Frnd': 1, 'any': 67, 'spare': 2, 'power': 2, 'supplies': 1, 'freezing': 3, 'Will': 24, 'remember': 22, 'mom': 5, 'love': 93, 'missing': 15, 'ki': 1, 'most': 14, 'wi': 1, 'nz': 1, 'players': 5, 'unsold': 2, 'Mmmmmm': 2, 'youso': 1, 'Ahmad': 5, 'wait': 34, 'year': 20, 'begin': 1, 'second': 10, 'closer': 3, 'side': 8, 'Year': 9, 'Wen': 8, 'lovable': 6, 'bcums': 4, 'wid': 13, 'dnt': 7, 'seriously': 6, 'Coz': 7, 'childish': 5, 'true': 12, 'showing': 6, 'deep': 8, 'affection': 4, 'luv': 20, 'kettoda': 4, 'manda': 4, 'nice': 28, 'Tension': 1, 'Smiling': 3, 'Waste': 1, 'Innocent': 1, '5Terror': 1, '6Cruel': 1, '7Romantic': 1, '8Lovable': 1, '9decent': 1, 'joker': 1, 'Pls': 48, 'send': 81, 'K': 33, 'relatives': 2, 'Sms': 1, 'de': 15, 'saw': 17, 'battery': 6, 'low': 2, 'Also': 11, 'beads': 1, 'Ever': 3, 'pay': 24, 'With': 4, 'salary': 3, 'Only': 9, 'craving': 1, 'Fml': 1, 'babe': 35, 'slept': 5, 'enjoy': 14, 'driving': 18, 'lesson': 12, 'teasing': 6, 'ringing': 1, 'whole': 10, 'houseful': 1, 'screaming': 4, 'brats': 1, 'pulling': 1, 'Loving': 3, 'Life': 10, 'spend': 7, 'lifetime': 1, 'may': 18, 'meaningless': 1, 'few': 30, 'means': 16, 'life': 37, 'itself': 8, 'fat': 4, 'head': 12, 'Well': 35, 'god': 8, 'created': 5, 'gap': 6, 'between': 15, 'fingers': 5, 'made': 23, 'comes': 14, 'fills': 3, 'gaps': 4, 'holding': 6, 'hand': 13, 'LOVE': 15, 'Okay': 7, 'clarification': 1, 'per': 8, 'request': 5, 'Melle': 6, 'Oru': 3, 'Minnaminunginte': 3, 'Nurungu': 3, 'Vettam': 3, 'set': 14, 'callertune': 4, 'Callers': 4, 'Press': 4, '9': 19, 'copy': 6, 'Callertune': 4, 'fucks': 1, 'sake': 1, 'shes': 10, 'tallahassee': 1, 'Kthen': 2, 'other': 36, 'special': 28, 'Here': 3, 'favorite': 2, 'oyster': 1, 'N': 4, 'sashimi': 1, 'lar': 24, 'Wait': 3, 'stomach': 3, 'start': 18, 'rumbling': 1, 'talents': 1, 'date': 7, 'next': 31, 'haf': 12, 'Great': 10, 'using': 4, 'connections': 2, 'mode': 7, 'men': 2, 'also': 38, 'cos': 41, 'old': 11, 'lead': 2, 'Tessypls': 1, 'favor': 1, 'convey': 4, 'birthday': 14, 'wishes': 5, 'Nimyapls': 1, 'forget': 8, 'Today': 13, 'Shijas': 1, 'horrible': 2, 'gal': 5, 'knew': 9, 'wif': 19, 'yest': 2, 'still': 82, 'fix': 4, 'teethif': 1, 'asapok': 1, 'protect': 2, 'yourself': 13, 'ethreats': 2, 'SIB': 2, 'asks': 3, 'sensitive': 2, 'information': 3, 'PasswordsATMSMS': 2, 'PIN': 2, 'thru': 7, 'Never': 7, 'password': 4, 'anybody': 3, 'av': 1, 'new': 32, 'number': 47, 'Wil': 1, 'oneta': 1, 'Home': 1, 'chat': 11, 'Friendship': 3, 'poem': 1, 'O': 7, 'R': 21, 'Near': 2, 'Hear': 2, 'Dont': 38, 'Get': 5, 'Fear': 1, 'Live': 2, 'Cheer': 1, 'More': 1, 'Tear': 2, 'Always': 6, 'Gud': 25, 'ni8': 7, 'Wifehow': 2, 'murder': 4, 'exactly': 3, 'borrow': 1, 'bag': 4, 'Me': 11, 'baby': 16, 'promise': 8, 'treat': 10, 'bet': 3, 'accidentally': 4, 'silent': 3, 'Yo': 14, 'anyone': 8, 'otherwise': 3, 'able': 14, 'buy': 42, 'liquor': 1, 'Our': 8, 'guy': 18, 'flaked': 1, 'hold': 11, 'loko': 1, 'Okok': 1, 'okthenwhats': 1, 'todays': 3, 'grinder': 1, 'The': 51, 'shipped': 2, 'AH': 1, 'POOR': 1, 'BABYHOPE': 1, 'URFEELING': 1, 'BETTERSN': 1, 'LUV': 5, 'PROBTHAT': 1, 'OVERDOSE': 1, 'OF': 8, 'WORK': 4, 'HEY': 4, 'GO': 5, 'CAREFUL': 1, 'SPK': 2, 'SN': 1, 'LOTS': 1, 'LOVEJEN': 1, 'XXX': 8, 'Bill': 2, 'letters': 3, 'iÛªm': 1, 'expecting': 2, 'orange': 3, 'isnÛªt': 1, 'bill': 5, 'Yup': 31, 'Kkthis': 1, 'kotees': 1, 'called': 20, 'Hows': 15, 'street': 5, 'where': 43, 'library': 6, 'walk': 14, 'brother': 13, 'transfered': 3, 'Pa': 1, 'YO': 3, 'BYATCH': 1, 'WHASSUP': 1, 'Slept': 1, 'thinkThis': 1, 'pm': 9, 'dangerous': 1, 'youd': 6, 'marry': 5, 'Misplaced': 1, 'sending': 8, 'texts': 8, 'Wondering': 1, 'ive': 18, 'heard': 5, 'All': 26, 'best': 16, 'mcat': 2, 'Got': 19, 'atlanta': 1, 'having': 21, 'movies': 6, 'laptop': 10, 'Finally': 2, 'match': 2, 'heading': 2, 'towards': 6, 'prediction': 1, 'By': 5, 'skip': 1, 'front': 2, 'which': 30, 'pull': 2, 'before': 38, 'doggy': 2, 'shame': 3, 'Maybe': 10, 'cld': 1, 'hrs': 4, 'talking': 7, 'almost': 9, 'reached': 7, 'm': 7, 'unable': 3, 'connect': 2, 'Babe': 10, 'goes': 20, 'sip': 1, 'cappuccino': 2, 'across': 9, 'mca': 1, 'conform': 2, 'Cuz': 2, 'ibored': 1, 'don': 4, 'wanna': 20, 'study': 5, 'CHEERS': 3, 'FOR': 2, 'CALLIN': 1, 'BABESOZI': 1, 'CULDNT': 1, 'TALKBUT': 1, 'WANNATELL': 1, 'DETAILS': 1, 'LATER': 1, 'WENWECAN': 1, 'CHAT': 1, 'PROPERLY': 1, 'X': 5, 'broke': 3, 'list': 6, 'reasons': 3, 'nobodys': 1, 'sarcastic': 2, 'faggy': 1, 'took': 12, 'morphine': 3, 'Back': 3, 'yo': 7, 'wrong': 9, 'everyso': 1, 'often': 3, 'panicks': 1, 'starts': 2, 'goin': 12, 'bein': 2, 'Thx': 1, 'months': 7, 'Carlos': 4, 'again': 38, 'minute': 7, 'calling': 9, 'sir': 11, 'Single': 1, 'line': 4, 'meaning': 2, 'Miss': 7, 'Best': 1, 'Tell': 18, 'theyre': 3, 'female': 1, 'V': 19, 'howre': 1, 'throwing': 1, 'Were': 5, 'deciding': 2, 'give': 53, 'couple': 5, 'minutes': 16, 'track': 4, 'wallet': 1, 'write': 7, 'ccna': 1, 'exam': 6, 'landline': 1, 'anna': 1, 'nagar': 1, 'afternoon': 13, 'After': 11, 'work': 65, 'ah': 20, 'plus': 6, 'workin': 6, 'rite': 14, 'orchard': 8, 'place': 41, 'liao': 19, 'In': 23, 'sch': 11, 'neva': 9, 'eat': 25, '1st': 9, 'course': 9, 'coimbatore': 1, 'ACCEPT': 2, 'DAYU': 2, 'Accept': 3, 'Brother': 3, 'Sister': 2, 'Dear1': 2, 'Best1': 2, 'Clos1': 2, 'Lvblefrnd': 2, 'Jstfrnd': 2, 'Cutefrnd': 2, 'Lifpartnr': 2, 'Belovd': 2, 'Swtheart': 2, 'Bstfrnd': 2, 'rply': 3, 'enemy': 2, 'might': 21, 'e': 53, 'salon': 2, 'boring': 3, 'Partys': 1, 'usf': 6, 'charge': 5, 'contribute': 1, 'greatly': 1, 'appreciated': 2, 'yeah': 22, 'bothering': 1, 'trust': 4, 'answers': 1, 'vomit': 4, 'okay': 10, 'Wun': 1, 'believe': 14, 'msg': 32, 'shuhui': 4, 'waiting': 18, 'free': 36, 'please': 27, 'Wif': 1, 'family': 17, 'booking': 2, 'tour': 2, 'package': 1, 'discuss': 4, 'abt': 20, 'Thought': 3, 'xuhui': 1, 'Rose': 2, 'water': 5, 'season': 4, 'poet': 1, 'imaginationMy': 1, 'sms': 7, 'lovely': 7, 'frndship': 2, 'rent': 7, 'had': 51, 'bank': 6, 'authorise': 1, 'payment': 2, 'Send': 12, 'without': 18, 'asking': 6, 'browsin': 1, 'compulsory': 1, 'ke': 2, 'qi': 1, 'ÌÏ': 34, 'izzit': 3, 'suddenly': 1, 'died': 3, 'getting': 30, 'gram': 1, 'wheres': 3, 'mrng': 10, 'Off': 1, 'sheffield': 1, 'tom': 2, 'air': 5, 'opinions': 1, 'categories': 1, 'b': 33, 'used': 8, 'measure': 2, 'ethnicity': 1, 'census': 1, 'Busy': 2, 'transcribing': 1, 'Raining': 1, 'caught': 2, 'Nimbomsons': 1, 'knows': 6, 'Obviously': 1, 'real': 15, 'word': 8, 'figure': 9, 'gas': 10, 'alcohol': 3, 'jay': 6, 'trying': 19, 'weed': 7, 'budget': 3, 'studying': 7, 'Anyway': 7, 'Going': 12, 'nothing': 12, 'greatbye': 1, 'Lets': 8, 'complete': 6, 'drug': 5, 'Kkhow': 4, 'about': 105, 'training': 8, 'process': 2, 'loving': 8, 'intro': 2, 'covers': 1, 'energy': 4, 'trends': 1, 'pros': 1, 'cons': 1, 'Brief': 1, 'description': 1, 'nuclear': 1, 'fusion': 1, 'brief': 1, 'history': 2, 'iter': 1, 'jet': 1, 'pages': 4, 'Some': 1, 'accenture': 1, 'confirm': 7, 'Er': 2, 'hello': 5, 'didnÛt': 2, 'ÛÒ': 9, 'limping': 1, 'slowly': 5, 'followed': 1, 'aa': 1, 'exhaust': 2, 'hanging': 3, 'giving': 5, 'break': 9, 'times': 18, 'woul': 1, 'wanting': 3, 'curfew': 1, 'gibe': 1, 'MIDNIGHT': 1, 'movie': 14, 'getsleep': 1, 'studdying': 1, 'ear': 2, 'dahe': 1, 'stupid': 4, 'daalways': 1, 'thisdon': 1, 'messagepandy': 1, 'mental': 2, 'Easy': 3, 'mate': 10, 'guess': 17, 'quick': 5, 'drink': 12, 'ambitious': 1, 'wan': 43, 'dollar': 2, 'loan': 4, 'mid': 3, 'february': 3, 'weird': 3, 'even': 31, 'happening': 5, 'idea': 4, 'pub': 8, 'business': 2, 'For': 10, 'fear': 1, 'fainting': 1, 'housework': 1, 'did': 47, 'Quick': 1, 'cuppa': 1, 'lateso': 1, 'morningtake': 1, 'sweet': 18, 'dreamsu': 1, 'meummifyingbye': 1, 'University': 1, 'southern': 1, 'california': 3, 'Height': 4, 'recycling': 1, 'Read': 3, 'People': 2, 'earning': 1, 'spending': 2, 'smiling': 13, 'Nan': 2, 'sonathaya': 1, 'soladha': 1, 'Why': 14, 'boss': 4, 'pple': 4, 'their': 12, 'lovers': 2, 'becz': 1, 'gud': 10, 'undrstndng': 1, 'avoids': 1, 'problems': 3, 'dis': 17, 'wil': 15, 'news': 7, 'chain': 3, 'suffer': 1, 'frnds': 9, 'whn': 1, 'RV': 1, 'hol': 1, 'coz': 5, 'havenåÕt': 2, 'ages': 2, 'started': 8, 'roadsRVx': 1, 'Tired': 1, 'havent': 26, 'past': 4, 'nights': 2, 'ArPraveesh': 1, 'details': 11, 'book': 11, 'delicious': 1, 'Still': 12, 'checked': 5, 'schedule': 2, 'lk': 1, 'sun': 11, 'Cab': 1, 'availablethey': 1, 'drop': 12, 'door': 4, 'steps': 1, 'ahsen': 1, 'selected': 1, 'Nah': 8, 'Wednesday': 1, 'mini': 1, 'cheetos': 1, 'Okie': 12, 'Leave': 1, 'carry': 1, 'meh': 7, 'heavy': 5, 'num': 5, '98321561': 1, 'familiar': 1, 'Ì': 77, 'S': 4, 'mostly': 1, 'Any': 13, 'pain': 13, 'urination': 1, 'Trust': 1, 'Sun': 3, 'earth': 2, 'rays': 4, 'cloud': 1, 'river': 2, 'rain': 7, 'evng': 4, 'leh': 23, 'ready': 25, 'Or': 22, 'remind': 4, 'There': 8, 'bold': 3, 'yours': 3, 'plural': 1, 'noun': 1, 'research': 3, 'remet': 1, 'alex': 2, 'nichols': 1, 'middle': 2, 'hes': 15, 'dealing': 2, 'hun': 2, 'ru': 4, 'Been': 3, 'dates': 1, 'met': 5, 'walkabout': 1, 'far': 7, 'ever': 24, 'wanted': 17, 'hurt': 12, 'Youd': 2, 'laugh': 7, 'embarassed': 3, 'delete': 1, 'tag': 1, 'wasnt': 9, 'fact': 7, 'felt': 10, 'shows': 4, 'It': 38, 'messy': 2, 'bad': 19, 'problem': 22, 'HAVE': 9, 'choose': 7, 'skype': 4, 'pictures': 4, 'throw': 3, 'laundry': 2, 'top': 6, 'theres': 11, 'underwear': 2, 'bras': 1, 'strewn': 1, 'pillows': 1, 'floor': 2, 'something': 41, 'making': 15, 'cancelled': 2, 'important': 8, 'understand': 7, 'darlin': 6, 'ring': 9, 'fone': 4, 'Kate': 6, 'x': 12, 'giggle': 1, 'possibly': 1, 'person2die': 1, 'NVQ': 1, 'Surely': 1, 'result': 2, 'offer': 7, 'Hmm': 5, 'thinking': 14, 'looking': 13, 'job': 27, 'Tas': 1, 'earn': 2, 'decision': 4, 'pretty': 9, 'long': 22, 'cutting': 2, 'short': 5, 'multimedia': 1, 'Living': 2, 'simple': 9, 'Laughing': 2, 'Winning': 2, 'tooo': 2, 'Being': 1, 'SIMPLE': 2, 'Ya': 13, 'Mom': 1, 'wants': 13, 'Cool': 5, 'text': 39, 'youre': 34, 'parked': 2, 'Jus': 7, 'finish': 21, 'blowing': 1, 'vikky': 5, 'vl': 4, 'witin': 1, 'il': 5, 'dare': 2, 'king': 3, 'hill': 2, 'switch': 1, 'cell': 5, 'Now': 19, 'shld': 1, 'Gee': 5, 'nvm': 2, 'la': 6, 'Kaiez': 2, 'jazz': 2, 'Scared': 2, 'hiphop': 1, 'Sac': 1, 'score': 2, 'hundredhe': 1, 'batsman': 1, 'PeteynoiåÕm': 1, 'avent': 2, 'spoken': 4, 'timehope': 1, 'doin': 5, 'alritehave': 1, 'nit': 1, 'js': 1, 'ya': 26, 'amx': 1, 'dereks': 1, 'Sunday': 1, 'Damn': 4, 'around': 38, 'hospital': 6, 'os': 2, 'ubandu': 1, 'run': 15, 'installing': 2, 'hard': 8, 'diskyou': 1, 'files': 4, 'system': 3, 'repair': 2, 'shop': 11, 'Understand': 1, 'loss': 4, 'gain': 1, 'School': 1, 'coco': 1, 'seeing': 10, 'shit': 23, 'woah': 1, 'realising': 1, 'reasonable': 1, 'Otherwise': 1, 'part': 12, 'natuition': 1, 'Time': 5, 'Smile': 11, 'two': 23, 'crucial': 1, 'Sometimes': 3, 'makes': 16, 'us': 40, 'sometimes': 3, 'someones': 1, 'noon': 3, 'eye': 1, 'sore': 3, 'Chinese': 2, 'paying': 4, 'lipo': 1, 'saturday': 7, 'sunday': 4, 'holiday': 4, 'Company': 1, 'goodenvironment': 1, 'terrific': 1, 'Sad': 4, 'story': 16, 'Man': 7, 'Last': 5, 'bday': 7, 'My': 66, 'Wife': 8, 'Parents': 6, 'forgot': 19, 'Kids': 4, 'Colleagues': 6, 'entered': 3, 'cabin': 3, 'PA': 3, 'Bday': 4, 'Boss': 3, 'askd': 8, 'invited': 5, 'apartment': 4, 'bedroom': 4, 'OK': 5, 'sed': 4, 'sexy': 8, 'mood': 5, '5': 23, 'minuts': 4, 'latr': 4, 'caken': 4, 'Kidz': 2, 'Friends': 8, 'SURPRISE': 2, 'sofa': 4, 'NAKED': 2, 'trauma': 1, 'swear': 1, 'better': 22, 'weight': 6, 'Err': 1, 'Cud': 1, '8pm': 1, 'contact': 7, 'until': 17, 'At': 13, 'showers': 1, 'possessiveness': 1, 'poured': 1, 'loved': 8, 'ones': 5, 'bcoz': 4, 'world': 14, 'lies': 1, 'golden': 1, 'gift': 6, 'truly': 1, 'lost': 6, 'Ooooooh': 1, 'yoville': 1, 'Super': 2, 'dagood': 1, 'replacement': 2, 'murali': 1, 'search': 11, 'find': 32, 'falling': 2, 'force': 2, 'fall': 3, 'smeone': 2, 'Dude': 6, 'sux': 1, 'snake': 3, 'raiden': 1, 'buff': 3, 'creepy': 2, 'crazy': 9, 'Juz': 5, 'woke': 7, 'blur': 2, 'Dad': 7, 'says': 18, 'hell': 7, 'Excellent': 3, 'together': 15, 'little': 18, 'interesting': 3, 'HMM': 1, 'grooved': 1, 'forward': 3, 'Having': 1, 'lunchyou': 1, 'onlinewhy': 1, 'tagged': 1, 'MY': 13, 'seemed': 2, 'count': 2, 'YOUR': 6, 'Ha': 6, 'ha': 4, 'chikku': 7, 'chikkuDB': 1, 'Wat': 17, 'taking': 15, 'sq825': 1, 'reaching': 5, 'ard': 8, 'smth': 11, 'arrival': 1, 'C': 14, 'Ugh': 5, 'Gotta': 1, 'sd': 1, 'butt': 2, 'deal': 7, 'Speaking': 1, 'cash': 10, 'inside': 5, 'officestill': 1, 'filling': 1, 'formsdon': 1, 'alone': 12, 'tear': 3, 'heart': 19, 'falls': 2, 'through': 7, 'eyes': 3, 'STUPID': 3, 'FRIEND': 3, 'Sbut': 1, 'luck2': 1, 'catches': 1, 'cantdo': 1, 'anythingtomorrow': 1, 'myparents': 1, 'aretaking': 1, 'outfor': 1, 'Katexxx': 1, 'Mind': 2, 'blastin': 1, 'Tsunamis': 1, 'occur': 1, 'Rajnikant': 1, 'swimming': 2, 'OceanD': 1, 'Talk': 3, 'kafter': 1, 'placement': 2, 'Cant': 10, 'major': 1, 'roles': 1, 'community': 1, 'outreach': 1, 'rock': 6, 'mel': 2, 'dunno': 7, 'learn': 5, 'pilates': 2, 'chastity': 1, 'device': 1, 'boy': 16, 'grins': 9, 'beatings': 1, 'dog': 5, 'lounge': 1, 'bath': 6, 'Nope': 8, 'Howz': 3, 'rang': 2, 'india': 2, 'L': 1, 'masters': 3, 'Chk': 1, 'belovd': 1, 'ms': 1, 'dict': 1, 'hows': 17, 'Years': 1, 'Nvm': 2, 'Which': 11, 'channel': 1, 'dub': 1, 'je': 1, 'thinkin': 3, 'role': 4, 'playing': 4, 'Fine': 4, 'thatåÕs': 1, 'ThatåÕs': 1, 'gota': 1, 'Unless': 3, 'situation': 4, 'YOU': 17, 'GURL': 1, 'appropriate': 1, 'tat': 5, 'yijue': 5, 'tot': 13, 'group': 6, 'mah': 10, 'askin': 4, 'leaving': 13, 'earlier': 11, 'mayb': 5, 'Die': 3, 'toot': 2, 'fringe': 2, 'Hurry': 3, 'Soup': 1, 'DONE': 3, 'opinion': 6, 'character': 5, 'Wishing': 4, 'Merry': 6, 'mas': 3, 'HAPPY': 8, 'NEW': 4, 'advance': 6, 'HELLO': 4, 'UCALL': 1, 'WEN': 2, 'FINISH': 2, 'WRKI': 1, 'FANCY': 1, 'MEETIN': 1, 'UP': 12, 'WIV': 1, 'ALL': 6, 'TONITE': 1, 'AS': 2, 'NEED': 4, 'BREAK': 1, 'FROM': 3, 'DABOOKS': 1, 'DID': 3, 'HRS': 1, 'LAST': 2, 'NITE2': 1, 'TODAY': 4, 'WRK': 1, 'Velly': 1, 'awesome': 5, 'payback': 1, 'Y': 13, 'Dizzamn': 1, 'aight': 2, 'suitemates': 1, 'HeyGreat': 1, 'dealFarm': 1, '9am': 1, '5pm': 2, '95pax': 1, '50': 4, 'deposit': 1, '16': 1, 'May': 11, 'Jay': 3, 'snickering': 1, 'tells': 3, 'totally': 4, 'fucking': 10, 'chords': 1, 'speak': 8, 'Fighting': 2, 'either': 5, 'win': 6, 'bt': 7, 'fightng': 2, 'some1': 3, 'dificult': 2, 'Hopefully': 2, 'Baaaaabe': 1, 'misss': 1, 'youuuuu': 1, 'teach': 3, 'langport': 1, '9pm': 1, 'sucks': 6, 'xmas': 4, 'go2sri': 1, 'lanka': 1, 'thatll': 1, 'Shes': 10, 'hear': 18, 'min': 18, 'surprised': 4, 'Old': 2, 'Orchard': 1, 'univ': 1, 'Todaysundaysunday': 3, 'holidayso': 3, 'eatin': 3, 'E': 4, 'mountain': 1, 'deer': 1, 'show': 17, 'huh': 5, 'watch': 23, 'b4': 3, 'warm': 6, 'common': 1, 'freak': 4, 'chop': 1, 'anywhere': 2, 'damn': 1, 'hunting': 1, 'Done': 2, 'sleeping': 9, 'nap': 2, 'brought': 2, 'Shiny': 1, 'warming': 1, 'Putting': 2, 'constant': 1, 'Making': 2, 'cared': 2, 'bugis': 4, 'juz': 14, 'walking': 6, 'oredi': 11, 'din': 6, 'NOT': 6, 'LATE': 2, 'MUM': 2, 'Of': 7, 'tease': 1, 'simply': 2, 'posted': 3, 'prey': 2, 'devouring': 2, 'hit': 8, 'light': 10, 'armand': 3, 'andor': 1, 'vomiting': 1, 'Nite': 3, 'Hurt': 3, 'Tease': 2, 'cry': 4, 'die': 5, 'rose': 4, 'grave': 2, 'MISS': 3, 'NICE': 10, 'DAY': 5, 'Fuck': 7, 'Actually': 9, 'full': 12, 'explain': 2, 'smaller': 1, 'capacity': 1, 'Quite': 4, 'ex': 6, 'Response': 1, 'powerful': 1, 'weapon': 1, 'occupy': 2, 'HEART': 4, 'decided': 10, 'wishing': 4, 'Abiola': 5, 'Ive': 27, 'bathe': 6, 'steam': 1, 'salespee': 1, 'Chikku': 1, 'happen': 12, 'Hee': 7, 'Check': 4, 'corect': 1, 'speling': 1, 'ie': 2, 'Sarcasm': 1, 'different': 5, 'wonder': 7, 'value': 2, 'continue': 2, 'brisk': 1, 'walks': 1, 'drugs': 9, 'dearly': 3, 'alrite': 1, 'idiot': 2, 'Txt': 4, 'bak': 5, 'girlie': 1, 'Dunno': 15, 'card': 7, '20': 4, 'sense': 5, 'cut': 8, 'borderline': 1, 'whatever': 13, 'scared': 2, 'loud': 2, 'strict': 1, 'teacher': 2, 'Bcoz': 6, 'Teacher': 1, 'teaches': 4, 'conducts': 2, 'Exam': 1, 'Lessons': 1, 'Yesterday': 1, 'tacos': 1, 'rajas': 1, 'burrito': 1, 'pls': 22, 'customer': 4, 'machan': 1, 'watching': 15, 'footie': 1, 'worried': 5, 'blow': 1, 'Phil': 1, 'Neville': 1, 'Congrats': 4, 'kanowhr': 1, 'maga': 2, 'stitch': 1, 'trouser': 1, 'Does': 7, 'operate': 1, 'Havent': 7, 'mus': 1, 'w': 6, 'asap': 2, 'Que': 1, 'pases': 1, 'un': 1, 'buen': 1, 'tiempo': 1, 'dad': 14, 'reach': 16, 'yetunde': 1, 'surprise': 1, 'returned': 3, 'january': 2, 'return': 6, 'period': 2, 'ended': 4, 'Aiyah': 4, 'tv': 16, 'name': 18, 'supose': 1, 'worry': 12, 'muchi': 1, 'film': 7, 'stuff': 27, 'babysit': 1, 'therexx': 1, 'propose': 1, 'seing': 1, 'bloody': 3, 'funky': 1, 'faceasssssholeeee': 1, 'Faith': 1, 'possibleHope': 1, 'workLove': 1, 'beautifulMay': 1, 'three': 3, 'ChristmasMerry': 1, 'Christmas': 4, 'Kkapo': 1, 'kgood': 1, 'lo': 1, 'stop': 22, 'wondering': 8, 'wow': 3, 'tming': 1, 'tm': 4, 'whenever': 9, 'MINE': 2, 'laughs': 1, 'Apps': 1, 'varaya': 1, 'elaya': 1, 'haunt': 1, 'sorted': 1, 'anyway': 12, 'promoting': 1, 'hex': 2, 'Joke': 1, 'weather': 5, 'Keep': 4, 'extra': 5, 'cold': 3, 'serious': 5, 'vitamin': 1, 'comin': 6, 'Headin': 1, 'busetop': 1, 'blackberry': 2, 'torch': 2, 'nigeria': 3, 'buyer': 1, 'melike': 1, '4a': 1, 'bb': 6, 'maths': 1, 'chapter': 1, 'onit': 1, 'small': 6, 'Jolly': 1, 'tickets': 4, 'sat': 16, 'eve': 7, 'Speak': 7, 'Fuuuuck': 1, 'sleepin': 1, 'sup': 4, 'Sort': 1, 'That': 22, 'rush': 3, 'eating': 7, 'nachos': 1, 'eta': 1, 'Wasted': 1, 'muz': 5, 'chiong': 1, 'numberpls': 1, 'idconvey': 1, 'achanammaRakheshQatar': 1, 'piece': 1, 'Thanks': 20, 'thangam': 3, 'ZOE': 1, 'IT': 6, 'JUST': 8, 'HIT': 1, 'ME': 29, 'IM': 14, 'FUCKING': 2, 'SHITIN': 1, 'MYSELF': 1, 'IL': 2, 'DEFO': 1, 'TRY': 2, 'HARDEST': 1, 'CUM': 1, '2MOROW': 1, 'MILLIONS': 1, 'LEKDOG': 1, 'squeezed': 1, 'Might': 3, 'accidant': 1, 'tookplace': 1, 'somewhere': 8, 'ghodbandar': 1, 'rd': 3, 'Traffic': 1, 'moves': 2, 'slovely': 1, 'slip': 2, 'Hmmm': 4, 'imagine': 3, 'youve': 2, 'rub': 1, 'feet': 3, 'help': 20, 'kind': 9, 'grasp': 1, 'booty': 2, 'wun': 5, 'aft': 12, 'HI': 10, 'DARLIN': 5, 'MISSIN': 1, 'HOPE': 4, 'ARE': 5, 'HAVING': 1, 'GOOD': 8, 'TIME': 14, 'WHEN': 2, 'BACK': 4, 'WHAT': 5, 'IF': 8, 'CAN': 5, 'GIVE': 2, 'CALL': 5, 'AT': 16, 'HOME': 4, 'JESS': 2, 'XX': 2, 'fb': 3, 'jaykwon': 1, 'thuglyfe': 1, 'falconerf': 1, 'grumble': 1, 'sad': 11, 'Buy': 1, 'tmr': 17, 'meetin': 1, 'Neva': 2, 'fr': 9, 'lei': 14, 'ar': 5, 'sell': 7, 'prospects': 2, 'whats': 9, 'jokes': 1, 'fees': 3, 'university': 2, 'florida': 1, 'seem': 1, 'k': 15, 'holla': 4, 'Both': 3, 'loads': 5, 'fantastic': 1, 'chance': 7, 'bigger': 3, 'lift': 4, 'losing': 3, 'live': 9, 'Q': 2, 'shall': 11, 'avalarr': 1, 'hollalater': 1, 'Dai': 2, 'downloaded': 1, 'exe': 3, 'file': 3, 'convincing': 1, 'Roger': 2, 'CL': 1, 'appreciate': 4, 'drizzling': 1, 'gotta': 5, 'urself': 5, 'frens': 5, 'present': 5, 'Am': 17, 'surfing': 5, 'store': 2, 'offers': 1, 'dance': 1, 'IÛm': 4, 'joking': 4, 'thread': 1, 'NAME': 2, 'Mandan': 2, 'offline': 1, 'anjolas': 1, 'disturb': 4, 'party': 8, 'animal': 1, 'Id': 3, 'buzz': 2, 'Reminding': 1, 'naughty': 6, 'adoring': 2, 'stretch': 1, 'pussy': 3, 'rule': 2, 'tamilnaduthen': 1, 'people': 26, 'Let': 9, 'brings': 2, 'ppl': 1, 'friendships': 1, 'grow': 1, 'smsing': 1, 'guys': 24, 'sort': 7, 'along': 3, 'They': 20, 'Iam': 4, 'addicted': 4, 'msging': 3, 're': 7, 'order': 5, 'slippers': 3, 'returning': 1, 'loverboy': 5, 'sweetie': 1, 'Nicenicehow': 1, 'ure': 6, 'Doing': 2, 'sale': 4, 'bf': 5, 'Kdo': 1, 'evening': 18, 'daurgent': 1, 'Waiti': 1, 'Omg': 5, 'ate': 5, 'didntgive': 1, 'bellearlier': 1, 'hunny': 1, 'guoyang': 1, 'grandmas': 1, 'Shit': 2, 'hungover': 1, 'Ummmmmaah': 3, 'Many': 5, 'returns': 5, 'BIRTHDAY': 4, 'paper': 4, 'morn': 1, 'telling': 12, 'coulda': 1, 'Valentine': 3, 'NOTHING': 1, 'messages': 8, 'solihull': 1, 'LOOK': 3, 'AMY': 1, 'URE': 2, 'BEAUTIFUL': 2, 'INTELLIGENT': 1, 'WOMAN': 1, 'LIKE': 4, 'LOT': 1, 'THAT': 6, 'SO': 8, 'WORRY': 1, 'possession': 2, 'property': 2, 'MMM': 1, 'Think': 8, 'teaching': 1, 'twelve': 2, 'lecture': 3, 'hours': 9, 'charles': 1, 'ned': 2, 'convince': 1, 'tht': 7, 'possible': 5, 'witot': 1, 'hurting': 2, 'main': 2, 'galsU': 1, 'nÌÂte': 1, 'alexs': 1, 'usc': 2, 'portal': 1, 'Kkwhen': 1, 'couldnt': 5, 'happens': 4, 'Vegas': 1, 'stays': 2, 'vegas': 1, 'Gd': 3, 'exams': 2, 'Storming': 1, 'phne': 1, 'knw': 11, 'wt': 1, 'Margaret': 1, 'girlfrnd': 1, 'f': 1, 'Grahmbell': 1, 'invnted': 1, 'telphone': 1, 'MoralOne': 1, '4get': 1, 'Yetunde': 1, 'building': 2, 'coat': 2, 'sick': 7, 'hurry': 1, 'corporation': 1, 'st': 4, 'stubborn': 1, 'kept': 3, 'Mark': 4, 'sucker': 1, 'Hospitals': 1, 'suckers': 1, 'Princess': 2, 'pics': 5, 'noe': 15, 'route': 1, 'charges': 3, 'transfer': 2, 'withdraw': 1, 'anyhow': 1, 'Gokila': 1, 'aha': 5, 'WILL': 3, 'SWITCH': 1, 'FONE': 3, 'ON': 10, 'DAMMIT': 1, 'abj': 1, 'serving': 2, 'staying': 5, 'honey': 2, 'weirdest': 1, 'auto': 3, 'miiiiiiissssssssss': 1, 'crave': 8, 'Geeee': 4, 'rileys': 1, 'plans': 8, 'blessget': 1, 'deari': 2, 'pray': 4, 'ceiling': 1, 'ba': 1, 'dao': 1, 'fri': 8, 'ma': 2, 'fan': 1, 'pa': 11, 'Fills': 1, 'calm': 1, 'reassurance': 1, 'Prepare': 2, 'pounded': 1, 'gentle': 3, 'Sonetimes': 1, 'rough': 1, 'smoothly': 1, 'hoped': 2, 'bother': 7, 'bills': 1, 'settle': 3, 'challenging': 1, 'Theoretically': 1, 'HOW': 3, 'WELL': 4, 'AN': 1, 'DEL': 1, 'BAK': 2, 'AGAIN': 3, 'LONG': 2, 'NO': 3, 'SUM': 1, 'LUCYxx': 1, 'Mmm': 1, 'yummy': 1, 'Nice': 3, 'jolt': 2, 'suzy': 1, 'attend': 4, 'wk': 2, 'upping': 1, 'grams': 1, 'Left': 2, 'dessert': 1, 'suntec': 1, 'uncles': 3, 'Atlanta': 3, 'semester': 9, 'Yalru': 1, 'lyfu': 2, 'astne': 1, 'Bt': 6, 'innu': 1, 'mundhe': 1, 'lyf': 2, 'ali': 1, 'halla': 1, 'bilo': 1, 'marriageprogram': 1, 'edhae': 1, 'nt': 7, 'ovr': 1, 'chikkuali': 1, 'vargu': 1, 'meow': 1, 'meowD': 1, 'Once': 5, '4ui': 1, 'didnåÕt': 1, 'intend': 1, 'IwasmarinethatåÕs': 1, 'itried2tell': 1, 'urmomi': 1, 'careabout': 1, 'donÛt': 3, 'weÛll': 1, 'finished': 10, 'march': 6, 'ish': 4, 'Youre': 7, 'chennai': 6, 'settled': 3, 'boo': 2, 'hoping': 6, 'Therell': 1, 'minor': 2, 'shindig': 1, 'interested': 6, 'Doc': 2, 'gave': 10, 'meds': 4, 'depends': 3, 'treated': 1, 'afternon': 1, 'maybe': 12, 'interviews': 1, 'passionate': 3, 'google': 2, 'qet': 1, 'parentsi': 1, 'Aiya': 4, 'Pick': 2, 'Buzz': 1, 'moment': 7, 'againloving': 1, 'restrict': 1, 'anythin': 3, 'likes': 3, 'seen': 7, 'whos': 4, 'Holby': 1, 'studies': 1, 'anyones': 1, 'drinking': 2, 'keeping': 4, 'smiles': 5, 'DECIMAL': 15, 'vikkyim': 1, 'otside': 2, 'wana': 7, 'pei': 1, 'Olol': 1, 'printed': 2, 'forum': 1, 'post': 6, 'exact': 2, 'prob': 11, 'fixed': 6, 'gpu': 2, 'ignore': 4, 'Yeshe': 3, 'crickiting': 1, 'wnt': 4, 'tlk': 1, 'lazy': 6, 'Dat': 2, 'url': 1, 'theatre': 6, 'unlimited': 3, 'beneath': 1, 'pale': 1, 'moon': 2, 'dreams': 9, 'goodnite': 1, 'deleted': 4, 'Resend': 1, 'sign': 5, 'pin': 3, 'Right': 1, 'managed': 2, 'needed': 3, 'oxygen': 1, 'resort': 1, 'roller': 1, 'option': 3, 'Hmmmy': 1, 'uncle': 6, 'informed': 3, 'directly': 5, 'TEX': 1, 'MECAUSE': 1, 'WEREBORED': 1, 'YEAH': 2, 'OKDEN': 1, 'HUNNY': 1, 'UIN': 1, 'WK': 1, 'SATSOUNDåÕS': 1, 'LIKEYOUR': 1, 'HAVIN': 1, 'GR8FUN': 1, 'J': 4, 'KEEP': 1, 'UPDAT': 1, 'COUNTINLOTS': 1, 'LOVEME': 2, 'XXXXX': 1, 'Long': 3, 'beach': 1, 'Expected': 1, 'Thanx': 13, 'SAM': 2, 'ITS': 6, 'NIC': 1, 'CHECKIN': 1, 'THIS': 5, 'UR': 3, 'NUMBERSO': 1, 'ITTB': 1, 'pleased': 2, 'inform': 2, 'application': 2, 'Airtel': 1, 'Broadband': 1, 'processed': 1, 'successfully': 3, 'Your': 24, 'installation': 1, 'within': 5, 'Dare': 1, 'sorting': 2, 'hook': 3, 'away': 13, 'challenge': 1, 'SYMPTOMS': 1, '1U': 1, 'listening': 2, 'songs': 2, '2U': 2, 'beloved': 2, '3U': 1, 'netflix': 1, 'recharge': 1, 'hi': 20, 'An': 2, 'misundrstud': 1, 'wen': 8, 'ull': 5, 'truth': 2, 'Gn': 1, '10': 7, 'Imagine': 1, 'WITHOUT': 1, 'searching': 3, 'meDont': 1, 'lm': 1, 'To': 5, 'Goodnoon': 1, 'Really': 8, 'stressful': 1, 'gr8': 6, 'kerala': 3, 'daysso': 1, 'prepared': 2, 'finalise': 1, 'travel': 3, 'visitneed': 1, 'urgent': 2, 'lobby': 1, 'tirupur': 3, 'Boooo': 1, 'quit': 3, 'Oooh': 2, 'ridden': 1, 'ey': 1, 'lotta': 1, 'corvettes': 1, 'lately': 1, 'sections': 1, 'clearer': 1, 'officially': 2, 'paid': 4, 'market': 3, '8th': 4, 'Stupid': 2, 'chikkuil': 1, 'aftr': 3, 'rhythm': 2, 'establish': 1, 'body': 3, 'instead': 4, 'sunshine': 1, 'dawns': 1, 'refreshed': 1, 'alive': 2, 'breathe': 2, 'thangamits': 1, 'mistake': 2, 'Whats': 13, 'facebook': 4, 'Xmas': 9, 'radio': 2, 'sleepy': 1, 'dying': 1, 'pink': 1, 'furniture': 1, 'tho': 13, 'Sindu': 1, 'birla': 3, 'soft': 3, 'g': 5, 'changes': 3, '6hrs': 4, 'appendix': 1, 'range': 2, 'However': 1, 'impossible': 3, 'chill': 2, 'Nobody': 3, 'decide': 6, 'Probably': 6, 'Things': 1, 'due': 4, 'several': 2, 'outstanding': 2, 'invoices': 1, 'ip': 1, 'considering': 3, 'computer': 7, 'minecraft': 1, 'server': 1, 'flat': 3, 'seems': 8, '50s': 1, 'alot': 1, 'wiv': 4, 'woman': 2, '630': 3, 'planned': 6, 'valentine': 2, 'arent': 6, '26th': 1, 'JULY': 1, 'bare': 1, 'gf': 2, 'See': 14, 'Ttyl': 2, 'youPhone': 1, 'atHome': 1, 'youwanna': 1, 'Wah': 3, 'lucky': 3, 'save': 4, 'tuition': 3, 'Thk': 6, 'beta': 1, 'yan': 2, 'jiu': 2, 'parents': 4, 'gettin': 4, 'picked': 4, 'downstem': 1, 'lap': 1, 'shut': 3, 'Fwiw': 1, 'reason': 7, 'smoke': 12, 'afford': 1, 'apparently': 1, 'Desires': 2, 'doctor': 5, 'liver': 1, 'stylish': 1, 'tired': 8, 'breeze': 1, 'Bright': 2, 'Fresh': 1, 'flower': 3, 'Twittering': 1, 'birds': 4, 'GOODMORNING': 3, 'wot': 9, 'drinkin': 1, 'dancin': 1, 'cinema': 5, 'Up': 1, 'Wot': 2, 'gudk': 1, 'tke': 1, 'onluy': 1, 'matters': 1, 'offcampus': 1, 'Take': 11, 'distract': 2, 'IsaiahD': 1, 'persons': 5, 'Fun': 1, 'although': 1, 'eventually': 1, 'build': 2, 'tolerance': 1, 'smokes': 3, 'gets': 8, 'fucked': 1, 'hits': 1, 'Designation': 1, 'software': 3, 'developer': 1, 'dehydrated': 1, 'dual': 1, 'sim': 4, 'mum': 4, 'dentist': 1, 'mesages': 2, 'hurts': 5, 'Hanging': 1, 'steak': 1, 'D': 5, 'viveki': 1, 'Men': 1, 'shorter': 2, 'ladies': 1, 'Gaze': 1, 'boston': 4, 'changed': 5, 'location': 2, 'nyc': 2, 'signin': 1, 'page': 3, 'His': 4, 'afterwards': 1, 've': 2, 'wisheds': 1, 'priest': 1, 'Everybody': 1, 'worlds': 2, 'happiest': 1, 'characters': 1, 'Dey': 3, 'understanding': 3, 'differences': 1, 'Plus': 6, 'grinule': 1, 'greet': 2, 'nighters': 1, 'persevered': 1, 'found': 10, 'cheap': 5, 'apologise': 2, 'havin': 1, 'credit': 3, 'goin2bed': 1, 'Night': 5, 'Only1more': 1, 'Yunny': 2, 'citylink': 1, 'faster': 2, 'hungry': 10, 'drama': 1, 'Plsi': 1, 'struggling': 1, 'strange': 2, 'placeNo': 1, 'ego': 1, 'INVITED': 1, 'necessity': 1, 'gowait': 1, 'reppurcussions': 1, 'unnecessarily': 2, 'hostile': 1, 'Saeed': 1, 'al': 3, 'Hallaq': 2, 'combine': 1, 'parts': 1, 'rest': 6, 'project': 6, 'checking': 8, 'Webpage': 1, 'available': 8, 'Hai': 2, 'priya': 1, 'avatar': 2, 'subtoitles': 1, 'Chasing': 1, 'dream': 6, 'tyler': 4, 'literally': 2, 'dubsack': 2, 'sec': 3, 'Theres': 5, 'popped': 2, 'loo': 1, 'helloed': 1, 'Aslamalaikkuminsha': 1, 'allah': 1, 'tohar': 1, 'beeen': 1, 'muht': 1, 'albi': 1, 'mufti': 1, 'mahfuuzmeaning': 1, 'yahoo': 2, 'connection': 3, 'download': 7, 'format': 1, 'disc': 1, 'Could': 3, 'Because': 4, 'internet': 3, 'forfeit': 1, 'haha': 2, 'Balls': 1, 'calls': 9, 'wrote': 1, 'ritten': 1, 'sit': 7, 'WAS': 7, 'Before': 1, 'wouldnt': 4, 'fold': 1, 'etc': 5, 'yesterday': 11, 'wud': 1, 'alright': 9, 'Mobile': 1, 'added': 3, 'wwwfullonsmscom': 1, 'visit': 5, 'Glad': 3, 'necessarily': 2, 'expect': 3, 'headin': 1, 'tallent': 1, 'wasting': 1, 'frying': 1, 'egg': 2, 'tea': 4, 'moms': 5, 'hopefully': 2, 'kg': 1, 'mon': 3, 'hip': 3, 'hop': 6, 'weigh': 2, 'Jesus': 2, 'everybody': 2, 'Asking': 2, 'classmates': 1, 'intrude': 1, 'collect': 2, 'dumb': 1, 'realize': 1, 'Peteis': 1, 'Jenny': 1, 'college': 9, 'Leannewhat': 1, 'stuck': 3, 'row': 3, 'lt': 1, 'lifted': 1, 'hopes': 1, 'Especially': 2, 'approaches': 1, 'Anyways': 2, 'Over': 3, 'Jada': 3, 'Kusruthi': 3, 'Lovable': 3, 'Silent': 3, 'Spl': 3, 'matured': 3, 'Stylish': 3, 'Simple': 3, 'websitenow': 1, 'blogging': 1, 'magicalsongsblogspotcom': 1, 'slave': 7, 'shell': 3, 'unconsciously': 1, 'avoiding': 2, 'unhappy': 1, 'G': 5, 'confirmdeny': 1, 'Noice': 1, 'spoke': 3, 'MANEESHA': 3, 'Wed': 4, 'satisfied': 3, 'experience': 6, 'Reply': 7, 'Toll': 3, 'Free': 4, 'PLEASSSSSSSEEEEEE': 1, 'TEL': 1, 'AVENT': 1, 'SPORTSx': 1, 'Multiply': 1, 'numbers': 3, 'independently': 1, 'decimal': 2, 'points': 3, 'division': 1, 'push': 2, 'places': 5, 'showed': 1, 'torture': 1, 'england': 1, 'DonÛt': 2, 'flying': 1, 'monkeys': 1, 'certainly': 1, 'mine': 9, 'grandma': 1, 'parade': 1, 'silence': 1, 'nightnight': 1, 'Meanwhile': 3, 'twins': 1, 'na': 6, 'ER': 1, 'gist': 1, 'Holding': 1, 'tightly': 1, 'messageno': 2, 'responcewhat': 2, 'happend': 3, 'leu': 1, '2morrow': 2, 'trek': 1, 'receive': 3, 'account': 15, '1hr': 2, 'delay': 1, 'gals': 4, 'Anyone': 1, 'centre': 3, 'excuse': 3, 'creep': 2, 'sarasota': 1, 'appointment': 3, 'waheed': 2, 'fathima': 3, 'Taka': 1, 'Rats': 1, 'vote': 3, 'themes': 1, 'Mon': 1, 'okie': 3, 'gd': 7, 'Depends': 2, 'whether': 3, 'western': 1, 'chinese': 2, 'prefer': 1, 'goodfine': 1, 'cruise': 1, 'Badrith': 1, 'chennaii': 1, 'surely': 5, 'usno': 1, 'competition': 2, 'saibaba': 1, 'colany': 1, 'Watching': 7, 'mates': 2, 'firesAre': 1, 'lol': 8, 'board': 1, 'issue': 3, 'overheating': 1, 'reslove': 1, 'inst': 1, '8o': 1, 'clock': 4, 'Oic': 2, 'quickly': 2, 'payments': 1, 'fedex': 1, 'consent': 1, 'forms': 1, 'thatnow': 1, 'runs': 2, 'Isnt': 1, 'necesity': 1, 'witout': 1, 'hwd': 1, 'colleg': 1, 'watll': 1, 'wth': 1, 'functions': 1, 'thnk': 4, 'events': 1, 'espell': 1, 'irritated': 1, '4wrd': 1, 'dearloving': 1, 'wthout': 1, 'whom': 2, 'jst': 3, 'Takecare': 1, 'COME': 4, 'TO': 4, 'TAMPA': 1, 'FFFFUUUUUUU': 1, 'payasam': 1, 'rinu': 1, 'hppnss': 2, 'sorrow': 2, 'forevr': 2, 'GOODFRIEND': 2, 'Yay': 3, 'hostel': 4, 'Plz': 2, 'Hrishi': 2, 'reserves': 1, 'completely': 5, 'balance': 3, 'till': 14, 'moan': 4, 'ability': 2, 'Z': 1, 'Ranjith': 2, 'cal': 5, 'drpd': 2, 'Deeraj': 2, 'deepak': 2, '5min': 3, 'hadya': 1, 'sapna': 1, 'aunty': 2, 'manege': 1, 'yday': 1, 'hogidhechinnu': 1, 'swalpa': 1, 'black': 4, 'agidhane': 1, 'unless': 5, 'wikipediacom': 1, 'misbehaved': 2, 'SLAP': 2, 'URSELF': 2, 'basically': 3, 'ideas': 3, 'Solve': 2, 'Case': 2, 'Found': 3, 'Murdered': 2, 'On': 13, 'AfterNoon': 2, '1His': 2, 'wife': 5, 'Police': 4, '2Police': 2, 'questioned': 2, '3Wife': 2, 'SirI': 2, '4Cook': 2, 'cooking': 3, '5Gardener': 2, 'vegetables': 2, '6HouseMaid': 2, '7Children': 2, 'play': 9, '8Neighbour': 2, 'marriage': 4, 'arrested': 2, 'murderer': 3, 'Immediately': 2, 'Whos': 3, 'Reason': 3, 'Brilliant': 2, 'kkwhere': 1, 'Draw': 1, 'vai': 1, 'Blank': 2, 'blank': 2, 'inner': 1, 'tigress': 1, 'looked': 5, 'addie': 2, 'Monday': 2, 'sfirst': 1, 'timedhoni': 1, 'rocks': 2, 'youll': 9, 'headache': 3, 'math': 1, 'wonders': 2, 'WORLD': 2, '7th': 2, '6th': 2, '5th': 2, '4th': 4, 'Personality': 2, '3rd': 2, 'Nature': 2, 'SMS': 4, 'Lovely': 2, 'Sleeping': 1, 'Cancel': 1, 'cheyyamoand': 1, 'Try': 1, 'renewal': 1, 'Watch': 1, 'swatch': 2, 'Ard': 4, '116': 1, 'Tiwary': 1, 'rcbbattle': 1, 'bang': 1, 'kochi': 1, 'gobi': 1, 'arts': 2, 'dobbys': 1, 'bowl': 2, 'monday': 3, 'convenience': 1, 'kicks': 1, 'electricity': 2, 'fml': 1, 'general': 1, 'price': 5, 'oz': 3, 'ifwhenhow': 1, 'lighters': 1, 'expert': 1, 'Gal': 1, 'park': 7, 'galcan': 1, 'boyy': 1, 'galno': 1, 'feels': 5, 'heaven': 1, 'princeGN': 1, 'vidnot': 1, 'finishd': 1, 'Xuhui': 2, 'various': 1, 'gautham': 2, 'txting': 1, 'Huh': 7, 'antibiotic': 1, 'chest': 1, 'abdomen': 1, 'gynae': 1, 'infections': 2, 'bone': 1, 'Congratulations': 1, 'ore': 1, 'owo': 1, 'wa': 1, 'fro': 1, 'wherever': 5, 'tank': 2, 'registered': 3, 'Tmr': 3, 'yck': 2, 'About': 3, 'banks': 2, 'Better': 2, 'evenings': 1, 'specialisation': 1, 'labor': 1, 'sha': 3, 'shakara': 1, 'beggar': 1, 'Lmao': 3, 'bruv': 2, 'rewarding': 2, 'Hui': 1, 'xin': 1, 'lib': 2, 'actor': 1, 'Since': 3, 'unemployed': 2, 'ALWAYS': 2, 'Predicte': 1, 'move': 9, 'dropped': 2, 'stairs': 1, 'phews': 1, 'sister': 11, 'kids': 3, 'lifting': 1, 'Something': 3, 'signing': 1, 'module': 2, 'humanities': 1, 'sem': 2, 'modules': 1, 'Nt': 3, 'chikkusimple': 1, 'habbahw': 1, 'positions': 1, 'kama': 1, 'sutra': 1, 'leona': 3, 'ben': 1, 'FAR': 1, 'SPUNOUT': 1, 'DA': 7, 'MO': 2, 'DEAD': 1, 'WRLD': 1, 'BEEN': 3, 'SLEEPING': 1, 'SOFA': 1, 'Pleasure': 2, 'Pain': 2, 'pours': 2, 'Rain': 2, 'sum1': 3, 'Hurts': 2, 'becoz': 3, 'SOMEONE': 2, 'Cheers': 3, 'Zogtorius': 1, 'IåÕve': 1, 'staring': 1, 'Urgh': 1, 'coach': 1, 'smells': 1, 'chip': 1, 'especially': 5, 'duvet': 1, 'predictive': 1, 'sis': 5, 'net': 4, 'finishes': 2, 'clothes': 2, 'jewelry': 1, 'trips': 2, 'peace': 2, 'miracle': 6, 'jesus': 2, 'Hav': 3, 'blessed': 2, 'ahead': 5, 'sleepingand': 3, 'yun': 2, 'stone': 1, 'Perhaps': 1, 'identification': 1, 'UNI': 1, 'completed': 1, 'degree': 1, 'joining': 1, 'finance': 2, 'gang': 2, 'login': 2, 'alreadysabarish': 1, 'Eat': 2, 'jap': 1, 'lect': 4, '12': 2, 'Salad': 1, 'desert': 2, 'beers': 1, 'current': 3, 'jacket': 1, 'Ooh': 1, '4got': 1, 'belly': 4, 'dancing': 2, 'moseley': 1, 'weds': 1, 'cafe': 3, 'Fr': 1, 'evaluation': 1, 'None': 2, 'Career': 1, 'Tel': 2, 'INDYAROCKSCOM': 1, 'FREE': 1, 'remove': 4, 'phonebook': 1, 'transaction': 1, 'washob': 1, 'nobbing': 1, 'Nickey': 1, 'Platt': 1, 'Nationwide': 1, 'Newport': 1, 'road': 4, 'liked': 6, 'ow': 1, 'deyi': 1, '60400thousadi': 1, 'sarcasm': 1, 'scarcasim': 1, 'famous': 1, 'quote': 3, 'develop': 1, 'listen': 7, 'unconditionally': 1, 'temper': 1, 'self': 5, 'confidence': 2, 'MARRIED': 1, 'dresser': 2, 'china': 2, 'medical': 4, '7pm': 1, 'total': 1, 'quarter': 1, 'Rajipls': 3, 'favour': 4, 'Birthday': 3, 'Nimya': 3, 'lemme': 4, 'unknown': 2, 'weve': 2, 'hme': 1, 'bookedthe': 1, 'hut': 1, 'urgnt': 5, 'Wating': 2, 'Playin': 1, 'space': 3, 'poker': 2, 'SOON': 2, 'cruisin': 1, 'jenny': 1, 'xxx': 7, 'Erm': 2, 'contract': 1, 'ran': 4, 'the4th': 1, 'october': 1, 'cuddling': 2, 'maturity': 2, 'EVENING': 2, 'entertaining': 1, 'hugh': 1, 'laurie': 1, 'stick': 2, 'indeed': 1, 'Boo': 1, 'computers': 1, 'errors': 1, 'difficulties': 1, 'correction': 1, 'diet': 4, 'slices': 1, 'click': 1, 'lists': 1, 'swing': 7, 'roommate': 2, 'bomb': 1, 'konw': 1, 'waht': 1, 'rael': 1, 'FRIENDSHIP': 1, 'gving': 1, 'yuo': 2, 'exmpel': 1, 'Jsut': 1, 'ese': 1, 'tihs': 2, 'Evrey': 1, 'splleing': 1, 'wrnog': 1, 'sitll': 1, 'raed': 1, 'wihtuot': 1, 'ayn': 1, 'mitsake': 1, 'GOODNIGHT': 1, 'SLEEPSWEET': 1, 'DREAMS': 1, 'Joanna': 2, 'anti': 3, 'social': 3, 'perform': 1, 'midnight': 2, 'confirmed': 1, 'oni': 4, 'Hm': 1, 'throat': 3, 'scratches': 1, 'game': 5, 'walmart': 3, 'payed': 1, 'Suganya': 1, 'disappeared': 1, 'names': 1, 'penis': 1, 'wenever': 1, 'lik': 4, 'reminder': 1, 'wonderful': 5, 'escape': 3, 'fancy': 1, 'bridge': 1, 'lager': 1, 'own': 4, 'Most': 2, 'fixes': 1, 'spelling': 1, 'diff': 3, 'Go': 7, 'Fredericksburg': 1, 'Daddy': 3, 'fetch': 4, 'sunny': 4, 'leaves': 7, 'blue': 8, 'bay': 3, 'joined': 4, 'league': 1, 'touch': 10, 'personal': 4, 'cost': 8, 'fakemy': 1, 'thts': 1, 'reffering': 1, 'uif': 1, 'member': 2, 'link': 3, 'credited': 2, 'rs': 4, 'getiing': 1, 'rsi': 1, 'acc': 2, 'Unlimited': 1, 'Limited': 1, 'balloon': 1, 'pack': 3, 'storelike': 1, 'cereals': 1, 'gari': 1, '9ja': 2, 'Hahahause': 3, 'brain': 3, 'str': 2, 'Ki': 3, 'didt': 3, 'youkwhere': 1, 'Same': 8, 'anniversary': 2, 'tarpon': 1, 'springs': 1, 'BBDpooja': 1, 'pimpleseven': 1, 'become': 4, 'blackand': 1, 'wearing': 4, 'sweatter': 1, 'Gimme': 1, 'cannot': 2, 'mistakes': 2, 'mall': 1, 'french': 1, 'fooled': 1, 'Be': 6, 'yoga': 2, 'youwhen': 1, 'aathilove': 2, 'WOT': 3, 'Hicts': 1, 'employee': 1, 'receiptsÛÓwell': 1, 'WhatÛs': 1, 'raping': 1, 'dudes': 1, 'lakhs': 1, 'simpler': 2, 'less': 6, 'magical': 3, 'eh': 3, 'applebees': 2, 'Yun': 3, 'ahthe': 1, 'ubi': 1, 'tomorrowcall': 1, '67441233': 1, 'ireneere': 1, 'bus822656166382': 1, 'Ubi': 1, 'cresubi': 1, 'tech': 2, 'park6ph': 1, '5wkg': 1, 'daysÌn': 1, 'def': 2, 'terms': 3, 'conditions': 1, 'Serious': 1, 'proper': 1, 'tongued': 1, 'FRIENDS': 1, 'CaRE': 2, 'each': 5, 'Other': 2, 'CLoSE': 1, 'UNDERSTaND': 1, 'TRUE': 1, 'STaY': 1, 'beyond': 3, 'Bec': 1, 'temple': 2, 'Yesgauti': 1, 'sehwag': 1, 'odi': 1, 'fuckin': 1, 'thurs': 3, 'pre': 1, 'booked': 5, 'sacked': 1, 'wedding': 1, 'chapel': 1, 'frontierville': 1, 'safely': 1, 'somethings': 1, 'Guild': 1, 'Bristol': 1, 'flight': 2, 'GONNA': 1, 'MUCH': 5, 'belongs': 1, 'Pray': 1, 'herwho': 1, 'fated': 1, 'Shoranur': 1, 'train': 7, 'incident': 1, 'hands': 3, 'fuelled': 1, 'concern': 1, 'prior': 1, 'grief': 1, 'pass': 3, 'STOP': 1, 'VIOLENCE': 1, 'AGAINST': 1, 'WOMEN': 1, 'approaching': 1, 'Sankranti': 1, 'republic': 1, 'Valentines': 3, 'Day': 6, 'Shivratri': 1, 'Ugadi': 1, 'Fools': 1, 'Independence': 1, 'FriendshipMotherFatherTeachersChildrens': 1, 'Ganesh': 1, 'festival': 1, 'Dasara': 1, 'Diwali': 1, 'Mornings': 1, 'Afternoons': 1, 'Evenings': 1, 'Nights': 1, 'RememberI': 1, 'AM': 3, 'WISHING': 1, 'THESEyours': 1, 'Raj': 1, 'dats': 2, 'Bishan': 1, 'nearer': 1, 'Although': 1, 'baig': 1, 'watches': 1, 'uve': 1, 'touched': 3, 'maggi': 1, 'mee': 1, 'jokin': 1, 'vague': 1, 'accounting': 1, 'delayed': 1, 'housing': 1, 'agency': 1, 'renting': 1, 'wlcome': 1, 'eaten': 2, 'lion': 1, 'Heehee': 1, 'weekdays': 1, 'Haiz': 3, 'Cut': 1, 'nails': 1, 'drivin': 3, 'turning': 2, 'cancer': 3, 'meant': 8, 'opposed': 1, 'drunken': 1, 'outta': 3, 'nowi': 2, 'candont': 1, 'lido': 2, '930': 1, 'garage': 3, 'keys': 2, 'bookshelf': 1, 'arestaurant': 1, 'squid': 1, '1030': 2, 'dosomething': 1, 'garments': 1, 'Must': 3, 'normally': 2, 'DONT': 1, 'BUT': 4, 'EVE': 1, 'scream': 3, 'ecstasy': 1, 'darren': 5, 'guessing': 1, 'guessed': 1, 'btw': 1, 'batch': 1, 'Explain': 1, 'danalla': 1, 'timing': 3, '515pm': 1, 'taunton': 4, 'wellyou': 1, 'lifeyou': 1, 'CONVINCED': 2, 'thati': 1, 'conversations': 1, 'usGET': 1, 'timeYour': 1, 'sensesrespect': 1, 'overemphasiseor': 1, 'doublefaggot': 1, 'flavour': 1, 'YM': 3, 'smart': 1, 'coffee': 4, 'await': 1, 'Muz': 3, 'Squishy': 1, 'Mwahs': 1, 'effect': 2, 'irritation': 1, 'Later': 5, 'needa': 1, 'goodno': 1, 'problembut': 1, 'american': 1, 'soul': 1, 'spark': 1, 'flame': 2, 'rawring': 1, 'XoXo': 1, 'since': 13, 'Tuesday': 4, 'glorious': 1, 'finds': 1, 'content': 1, 'Prey': 1, 'coaxing': 1, 'images': 1, 'fond': 1, 'souveniers': 1, 'CougarPen': 1, 'lie': 2, 'These': 1, 'regular': 2, 'husband': 3, 'christmas': 4, 'mp3': 2, 'responding': 1, 'Hes': 3, 'skateboarding': 1, 'despite': 2, 'thrown': 1, 'winds': 1, 'bandages': 1, 'arms': 2, 'westshore': 1, 'hyde': 1, 'village': 1, 'itmail': 1, 'panren': 1, 'paru': 1, 'dry': 2, 'spell': 2, 'Kkim': 3, 'tirunelvali': 1, 'amount': 4, 'dress': 3, 'moneyi': 1, 'feb': 2, 'rooms': 2, 'befor': 2, 'activities': 2, 'dearer': 2, 'dem': 3, 'Honestly': 1, 'cup': 2, 'promptly': 1, 'burnt': 1, 'Like': 6, 'swimsuit': 1, 'allowed': 2, 'stations': 1, 'philosophy': 2, 'rob': 1, 'mack': 1, 'theater': 1, 'Kkwhat': 1, 'detail': 1, 'transferacc': 1, 'consensus': 1, 'Itll': 1, 'dump': 1, 'heap': 1, 'lowes': 1, 'BORING': 1, 'snowboarding': 1, 'planning': 7, 'goa': 1, 'affair': 2, 'Need': 6, 'campus': 3, 'BMW': 2, 'urgentlyits': 2, 'vry': 3, 'urgentbut': 2, 'hv': 3, 'shortage': 2, 'Lacsthere': 2, 'source': 2, 'arng': 2, 'amt': 3, 'lacsthats': 2, 'blame': 2, 'Bad': 2, 'essential': 3, 'Gods': 5, 'blessings': 2, '4d': 2, '1405': 1, '1680': 1, '1843': 1, 'healthy': 1, 'airport': 4, 'bathing': 3, 'pop': 1, 'taste': 2, 'fish': 1, 'curry': 1, 'Except': 1, 'chick': 1, 'huge': 2, 'boobs': 1, 'explicitly': 1, 'nora': 1, 'Kkwhere': 1, 'youhow': 1, 'performed': 1, 'cutest': 1, 'tau': 1, 'sar': 1, 'piah': 1, 'lab': 3, 'familymay': 1, 'stability': 1, 'tranquility': 1, 'vibrant': 1, 'colourful': 1, 'kid': 2, 'boost': 2, 'buyers': 1, 'FRNDSHIP': 3, 'needle': 1, 'Though': 1, 'Evn': 1, 'meetitz': 1, '4few': 1, 'seconds': 3, 'alwys': 1, 'conected': 1, '9t': 1, 'praps': 1, 'Goodo': 2, 'responsibilities': 1, 'raise': 2, 'denis': 2, 'mina': 1, 'Spending': 1, 'spoiled': 2, 'kindly': 1, 'documents': 1, 'submitted': 1, 'STAPATI': 1, 'reading': 6, 'joke': 3, 'Wa': 2, 'efficient': 1, 'fever': 2, 'vomitin': 1, 'PICK': 1, 'OR': 1, 'MEET': 2, 'TEXT': 2, 'NUMBER': 1, 'KATE': 1, 'probs': 1, 'hon': 2, 'doinat': 1, 'Too': 3, 'FIGHTS': 1, 'NITE': 1, 'Hostbased': 1, 'IDPS': 1, 'linux': 1, 'systems': 1, 'possibility': 1, 'Discussed': 1, 'mother': 2, 'Sday': 1, 'joinedso': 1, 'vivek': 1, 'windy': 1, 'WeÛre': 2, 'rem': 5, 'forgiven': 2, 'Ah': 2, 'poop': 1, 'Looks': 4, 'datoday': 2, 'physics': 1, 'thursday': 1, 'Kkadvance': 1, 'pongal': 2, 'straight': 3, 'bud': 3, 'drinks': 1, 'useful': 2, 'Total': 2, 'video': 2, 'converter': 1, 'malaria': 7, 'relax': 5, 'children': 2, 'handle': 3, 'worse': 7, 'gastroenteritis': 2, 'replace': 2, 'temp': 3, 'reduce': 2, 'limiting': 2, 'illness': 2, 'quality': 2, 'aint': 4, 'complaining': 1, 'IåÕm': 1, 'ta': 1, 'vtired': 1, 'services': 1, 'inspection': 1, 'nursery': 1, 'spk': 1, 'sn': 1, 'objection': 1, 'JD': 2, 'Customer': 4, 'Service': 2, 'Accounts': 2, 'Executive': 2, 'map': 1, 'semi': 1, 'argument': 2, 'apart': 1, 'givits': 1, 'kanoanyway': 1, 'Da': 2, 'attached': 1, 'millers': 1, 'uniform': 1, 'TELL': 2, 'HER': 1, 'SAID': 1, 'EAT': 1, 'Ku': 1, 'esplanade': 3, 'clearly': 1, 'deduct': 1, 'Wn': 2, 'prsn': 1, 'fight': 2, 'somtimes': 1, 'saves': 1, 'relation': 3, 'nothin': 1, 'eveB': 1, 'Goodnight': 2, 'Wanna': 3, 'nose': 1, 'essay': 1, 'xx': 3, 'Ambrithmaduraimet': 1, 'arun': 1, 'dha': 1, 'marrgeremembr': 1, 'Short': 3, 'Cute': 3, 'shd': 6, 'hr': 4, 'buzy': 2, 'nitros': 1, 'crash': 1, 'engin': 2, 'treasure': 1, 'superior': 1, 'department': 2, 'except': 2, 'oursso': 1, 'youany': 1, 'display': 3, 'sooo': 1, 'barely': 4, 'stand': 3, 'clear': 2, 'Beerage': 1, 'Jerk': 1, 'sry': 1, '530': 3, 'reboot': 2, 'ym': 1, 'bringing': 3, 'galileo': 1, 'dobby': 1, 'Mine': 2, 'Ssnervous': 1, 'Sorryin': 2, 'Facebook': 2, 'selfish': 1, 'Mmmmm': 2, 'waking': 3, 'stalk': 1, 'profiles': 1, 'Jordan': 1, 'voted': 1, 'chase': 2, 'crossing': 1, 'txtjourney': 1, 'hasnt': 3, 'gdnow': 1, 'painting': 2, 'nannys': 1, 'Sends': 1, 'greetings': 1, 'poo': 1, 'chocolate': 2, 'miles': 2, 'roger': 1, 'Stupidits': 1, 'sonot': 1, 'conveying': 1, 'Ese': 1, 'however': 4, 'di': 3, 'funeral': 2, 'Audrey': 1, 'Thgt': 2, 'clash': 1, 'green': 4, 'Jerry': 2, 'cartoon': 3, 'Who': 5, 'Irritates': 2, 'Vry': 2, 'Much': 3, 'Fails': 2, 'Express': 2, 'jan': 1, 'onlydon': 1, 'sight': 7, 'remain': 4, 'Maintain': 3, 'ends': 6, 'Shjas': 2, 'Babes': 1, 'brolly': 1, 'English': 1, '2mrw': 2, 'Franxx': 1, 'lov': 2, 'nevr': 1, 'unrecognized': 1, 'somone': 1, 'valuing': 1, 'definitly': 1, 'undrstnd': 1, 'calis': 1, 'complexities': 1, 'freely': 1, 'taxes': 1, 'outrageous': 1, 'ashleys': 1, 'Nokia': 1, 'lovly': 1, 'surgical': 1, 'emergency': 1, 'unfolds': 1, 'silver': 1, 'Hmmmstill': 1, 'opener': 1, 'X2': 1, 'feelingwavering': 1, 'decisions': 1, 'coping': 2, 'individualtime': 1, 'heal': 1, 'youdearwith': 1, 'loverakhesh': 1, 'NRI': 1, 'accept': 2, 'single': 3, 'messaged': 1, 'Say': 4, 'GODI': 3, 'YOUCLEAN': 3, 'WITH': 9, 'BLOODSend': 3, 'Ten': 3, 'itplspls': 3, 'released': 3, 'vday': 2, 'shirts': 3, 'bottom': 2, 'naked': 2, 'white': 3, 'ktv': 1, 'cozy': 1, 'exhausted': 1, 'nightnobody': 1, 'Everything': 2, 'wishin': 1, 'romantic': 2, 'Garbage': 1, 'bags': 1, 'eggs': 2, 'jam': 1, 'bread': 2, 'hannaford': 1, 'wheat': 1, 'chex': 1, 'dot': 1, 'kim': 1, 'THANX4': 1, 'CER': 1, 'CATCH': 1, 'WE': 3, 'AVE': 2, 'FIND': 1, 'MORE': 2, 'OFTEN': 1, 'OH': 5, 'TAKE': 2, 'SOONC': 1, 'julianaland': 1, 'oblivious': 1, 'constantly': 2, 'upsetits': 1, 'upset': 2, 'Pass': 1, 'contacts': 1, 'Redim': 1, 'Blueu': 1, 'Purpleu': 1, 'realy': 3, 'Pinku': 1, 'swt': 2, 'Orangei': 1, 'lyk': 1, 'Greeni': 1, 'Yelowi': 1, 'bck': 1, 'Blackim': 1, 'jealous': 2, 'Browni': 1, 'Nw': 1, 'giv': 1, 'color': 2, 'BBDthts': 1, 'hw': 6, 'dvg': 1, 'coldheard': 1, 'vinobanagar': 1, 'violence': 1, 'conditionand': 1, 'films': 1, 'hopeing': 1, 'wasnÛt': 1, 'pissed': 4, 'sisters': 1, 'derek': 4, 'taylors': 1, 'management': 2, 'Cold': 1, 'fujitsu': 2, 'ibm': 1, 'hp': 1, 'toshiba': 2, 'model': 3, 'cookies': 2, 'jelly': 1, 'mr': 5, 'brison': 1, 'language': 1, 'baskets': 1, 'hooch': 1, 'toaday': 1, 'fell': 3, 'Splat': 1, 'Grazed': 1, 'knees': 1, 'stayed': 1, 'Gary': 3, 'Edison': 2, 'rightly': 2, 'fool': 2, 'questions': 4, 'wise': 2, 'speechless': 3, 'ViVa': 2, 'GM': 2, 'callsmessagesmissed': 3, 'Hiya': 5, 'john': 2, 'lennon': 1, '2marrow': 2, 'HAD': 4, 'NIGHT': 4, 'WISH': 1, 'CANT': 1, 'WAIT': 1, 'SEE': 3, 'FRAN': 1, 'PS': 1, 'WANT': 4, 'DIRTY': 1, 'ANAL': 1, 'SEX': 1, 'MAN': 2, 'GANG': 1, 'BANG': 1, 'Audrie': 1, 'lousy': 2, 'autocorrect': 1, 'ad': 4, 'crap': 2, 'borin': 1, 'boggy': 1, 'biatch': 1, 'nxt': 3, 'ave': 1, 'parachute': 1, 'double': 2, 'coins': 3, 'BETTER': 1, 'OUT': 6, 'CAUSE': 1, 'FEEL': 2, 'USED': 1, 'OTHERWISE': 1, 'babyjontet': 1, 'currently': 1, 'scotland': 2, 'Haf': 2, 'cam': 1, 'nelson': 1, 'bbs': 1, 'l8r': 1, 'Bani': 1, 'walked': 2, 'doesnåÕt': 1, 'sigh': 1, 'Dearshall': 1, 'tonitebusy': 1, 'streetshall': 1, 'update': 3, 'tonitethings': 1, 'okvarunnathu': 1, 'edukkukayee': 1, 'raksha': 1, 'ollubut': 1, 'significance': 1, 'HM': 1, 'Friday': 2, 'weeks': 3, 'Become': 1, 'slob': 1, 'tool': 1, 'Coffee': 2, 'cake': 2, 'Chachi': 1, 'tried': 2, 'Pl': 1, 'tiz': 1, 'Kanagu': 1, 'snatch': 1, 'purse': 1, 'Painful': 1, 'toughest': 1, 'Earth': 1, 'ride': 3, 'bike': 1, 'railway': 3, 'Fyi': 2, 'sporadically': 1, 'starting': 4, 'bc': 1, 'Mah': 1, 'Jays': 1, 'impatient': 2, 'belligerent': 1, 'Apo': 1, 'mokka': 1, 'pee': 1, 'burns': 1, 'tonite': 4, 'dads': 1, 'chuckin': 1, 'red': 2, 'trainners': 1, 'carryin': 1, 'bac': 1, 'Boy': 5, 'Grl': 4, 'Hogolo': 1, 'gold': 1, 'kodstini': 1, 'Agalla': 1, 'necklace': 1, 'madstini': 1, 'agalla': 1, 'Hogli': 1, 'mutai': 1, 'eerulli': 1, 'kodthini': 1, 'kano': 3, 'NONENOWHERE': 1, 'IKNO': 1, 'DOESDISCOUNTSHITINNIT': 1, 'prescribed': 1, 'med': 1, 'monkey': 1, 'bitch': 2, 'asshole': 1, 'wahala': 1, 'Argh': 1, '3g': 2, 'spotty': 1, 'province': 1, 'sterling': 1, 'problemfree': 1, 'realise': 1, 'cars': 3, 'playi': 1, 'clas': 1, 'Cause': 1, 'freaky': 1, 'Water': 1, 'logging': 1, 'Geoenvironmental': 1, 'implications': 1, 'Anytime': 2, 'Nohe': 1, 'surya': 1, 'vijay': 2, 'POKKIRI': 1, 'Mathews': 1, 'tait': 1, 'edwards': 1, 'anderson': 1, 'stage': 1, 'karnan': 1, '6pm': 3, 'goto': 1, 'omw': 2, 'castor': 2, 'yay': 3, 'sized': 1, 'doinghow': 2, 'Under': 1, 'lays': 1, 'envelope': 2, 'Nutter': 1, 'Cutter': 1, 'Ctter': 1, 'Cttergg': 1, 'Cttargg': 1, 'Ctargg': 1, 'Ctagg': 1, 'fetching': 1, 'london': 1, 'treatin': 1, 'treacle': 1, 'comingdown': 1, 'PLEASE': 2, 'NOW': 4, 'IMIN': 1, 'TOWNDONTMATTER': 1, 'URGOIN': 1, 'OUTL8R': 1, 'pounds': 2, 'doc': 1, 'woot': 2, 'celebrate': 4, 'stuffing': 1, 'kinda': 7, 'supervisor': 1, 'students': 6, 'ninish': 1, 'icky': 1, 'American': 2, 'freek': 1, 'callin': 2, 'Jen': 1, 'Gr8': 1, 'victoria': 1, 'island': 1, 'traffic': 1, 'whens': 1, 'album': 2, 'rip': 1, 'uterus': 1, '7ish': 2, 'billy': 1, 'jogging': 2, 'concert': 2, 'norm': 1, '415': 1, 'tests': 1, 'access': 2, 'genius': 1, 'command': 1, 'dislikes': 3, 'welp': 1, 'lotr': 1, 'Message': 1, 'Truro': 1, 'Hospital': 1, 'ext': 1, 'flippin': 1, 'wtf': 1, 'Btw': 2, 'Ola': 1, 'direct': 1, 'US': 1, 'bids': 1, 'shipping': 2, 'partnership': 1, 'Invest': 1, 'restUWud': 1, 'reliant': 1, 'Whatsup': 1, 'Real': 1, 'realized': 2, 'absence': 1, 'JADE': 1, 'PAUL': 1, 'DIDNåÕT': 1, 'TXT': 2, 'REMEMBER': 1, 'BARMED': 1, 'TALK': 1, 'figures': 1, 'thanx': 6, 'scrounge': 2, 'vewy': 2, 'lubly': 1, 'Dnt': 2, 'll': 3, 'resolution': 1, 'replyBe': 1, 'frankgood': 1, 'En': 1, 'nange': 1, 'bakra': 1, 'kalstiyathen': 1, 'teacoffee': 1, 'Ee': 1, 'poortiyagi': 1, 'odalebeku': 1, 'Hanumanji': 1, '1Hanuman': 1, '2Bajarangabali': 1, '3Maruti': 1, '4Pavanaputra': 1, '5Sankatmochan': 1, '6Ramaduth': 1, '7Mahaveer': 1, 'ee': 1, 'janarige': 1, 'ivatte': 1, 'kalisidare': 1, 'olage': 1, 'ondu': 1, 'keluviri': 1, 'Maretare': 1, 'inde': 1, 'dodda': 1, 'problum': 1, 'nalli': 1, 'siguviri': 1, 'idu': 1, 'matra': 1, 'neglet': 1, 'Ryder': 1, 'unsoldnow': 1, 'gibbs': 1, 'level': 1, 'record': 2, 'Msgs': 1, 'passThey': 1, 'silently': 2, 'ntswt': 1, 'drms': 1, 'Shesil': 1, 'hlday': 1, 'camp': 1, 'Amrca': 1, 'Serena': 1, 'foreign': 2, 'stamps': 2, 'country': 1, 'Goodmorning': 6, 'dr': 1, 'Waitshould': 1, 'texting': 3, 'ticket': 2, 'headstart': 1, '230ish': 1, 'desperate': 1, 'earlierwe': 1, 'rummer': 1, 'Feb': 2, 'VALUED': 2, 'FRNDS': 2, 'evn': 2, 'gt': 3, 'married': 3, 'Evr': 2, 'Neither': 1, 'sterm': 1, 'resolved': 1, 'fab': 1, 'hols': 2, 'rimac': 1, 'meAre': 1, 'song': 5, 'dedicated': 1, 'dedicate': 1, 'valuable': 1, 'accordin': 1, 'discussed': 1, 'kb': 5, 'Guai': 1, '11': 2, 'plenty': 6, 'claire': 1, 'cThen': 1, 'enuff': 2, 'conclusion': 1, 'contents': 3, 'pg': 3, 'references': 1, 'defer': 1, 'admission': 1, 'careful': 1, 'Ìll': 1, 'submitting': 1, 'admin': 1, 'slightly': 2, 'suggest': 3, 'setting': 2, 'definite': 2, 'outif': 1, 'greece': 1, 'boys': 3, 'dismissial': 1, 'sing': 2, 'choices': 1, 'toss': 1, 'coin': 2, 'Gudni8': 1, 'cr': 1, 'Nowadays': 1, 'notixiquating': 1, 'laxinorficated': 1, 'opportunity': 2, 'bambling': 1, 'entropication': 1, 'oblisingately': 1, 'opted': 1, 'books': 1, 'masteriastering': 1, 'amplikater': 1, 'fidalfication': 1, 'champlaxigating': 1, 'atrocious': 1, 'Wotz': 1, 'Opinion': 1, 'Junna': 1, 'messenger': 1, 'vldo': 1, 'adsense': 1, 'approved': 1, 'hide': 1, 'anythiing': 1, 'distance': 2, 'regarding': 2, '3230': 1, 'textbook': 1, 'algorithms': 1, 'edition': 1, 'selling': 2, 'forwarded': 4, 'chief': 1, 'bell': 3, 'royal': 1, 'june': 2, 'under': 5, 'standing': 3, 'ors': 1, 'stool': 1, 'shopthe': 1, 'ONLY': 1, 'DearMe': 1, 'cherthalain': 1, 'bfore': 1, 'starti': 1, 'accordinglyor': 1, 'comingtmorow': 1, 'engaged': 1, 'Big': 1, 'brotherÛs': 1, 'scraped': 1, 'barrel': 1, 'misfits': 1, 'HCL': 1, 'requires': 1, 'FRESHERS': 1, 'processExcellent': 1, 'english': 2, 'neededSalary': 1, 'upto': 2, 'MsSuman': 1, 'Telephonic': 1, 'Indyarockscom': 1, 'configure': 1, 'settings': 1, 'pocay': 1, 'wocay': 1, '4eva': 1, '2morrowxxxx': 1, 'Means': 1, 'Ge': 1, 'casualty': 1, 'stuff42moro': 1, 'includes': 1, 'Whom': 1, 'waited': 2, 'favourite': 3, 'Nigh': 1, 'hillsborough': 1, 'th': 6, 'prescription': 1, 'Don': 6, 'dawhats': 2, 'Received': 1, 'understood': 2, 'acted': 2, 'upon': 1, 'Hmph': 1, 'baller': 1, 'buying': 5, '2000': 1, 'Early': 1, 'bird': 1, 'purchases': 1, 'Yoyyooo': 1, 'permissions': 1, 'mac': 2, 'usb': 2, 'flash': 2, 'FUCK': 2, 'JUSWOKE': 1, 'IN': 8, 'BED': 2, 'BOATIN': 1, 'THE': 14, 'DOCKS': 1, 'SLEPT': 1, 'WID': 1, '25': 1, 'YEAR': 2, 'OLD': 1, 'SPINOUT': 1, 'GIV': 1, 'GOSSIP': 1, 'L8R': 1, 'site': 4, 'goodnight': 1, 'Sat': 2, 'Booked': 1, 'ISH': 1, 'MINUTES': 2, 'AGO': 1, 'WTF': 1, 'Aft': 1, 'dialogue': 1, 'reltnship': 1, 'Wheres': 3, 'emigrated': 1, 'hopeful': 1, 'avoid': 1, 'missunderstding': 1, 'wall': 1, 'collected': 1, 'dough': 1, 'control': 2, 'initiate': 1, 'dollars': 3, '2years': 1, 'strain': 1, 'dime': 2, 'gives': 2, 'Every': 3, 'practical': 2, 'hangin': 1, 'makin': 2, 'freaking': 1, 'photos': 3, 'MySpace': 1, 'logged': 1, 'stillmaybe': 1, 'sameso': 1, 'itor': 1, 'admiti': 1, 'madthen': 1, 'correctionor': 1, 'lifeand': 1, 'worldmay': 1, 'runninglets': 1, 'justbeen': 1, 'overa': 1, 'brains': 1, 'mush': 1, 'finns': 1, 'curious': 1, 'tog': 2, 'reunion': 1, 'juicy': 1, 'worrying': 1, 'appt': 3, 'quizzes': 1, 'popcorn': 1, 'lady': 4, 'slap': 1, 'dick': 2, 'Okors': 1, 'cherish': 1, 'MojiBiola': 2, 'gently': 1, 'SAME': 1, 'LETS': 1, '4GET': 1, 'ABOUT': 2, 'ITBOTH': 1, 'CHEER': 1, 'UPNOT': 1, 'FIT': 1, 'SOO': 1, 'MUCHXXLOVE': 1, 'LOCAXX': 1, 'ItÛs': 2, 'reassuring': 1, 'Vikky': 1, 'team': 1, 'base': 2, 'rate': 2, 'pushes': 1, 'edge': 1, 'underdtand': 1, 'sen': 2, 'advice': 3, 'Geeeee': 1, 'lover': 2, 'anymore': 4, 'apologetic': 1, 'fallen': 1, 'actin': 1, 'spoilt': 1, 'child': 2, 'Till': 1, 'badly': 1, 'cheers': 1, 'oktake': 1, 'careumma': 1, 'tomorro': 1, 'replying': 2, 'Has': 1, 'boye': 3, 'joys': 1, 'lifeis': 1, 'daywith': 1, 'thoughts': 1, 'somewhereSomeone': 1, 'cares': 1, 'tosend': 1, 'greeting': 1, 'gods': 2, 'Alex': 1, 'sells': 2, 'mids': 2, 'Tomarrow': 1, 'final': 1, 'hearing': 1, 'anand': 1, 'Yesfrom': 1, 'related': 1, 'trade': 1, 'Arul': 1, 'glad': 3, 'stock': 2, 'Bognor': 1, 'splendid': 1, 'Hyde': 1, 'opps': 1, 'confused': 2, 'tts': 1, 'choice': 2, 'spatula': 1, 'motivating': 1, 'sharing': 1, 'Missing': 7, 'Siva': 1, 'Had': 2, 'easier': 2, 'regret': 1, 'Aaooooright': 1, 'Thinkin': 1, 'Alrite': 1, 'jod': 1, 'revision': 1, 'Keris': 1, 'bin': 4, 'smidgin': 1, 'collegexx': 1, 'putting': 3, 'roommates': 3, 'FUCKIN': 2, 'THINK': 1, 'tiime': 1, 'hug': 4, 'tears': 1, 'loxahatchee': 2, 'tree': 2, 'burning': 2, 'stars': 1, 'selflessness': 1, 'affectionate': 1, 'Turns': 1, 'worth': 3, 'Ahhhhjust': 1, 'woken': 1, 'uphad': 1, 'thoso': 1, 'comedy': 1, 'Waqt': 1, 'se': 2, 'pehle': 1, 'naseeb': 1, 'zyada': 1, 'kisi': 1, 'ko': 1, 'kuch': 1, 'nahi': 2, 'miltaZindgi': 1, 'wo': 2, 'jo': 2, 'hum': 1, 'sochte': 1, 'hai': 3, 'Zindgi': 1, 'ham': 2, 'jeetey': 1, 'txt': 3, 'flew': 1, 'window': 2, 'Help': 1, 'needy': 1, 'pouts': 2, 'stomps': 2, 'usual': 6, 'gentleman': 2, 'dignity': 2, 'respect': 2, 'coccooning': 1, 'impression': 1, 'Remember': 2, 'mahal': 1, 'Fifty': 1, 'unfortunately': 1, 'Pics': 1, 'obviously': 3, 'cakes': 1, 'Change': 4, 'sentence': 3, 'concentrate': 2, 'educational': 2, 'career': 2, 'Noits': 1, 'ful': 2, 'lyrics': 1, 'diddy': 1, 'neighbor': 1, 'toothpaste': 1, 'Arabian': 1, 'steed': 1, 'Yummy': 1, 'therere': 1, 'tablets': 2, 'Reaction': 1, 'relaxing': 1, '7am': 1, '5ish': 1, 'flatter': 1, 'pints': 1, 'carlin': 1, 'ten': 8, 'cat': 2, 'Italian': 2, 'cosign': 1, 'nordstrom': 1, 'success': 1, 'Rightio': 1, '1148': 1, 'bright': 2, 'Jane': 1, 'babes': 2, 'wrk': 1, 'lst': 1, 'Foned': 1, 'chuck': 1, 'Yessura': 1, 'tvlol': 1, 'tensed': 1, 'keeps': 2, 'Queen': 1, 'hmmm': 1, 'Doesnt': 2, 'ache': 2, 'desparately': 1, 'Nofew': 1, 'beforewent': 1, 'Muhommad': 1, 'Penny': 1, 'officewhats': 1, 'mattermsg': 1, 'hire': 1, 'hitman': 1, 'Shuhui': 1, 'bought': 4, 'rons': 1, 'tahan': 1, 'anot': 1, 'Ffffffffff': 1, 'sooner': 4, 'arnt': 1, 'xxxxxxxxxxxxxX': 1, 'Purity': 3, 'messageIts': 3, 'SleepwellampTake': 2, 'Shall': 6, 'flurries': 1, 'usually': 2, 'melt': 2, 'ground': 1, 'Eek': 2, 'intention': 1, 'rather': 4, 'visitors': 1, 'pple700': 1, '900': 2, 'nightsExcellent': 1, 'breakfast': 1, 'hamper': 1, 'fried': 1, 'spares': 1, 'looovvve': 1, 'arrive': 1, 'Ohas': 1, 'ph': 1, 'practising': 1, 'curtsey': 1, 'kidding': 1, 'papa': 1, 'Match': 1, 'startedindia': 1, 'Bring': 2, 'respectful': 1, 'Nobut': 1, 'Ask': 3, 'picture': 1, 'legs': 2, 'high': 3, 'incomm': 1, 'Armand': 1, 'epsilon': 2, '2hrs': 1, 'WANNA': 2, 'SOMETHING': 1, 'moneYas': 1, 'youmoney': 1, 'thinghow': 1, 'soo': 1, 'donåÕt': 2, 'randomlly': 1, 'opening': 1, 'enjoyed': 1, 'burial': 1, 'Idea': 1, 'converted': 1, 'young': 1, 'Reverse': 1, 'cheating': 1, 'mathematics': 1, 'callon': 1, 'assume': 2, 'HIYA': 1, 'STU': 1, '2IM': 1, 'TRUBLE': 1, 'MOMENT': 1, 'EVONE': 1, 'HATES': 1, 'EVEN': 1, 'HELL': 1, 'AV': 1, 'WONT': 1, 'BCK': 1, 'DAN': 1, 'Open': 1, 'rebtel': 1, 'firefox': 1, 'user': 1, 'lower': 2, 'hospitals': 1, 'equally': 1, 'uneventful': 1, 'pesky': 1, 'cyclists': 1, 'Lemme': 2, 'passed': 3, 'ahold': 1, 'Unlike': 1, 'docs': 2, 'patients': 1, 'turkeys': 1, 'shelf': 1, 'Anything': 7, 'answering': 2, 'everyones': 1, 'babysitting': 1, 'monthly': 1, 'terrible': 3, '6months': 1, 'finishing': 3, 'goal': 1, 'ruin': 1, 'thesis': 1, 'uses': 1, 'stops': 3, 'Thursday': 1, 'disturbing': 2, 'BTW': 1, 'alibi': 1, 'Heart': 3, 'empty': 5, 'wisdom': 1, 'Eyes': 1, 'Alwys': 1, 'Touch': 1, 'escalator': 1, 'windows': 2, 'logoff': 1, 'menu': 2, 'deam': 1, 'Studying': 1, 'båÕday': 2, 'eighth': 1, 'Beautiful': 2, 'Truth': 2, 'Gravity': 2, 'carefully': 2, 'suite': 1, 'xavier': 2, 'warning': 2, 'samantha': 1, 'jays': 2, 'guitar': 1, 'impress': 1, 'doug': 1, 'realizes': 1, 'comei': 1, 'pride': 1, 'shouldnt': 4, 'takin': 3, 'grownup': 1, 'stuffwhy': 1, 'Idk': 2, 'moved': 2, 'butting': 1, 'heads': 2, 'freedom': 1, 'vs': 1, 'responsibility': 2, 'myself': 5, 'Prabhaim': 3, 'sorydarealyfrm': 3, 'sory': 3, 'Inever': 1, 'exciting': 2, 'thanks2': 1, 'kilos': 1, 'playng': 1, 'doors': 2, 'racing': 2, 'toa': 2, 'payoh': 3, 'james': 1, 'farting': 1, 'colours': 1, 'colour': 2, 'darker': 1, 'styling': 1, 'Pie': 1, 'singing': 1, 'solved': 1, 'CAT': 1, 'xam': 2, '532': 1, '924': 1, '863': 1, '725': 1, 'brilliant1thingi': 1, 'answr': 1, 'Langport': 1, 'fren': 2, 'wildlife': 1, 'want2come': 1, 'that2worzels': 1, 'wizzle': 1, 'atten': 1, 'dealers': 1, 'WRKIN': 1, 'shore': 1, 'ahnow': 1, 'wkg': 1, 'wherebtw': 1, 'nus': 1, 'sc': 1, 'specialise': 1, 'wad': 1, 'chillin': 2, 'super': 1, 'Give': 3, 'unmits': 1, 'Fancy': 1, '730ish': 1, 'Sweet': 5, 'Vijay': 2, 'jaya': 2, 'Spoke': 1, 'mag': 2, 'deliver': 2, 'Deliver': 1, '24th': 1, 'sept': 1, 'PEACH': 1, 'CAKE': 1, 'TASTS': 1, 'LUSH': 1, 'snowman': 1, 'angels': 1, 'snowball': 1, 'fights': 1, 'taxi': 1, 'ing': 1, 'tuesday': 2, 'Uncle': 3, 'Abbey': 1, 'bruce': 2, 'fowler': 1, 'rounds': 1, 'todaybut': 1, 'Getting': 2, 'walsall': 1, 'tue': 1, 'Terry': 1, 'Valuable': 1, 'Affectionate': 1, 'Loveable': 1, 'Eternal': 1, 'Noble': 1, 'Truthful': 1, 'Intimate': 1, 'Natural': 2, 'Enamous': 1, 'VALENTINES': 1, 'chatting': 1, 'difference': 2, 'versus': 1, 'everywhere': 2, 'Cannot': 1, 'tram': 1, 'cousin': 2, 'vic': 1, 'hotel': 2, 'asthma': 1, 'attack': 1, 'medicine': 2, 'supports': 1, 'srt': 1, 'ps3': 1, 'Mostly': 1, 'sports': 1, 'typelyk': 1, 'footblcrckt': 1, 'mark': 1, 'changing': 1, 'diapers': 1, 'owed': 1, 'Smith': 1, 'waste': 3, 'dai': 2, 'gayle': 1, 'disappointment': 1, 'texted': 4, 'craziest': 1, 'Feel': 1, 'Yourself': 1, 'Slowly': 1, 'Becomes': 2, 'Habit': 1, 'Part': 2, 'Follow': 1, 'Unfortunately': 1, 'pleasured': 1, 'Lil': 1, 'ax': 1, 'openin': 1, 'formal': 1, 'tt': 4, 'puttin': 1, 'weightHaha': 1, 'Baaaaaaaabe': 1, 'Wake': 2, 'gotten': 2, 'begun': 1, 'registration': 1, 'permanent': 1, 'residency': 1, '215': 1, 'Rofl': 1, 'betta': 1, 'invest': 1, 'aging': 1, 'products': 1, 'sculpture': 1, 'receipt': 2, 'Sthis': 1, 'increase': 1, 'winning': 1, 'latest': 2, 'Ho': 2, 'desparate': 2, 'learned': 1, 'fake': 1, 'turn': 1, 'heater': 2, 'degrees': 1, 'worryuse': 1, 'pieces': 1, 'cloth': 1, 'packalso': 1, 'Hitechnical': 1, 'supportproviding': 1, 'assistance': 1, 'slide': 1, 'Horrible': 2, 'macs': 1, 'practicing': 1, 'babies': 2, 'wifi': 1, 'blanked': 1, 'step': 1, 'disastrous': 1, 'fav': 1, 'darlings': 1, 'wld': 1, 'famamus': 1, 'brum': 1, 'youcarlos': 1, 'isare': 1, 'phones': 1, 'vibrate': 1, 'acting': 1, 'iphone': 1, 'april': 4, 'hustle': 1, 'forth': 1, 'audition': 2, 'harlem': 1, 'bagi': 1, 'mei': 1, 'Wk': 2, 'hairdressers': 1, 'four': 2, 'beforehand': 1, 'uham': 1, 'Piggy': 1, 'awake': 3, 'Put': 3, 'Dictionary': 2, '3Cover': 2, 'screen': 2, '4Press': 2, '5Gently': 2, 'burden': 1, 'drunk': 1, 'LOU': 1, 'GOODNITE': 1, 'SHAME': 1, 'CAME': 1, 'YA': 2, 'GAILxx': 1, 'treadmill': 1, 'Craigslist': 1, 'Simply': 1, 'sitting': 2, 'round': 4, 'resizing': 1, 'popping': 1, 'ibuprofens': 1, 'Lara': 1, 'Nver': 1, 'Cozsomtimes': 1, 'biggest': 1, 'Hearts': 1, 'Youll': 2, 'daddy': 2, 'allday': 1, 'piss': 1, 'habit': 1, 'bari': 1, 'hudgi': 1, 'yorge': 1, 'pataistha': 1, 'ertini': 1, 'GAS': 1, 'STATION': 1, 'THERE': 1, 'pubs': 1, 'Frankie': 1, 'Bennys': 1, 'warner': 1, 'wasted': 1, 'meaningful': 1, 'lines': 1, 'compromised': 1, 'chad': 1, 'gymnastics': 1, 'Christians': 1, 'lives': 4, 'cleaning': 3, 'priority': 1, 'closes': 2, 'rubber': 1, 'speaking': 1, 'expression': 1, '1childish': 1, '2naughty': 1, '3Sentiment': 1, '4rowdy': 1, '5ful': 1, 'attitude': 1, '6romantic': 1, '7shy': 1, '8Attractive': 1, '9funny': 1, 'irritating': 2, 'avo': 1, 'Nottingham': 1, '63miles': 1, '40mph': 1, 'anthony': 2, 'invite': 2, 'pen': 1, 'Wont': 1, 'Biro': 1, 'youÛll': 1, 'apology': 1, 'poor': 3, 'brand': 2, 'Si': 2, 'rr': 1, 'Eta': 1, '1230': 1, 'thatÛs': 1, 'okday': 1, 'enjoying': 1, 'appeal': 1, 'thriller': 1, 'director': 1, 'skint': 1, 'fancied': 1, 'bevieswaz': 1, 'gona': 1, 'othrs': 1, 'spoon': 1, 'watchng': 1, 'planet': 1, 'earthsofa': 1, 'comfey': 1, 'auntys': 1, '46': 1, 'Sicomo': 1, 'nolistened2the': 1, 'plaid': 1, 'albumquite': 1, 'gdthe': 1, 'air1': 1, 'hilariousalso': 1, 'boughtåÓbraindanceåÓa': 1, 'compofstuff': 1, 'aphexåÕs': 1, 'abel': 1, 'cine': 4, 'plaza': 1, 'Those': 2, 'cocksuckers': 1, 'ipads': 1, 'worthless': 1, 'garbage': 1, 'novelty': 1, 'items': 1, 'shirt': 2, 'pants': 1, 'tons': 1, 'paypal': 1, 'Voila': 1, 'Money': 1, 'pockets': 1, 'lightly': 1, 'checkboxes': 1, 'hardcore': 1, 'Whatever': 1, 'juliana': 1, 'Pete': 2, 'meive': 1, 'hardly': 2, 'gotany': 1, 'ignoring': 1, 'Shopping': 3, 'computational': 1, 'science': 1, 'mentionned': 1, 'taylor': 2, 'mouse': 1, 'desk': 1, 'priscillas': 1, 'sport': 1, 'shoes': 2, 'plm': 1, 'Orh': 1, 'flirting': 1, 'paperwork': 1, 'nervous': 1, 'knowing': 2, 'fired': 1, 'journey': 2, 'receipts': 1, 'pendent': 1, 'finewhen': 2, 'missin': 2, 'guilty': 2, 'Midnight': 1, 'earliest': 1, 'wet': 2, 'Guide': 1, 'torrents': 1, 'particularly': 1, 'legal': 2, 'slowing': 1, 'sundayish': 1, 'Okey': 3, 'doke': 1, 'dressed': 2, 'laying': 1, 'Sry': 1, 'dajst': 1, 'impressively': 1, 'sensible': 1, 'Whens': 1, 'imma': 5, 'flip': 1, 'table': 1, 'gate': 1, 'Charles': 1, 'uh': 1, 'Missed': 1, 'yelling': 1, 'scrappy': 1, 'lonely': 1, 'daily': 2, 'miserable': 1, 'recorded': 1, 'cd': 1, '140': 1, 'ardÌä': 1, '180': 1, 'leastWhich': 1, 'bedrm': 1, 'breather': 1, 'granted': 1, 'fulfil': 1, 'blessing': 1, 'swoop': 2, 'dippeditinaDEW': 2, 'lovingly': 2, 'itwhichturnedinto': 2, 'gifted': 2, 'tomeandsaidTHIS': 2, '4U': 3, 'dirty': 1, 'fellow': 1, 'lessons': 5, 'nudist': 1, 'themed': 1, 'lodging': 1, 'rushing': 1, 'adore': 2, 'law': 3, 'meatballs': 1, 'manage': 2, 'Pandy': 1, '4w': 1, 'technologies': 1, 'todayhe': 1, 'samus': 1, 'shoulders': 1, 'suppose': 1, 'archive': 1, 'owns': 1, 'private': 1, 'enters': 1, 'Someone': 1, 'removed': 1, 'differ': 1, 'differbe': 1, 'mumHas': 1, 'beendropping': 1, 'wine': 4, 'theplace': 1, 'adress': 1, 'tonght': 1, 'yellow': 1, 'uk': 1, 'thinks': 2, 'Ptbo': 2, 'cheaper': 2, 'machines': 1, 'audreys': 1, 'status': 1, 'Tunji': 1, 'queen': 1, 'chillaxin': 1, 'length': 1, 'Dun': 5, 'seeking': 1, 'Tomorrow': 2, 'posting': 1, 'chennaibecause': 1, 'theory': 1, '21': 1, 'jiayin': 1, 'Kinda': 1, 'First': 4, 'Aah': 1, 'Mum': 4, 'mums': 2, 'appointments': 1, 'shoving': 1, 'normal': 4, 'prin': 1, 'easiest': 1, 'barcelona': 1, 'begging': 1, 'callingForgot': 1, 'Onam': 1, 'SirjiI': 1, 'remembered': 1, 'insurance': 1, 'personMeet': 1, 'Qatar': 1, 'Insha': 1, 'AllahRakhesh': 1, 'Tata': 1, 'AIG': 1, 'TISSCOTayseer': 1, 'Filling': 1, 'sighs': 3, 'formatting': 1, 'notice': 4, 'Printer': 1, 'groovy': 1, 'Wine': 1, 'groovying': 1, 'deus': 1, 'yr': 2, 'GOIN': 3, '2NITE': 2, 'biolas': 1, 'fne': 1, 'Checkmate': 1, 'chess': 1, 'Persian': 1, 'phrase': 1, 'Shah': 1, 'Maat': 1, 'missionary': 1, 'Lucky': 1, 'goggles': 1, 'naal': 1, 'eruku': 1, 'include': 1, 'eggpotato': 1, 'ratio': 1, 'tortilla': 1, 'wuld': 1, 'mite': 2, 'everyboy': 1, 'xxxxxxxx': 1, 'outhave': 1, 'placed': 1, 'Small': 1, 'auctionpunj': 1, 'tiwary': 1, 'EY': 1, 'CALM': 1, 'DOWNON': 1, 'THEACUSATIONS': 1, 'ITXT': 1, 'COS': 1, 'IWANA': 1, 'WOTU': 1, 'DOIN': 1, 'THEWEND': 1, 'HAVENTCN': 1, 'AGESRING': 1, 'UP4': 1, 'NETHING': 1, 'SATLOVE': 1, 'eggspert': 1, 'potato': 1, 'headÛ': 1, 'rounderso': 1, 'required': 1, 'dull': 1, 'Hidid': 1, 'waheeda': 1, 'hor': 2, 'iÛm': 1, 'splash': 1, 'ron': 1, 'burgundy': 1, 'captaining': 1, 'boat': 2, 'bottle': 1, 'amused': 1, 'IÛll': 2, 'Lk': 1, 'yogasana': 1, 'Neshanthtel': 1, 'agree': 1, 'willing': 3, 'timings': 1, '8am': 1, 'code': 1, 'natwest': 1, 'em': 2, 'box': 3, 'Waaaat': 1, 'Lololo': 1, 'reache': 1, 'THANX': 1, 'PUTTIN': 1, 'DOWN': 2, 'predicting': 1, 'accumulation': 1, 'smoking': 3, 'jp': 1, 'mofo': 1, 'karaoke': 1, 'debating': 1, 'football': 2, 'Feeling': 1, 'yijuehotmailcom': 1, 'knowthis': 1, 'tirunelvai': 1, 'å6': 2, 'Drink': 1, 'tap': 1, 'spile': 1, 'seven': 2, 'broad': 1, 'canal': 1, 'Prasanth': 1, 'ettans': 1, 'Greetings': 1, 'Consider': 1, 'excused': 1, 'harri': 1, 'spoil': 1, 'judgementali': 1, 'fridays': 1, 'neighbors': 1, 'Moji': 2, 'easily': 1, 'lengths': 1, 'behalf': 1, 'stunning': 1, 'key': 2, 'upstairs': 2, 'hectic': 1, 'wind': 1, 'Helloooo': 1, 'welcomes': 1, 'joy': 2, 'MRNG': 1, 'Tunde': 1, 'HUNNYWOT': 1, 'DIDNT': 1, 'END': 1, 'TOWN': 1, 'JUS': 2, 'PUB': 1, 'INSTEAD': 1, 'CHILLIN': 1, 'BEDROOMLOVE': 1, 'JEN': 1, 'brownie': 1, 'Wats': 3, 'vill': 1, 'parco': 1, 'nb': 1, 'orc': 1, 'åÈ10': 1, 'evey': 1, 'mnth': 1, 'screamed': 1, 'owned': 1, 'possessive': 1, 'immediately': 2, 'Evry': 1, 'Emotion': 1, 'dsnt': 3, 'WordsEvry': 1, 'Prayrs': 1, 'SmileD': 1, 'uOthrwise': 1, 'Drop': 1, 'Stay': 1, 'uSo': 1, 'glo': 1, 'infernal': 2, 'Awesome': 4, 'canÛt': 1, 'lag': 1, 'TELLMISS': 1, 'WAY': 1, 'GRAN': 1, 'ONLYFOUND': 1, 'AFEW': 1, 'DAYS': 1, 'AGOCUSOON': 1, 'HONI': 1, 'proof': 2, 'allow': 1, 'receiving': 1, 'oral': 1, 'Doggy': 1, 'fave': 2, 'position': 2, 'Took': 1, 'Centre': 1, 'replacing': 1, 'ordered': 1, 'Sez': 1, 'arab': 1, 'evry1': 1, 'eshxxxxxxxxxxx': 1, 'ALEX': 1, 'NICHOLS': 1, 'UAWAKEFEELLIKW': 1, 'SHITJUSTFOUND': 1, 'VIA': 1, 'ALETTER': 1, 'THATMUM': 1, 'GOTMARRIED': 1, '4thNOVBEHIND': 1, 'OURBACKS': 1, 'åÐ': 1, 'FUCKINNICESELFISH': 1, '1000s': 1, 'caroline': 1, 'Bless': 1, 'Ladies': 1, 'genus': 1, 'Science': 1, 'sunlight': 2, 'BCozI': 1, 'dokey': 2, 'iÛll': 1, 'telugu': 1, 'moviewat': 1, 'Hmmmkbut': 1, 'administrator': 2, 'network': 3, 'plate': 1, 'leftovers': 1, 'resume': 1, 'Meet': 2, '945': 1, 'Fingers': 2, 'Makes': 1, 'strong': 2, 'arty': 1, 'collages': 1, 'tryin': 1, 'ne': 2, 'roast': 1, 'Minimum': 1, '3miles': 1, 'HouseMaid': 1, 'murdered': 1, 'January': 1, 'public': 1, 'govtinstituitions': 1, 'closedincluding': 1, 'officeunderstand': 1, 'Including': 2, 'Usf': 1, 'Convey': 2, 'aids': 1, 'patent': 1, 'slots': 1, 'engalnd': 1, 'telly': 1, 'mia': 1, 'elliot': 1, 'kissing': 1, 'financial': 1, 'problemi': 1, 'Soon': 1, 'inches': 1, 'tight': 1, 'shanghai': 1, '21st': 1, 'cya': 1, 'robinson': 1, 'Normally': 1, 'select': 1, 'astrology': 1, 'portege': 1, 'm100': 1, 'worc': 1, 'foregate': 1, 'shrub': 1, 'Loooooool': 1, 'reference': 2, 'couch': 1, 'Wasnt': 1, 'celebration': 2, 'rents': 1, 'msgsometext': 1, 'thus': 1, 'dismay': 1, 'HELLOGORGEOUS': 1, 'HOWS': 2, 'CHARGE': 1, 'LST': 1, 'NITW': 1, 'TEXD': 1, 'HOPEU': 1, 'AD': 1, 'WKEND': 1, 'SURE': 1, 'LOOKIN': 1, '4WARD': 1, 'CIN': 1, '2MRW': 1, 'JAZ': 1, 'confuses': 1, 'gauge': 1, 'pattys': 1, 'interest': 1, 'nigro': 1, 'restocked': 1, 'URL': 3, 'Prof': 2, 'papers': 2, 'congrats': 1, 'Student': 1, 'Enna': 1, 'kalaachutaarama': 1, 'unbelievable': 1, 'faglord': 1, 'gs': 1, 'ammo': 1, 'ak': 1, 'chicken': 2, 'broth': 1, 'ramen': 1, 'stressfull': 1, 'Laugh': 1, 'adds': 1, 'ni8swt': 2, 'å3365': 1, 'blimey': 1, 'exercise': 1, 'hmm': 1, 'talent': 1, 'Concentrate': 1, 'Book': 1, 'sth': 1, 'specs': 1, 'membership': 1, 'PX3748': 1, 'Allo': 1, 'braved': 1, 'buses': 1, 'taken': 1, 'trains': 2, 'triumphed': 1, 'weÛre': 1, 'bÛham': 1, 'jolly': 1, 'Eh': 4, 'Rs5': 1, 'northampton': 1, 'afraid': 2, 'Doctor': 1, 'India': 3, 'APPY': 1, 'FIZZ': 1, 'contains': 1, 'Cancer': 1, 'causing': 1, 'adewale': 1, 'Aka': 1, 'Egbon': 1, 'KAVALAN': 2, 'cards': 1, 'macho': 1, 'interfued': 1, 'assumed': 1, 'worst': 2, 'atm': 2, 'yrs': 2, 'From': 3, 'remb': 1, 'Thts': 2, 'Wright': 1, 'fly': 1, 'Thout': 1, 'Kay': 2, 'dayexcept': 1, 'view': 1, 'gays': 1, 'games': 1, 'Two': 2, 'teams': 1, 'adult': 1, 'danger': 1, 'peeps': 1, 'comment': 1, 'Jos': 1, 'Holy': 1, 'living': 2, 'christ': 2, 'gooD': 1, 'rayan': 1, 'macleran': 1, 'split': 1, 'TaKe': 1, 'gET': 1, 'WeLL': 1, 'sOOn': 1, 'Texting': 1, 'gei': 1, 'tron': 1, 'dl': 1, '3d': 1, 'pongaldo': 2, 'Kkyesterday': 1, 'cbe': 4, 'wtc': 1, 'Weiyi': 1, 'senthilhsbc': 1, 'Test': 1, 'wylie': 2, 'justify': 1, 'ruining': 1, 'chile': 1, 'subletting': 1, 'febapril': 1, 'EACHOTHER': 1, 'HOUSE': 1, 'nte': 1, 'uncomfortable': 1, 'Seventeen': 1, 'hundred': 1, 'ml': 1, 'scenery': 1, 'oga': 1, 'Al': 2, 'thin': 1, 'faultal': 1, 'arguments': 1, 'faultfed': 1, 'himso': 1, '2go': 1, 'thanxxx': 1, 'ingredients': 1, 'oclock': 1, 'bash': 1, 'Pshewmissing': 1, 'MISSED': 1, 'HAVENT': 1, 'BORED': 1, 'HOLIDAY': 2, 'COLLEGE': 1, 'SAD': 1, 'ISNT': 1, 'ITxx': 1, 'Xy': 2, 'steyn': 1, 'wicket': 1, 'noncomittal': 1, 'Ohi': 1, 'Hahatake': 1, 'hourish': 1, 'Syria': 1, 'Canada': 1, 'Pansy': 1, 'Youve': 2, 'jungle': 1, 'lined': 1, 'behave': 1, 'eldest': 1, 'summer': 1, 'Such': 1, 'Oooooh': 1, 'Gain': 1, 'rights': 1, 'wifedont': 1, 'demand': 1, 'iti': 1, 'tooLets': 1, 'Each': 2, 'elaborating': 1, 'safety': 1, 'aspects': 1, 'issues': 2, 'NYs': 1, 'roomate': 1, 'graduated': 1, 'shouting': 1, 'hooked': 1, 'Messagesome': 2, 'SenderName': 2, 'Number': 2, 'SentDate': 2, 'bathroom': 1, 'Sen': 1, 'refund': 1, 'aptitude': 1, 'MAYBE': 1, 'WOKE': 1, 'BEFORE': 1, 'WOULDNT': 1, 'BE': 2, 'PROBLEM': 1, 'entrepreneurs': 1, 'passport': 1, 'testing': 1, 'sayy': 1, 'fill': 3, 'fundamentals': 1, 'Walk': 1, 'uworld': 1, 'qbank': 1, 'assessment': 1, 'Lmaonice': 1, 'wrks': 1, 'j': 1, 'prince': 1, 'charming': 1, 'godtaken': 1, 'teethis': 1, 'paining': 1, 'unintentionally': 1, 'fifteen': 1, 'keen': 1, 'nauseous': 1, 'pig': 2, 'dieting': 1, 'matric': 1, 'pattern': 2, 'emerging': 1, 'fiendmake': 1, 'muchimpede': 1, 'hesitant': 1, 'ducking': 1, 'chinchillas': 1, 'Din': 1, '420': 1, 'JJC': 1, 'tendencies': 1, 'horse': 1, 'rice': 2, 'Senthil': 1, 'Apnt': 1, 'Sos': 1, 'Arun': 1, 'transfr': 1, 'topicsorry': 1, 'handed': 2, 'Celebrations': 1, 'typical': 1, 'lasagna': 1, 'vodka': 1, 'attracts': 1, 'brothas': 1, 'signal': 1, 'neither': 1, 'unusual': 1, 'Hugs': 1, 'snogs': 1, 'Ma': 1, 'dey': 2, 'swell': 1, 'DATE': 1, 'SUNDAY': 1, 'uploaded': 1, 'Play': 1, 'tok': 2, 'musthu': 2, 'Ssi': 1, 'thinl': 1, 'sachinjust': 1, 'Others': 1, 'Aiyo': 2, 'pai': 1, 'seh': 1, 'lookin': 3, 'kisses': 1, 'downs': 1, 'fletcher': 1, 'complain': 1, 'onlybettr': 1, 'bsnl': 1, 'offc': 1, 'nd': 1, 'apply': 1, 'Mr': 2, 'YEAHAND': 1, 'HAV': 1, 'GREAT': 1, 'NEWQUAYSEND': 1, 'POSTCARD': 1, 'AFTER': 1, 'GIRLS': 1, 'WHILE': 1, 'GONEU': 1, '1IM': 1, 'TALKIN': 1, 'BOUTxx': 1, 'Gumbys': 1, 'cheese': 2, 'jokethet': 1, 'skinny': 1, 'lineyou': 1, 'camera': 1, 'casting': 1, 'Dan': 1, 'reminded': 1, 'greatest': 1, 'courage': 1, 'bear': 1, 'defeat': 1, 'heartgn': 1, 'tc': 1, 'Squeeeeeze': 1, 'frndshp': 1, 'luvd': 1, 'Harishs': 1, 'transfred': 1, 'Acnt': 1, 'Hang': 1, 'caller': 1, 'Food': 1, 'starving': 1, 'cooked': 1, 'listed': 1, 'treats': 1, 'sub': 2, 'anythings': 1, 'phoned': 1, 'disconnected': 1, 'Umma': 1, 'Kkgoodstudy': 1, 'Somewhr': 1, 'perfect': 1, 'crushes': 1, 'feathery': 1, 'bowa': 1, 'pocked': 1, 'block': 1, 'armenia': 1, 'swann': 1, 'howard': 1, 'topic': 1, 'St': 1, 'andre': 1, 'virgils': 1, 'arrived': 1, 'massages': 1, 'oil': 1, 'MINI': 1, 'shadow': 1, 'spring': 1, 'recently': 5, 'swollen': 1, 'glands': 1, 'bsn': 1, 'advising': 1, 'worms': 1, 'inpersonation': 1, 'flea': 1, 'forums': 1, 'Hellodrivby0quit': 1, 'edrunk': 1, 'iff': 1, 'pthis': 1, 'senrddnot': 1, 'dancce': 1, 'drum': 1, 'basqihave': 1, '2nhite': 1, 'ros': 1, 'xxxxxxx': 1, 'olave': 1, 'mandara': 1, 'trishul': 1, 'Gam': 1, 'ksry': 1, 'sivatats': 1, 'aunt': 2, 'flow': 1, 'developed': 1, 'ovarian': 1, 'cysts': 1, 'Bc': 1, 'shrink': 1, '430': 1, 'dearslp': 1, 'welltake': 1, 'careswt': 1, 'dreamsMuah': 1, 'stash': 1, 'si': 1, 'oreo': 2, 'truffles': 2, 'september': 1, 'art': 3, 'flirt': 3, 'invention': 1, 'flyim': 1, 'NO1': 1, 'computerless': 1, 'arithmetic': 1, 'percentages': 1, 'clarify': 1, 'preponed': 1, 'elaine': 1, 'bitching': 1, 'kalainar': 1, 'officethenampet': 1, 'Ahhh': 1, 'Work': 1, 'vaguely': 1, 'Apart': 1, 'Arngd': 1, 'walkin': 1, 'unfortuntly': 1, 'bites': 1, 'frnt': 1, 'sayin': 1, 'Bite': 1, 'bite': 1, 'turned': 1, 'cme': 2, 'hos': 1, '2morow': 1, 'knowhe': 1, 'Beauty': 1, 'pimples': 1, 'north': 1, 'carolina': 1, 'texas': 1, 'gre': 1, 'results': 1, 'Genius': 1, 'Jeremiah': 1, 'milk': 3, 'calicut': 2, 'relieved': 1, 'westonzoyland': 1, 'philosophical': 1, 'hole': 1, 'saved': 3, 'nike': 1, 'formclark': 1, 'utter': 1, 'somethin': 3, 'reg': 1, 'pract': 1, 'Flung': 1, 'jackson': 1, 'rec': 1, 'center': 1, 'ASKED': 1, 'forgiveness': 1, 'onwards': 1, 'barring': 1, 'sudden': 1, 'influx': 1, 'blankets': 1, 'sufficient': 1, 'thx': 1, 'Nottel': 1, 'spreadsheet': 1, 'whose': 1, 'determine': 1, 'entire': 1, 'WHO': 3, 'SEEING': 1, 'fridayhope': 1, 'alternativehope': 1, 'statement': 1, 'woulda': 2, 'rahul': 1, 'dengra': 1, 'mummys': 1, 'positive': 1, 'negative': 1, 'Hmmmm': 1, 'twenty': 1, 'durham': 1, 'reserved': 1, 'seat': 3, 'Kent': 1, 'vale': 1, 'loti': 1, 'dirt': 1, 'mouth': 2, 'flowing': 1, 'chores': 1, 'exist': 1, 'hail': 1, 'mist': 1, 'spageddies': 1, 'laughing': 1, 'onedge': 1, 'Haiyoh': 1, 'hamster': 1, 'million': 1, 'MOST': 2, 'IVE': 2, 'EVER': 1, 'SEEN': 1, 'BABY': 1, 'COMMON': 1, 'ROOM': 1, 'tall': 1, 'complacent': 1, 'shortly': 1, 'gep': 1, 'Geelater': 1, 'aust': 1, 'bk': 1, 'prolly': 1, 'thinked': 1, 'ana': 1, 'tomarrow': 1, 'sathy': 1, 'RTO': 1, 'crashed': 1, 'cuddled': 1, 'Ron': 1, 'ding': 1, 'tai': 1, 'feng': 1, 'reservations': 1, 'cartons': 1, 'shelves': 1, 'linear': 1, 'algebra': 1, 'anyplaces': 1, 'clever': 1, 'guesses': 1, 'attach': 1, 'Heroi': 1, 'qatar': 1, 'apt': 1, 'opportunitypls': 1, 'EMAIL': 1, 'ger': 1, 'toking': 1, 'syd': 1, 'lehHaha': 1, 'Carlosll': 1, 'stalking': 1, 'respond': 1, 'grand': 1, 'nature': 1, 'adventure': 1, 'Derp': 1, 'complaint': 1, 'abusers': 1, 'wee': 1, 'Ilol': 1, 'personally': 1, 'wuldnt': 1, 'Reckon': 1, 'eightish': 1, 'carpark': 1, 'Tmrw': 1, 'Keng': 1, 'rocking': 1, 'ashes': 1, 'held': 1, 'prasad': 1, 'punto': 1, 'Sony': 1, 'ericsson': 1, 'salesman': 1, 'Moms': 1, 'checkup': 1, 'aka': 1, 'pap': 1, 'smear': 1, 'anyways': 1, 'Gudnitetcpractice': 1, 'fishrman': 1, 'dark': 1, 'sack': 1, 'stones': 2, 'strtd': 1, 'throwin': 1, 'thm': 2, 'in2': 1, 'Atlast': 1, '1stone': 1, 'diamonds': 1, 'MoralDont': 1, 'uv': 1, 'causes': 1, 'mutations': 1, 'Sunscreen': 1, 'thesedays': 1, 'kills': 1, 'evo': 1, 'Jealous': 1, 'Spring': 1, 'wesleys': 1, 'hella': 3, 'engagement': 1, 'fixd': 1, 'shocking': 1, 'bthmm': 1, 'njan': 1, 'vilikkamt': 1, 'ws': 3, 'sudn': 1, 'Networking': 2, 'associate': 1, 'Kkany': 1, 'Poor': 1, 'lmao': 1, 'iouri': 2, 'ryans': 1, 'Wana': 1, 'sometme': 1, 'Funny': 1, 'volcanoes': 1, 'erupt': 1, 'tsunamis': 1, 'arise': 1, 'hurricanes': 1, 'sway': 1, 'aroundn': 1, 'disasters': 1, 'propsd': 1, 'gv': 1, 'lv': 1, 'lttrs': 1, 'threw': 1, 'Again': 1, 'aproach': 1, 'dt': 1, 'truck': 1, 'speeding': 1, 'girld': 1, 'cn': 1, 'Boost': 1, 'instantly': 1, 'Thy': 1, 'lived': 1, 'happily': 1, '2gthr': 1, 'evrydy': 1, 'Moral': 1, 'msgsD': 1, 'Velusamy': 1, 'sirs': 1, 'birth': 2, 'facilities': 1, 'Staff': 1, 'Amrita': 1, 'entirely': 1, 'umma': 1, 'ortxt': 1, 'jess': 2, 'taxt': 1, 'massagetiepos': 1, 'argh': 1, 'Lool': 1, 'GOT': 1, 'REALLY': 3, 'THANKS': 1, 'LIFT': 1, 'TOMORROW': 2, 'starshine': 1, 'Ache': 1, 'sips': 1, 'barred': 1, 'stores': 1, 'lifeThis': 1, 'twat': 1, 'dungerees': 1, 'decking': 1, 'punch': 1, 'bishan': 2, 'Whenre': 1, 'mcr': 1, 'sian': 1, 'brin': 1, 'Mayb': 2, 'properly': 1, 'sheet': 1, 'infra': 1, 'lock': 1, 'keypad': 1, 'grocers': 1, 'unconvinced': 1, 'elaborate': 1, 'willpower': 1, 'Sinco': 1, 'Payee': 1, 'Log': 1, 'icicibankcom': 1, 'enter': 1, 'URN': 2, 'Beware': 1, 'frauds': 1, 'disclose': 1, 'commit': 1, 'requirements': 1, 'Yeesh': 1, 'matter': 5, 'webadres': 1, 'geting': 1, 'openings': 1, 'thanksgiving': 2, 'upcharge': 1, 'iZ': 1, 'Yellow': 1, 'misscall': 1, 'frndZ': 1, '6missed': 1, 'weathers': 1, 'shock': 1, 'reaction': 1, 'Realy': 1, 'sorryi': 1, 'recognise': 1, 'missions': 1, 'mirror': 1, 'Jon': 1, 'Spain': 1, 'sum': 1, 'dinero': 1, 'åÔrents': 1, '12000pes': 1, 'å48': 1, 'tb': 2, 'James': 1, 'quitting': 1, 'least5times': 1, 'wudnt': 1, 'bar': 2, 'Hmmmbut': 1, 'Woodland': 1, 'avenue': 1, 'parish': 1, 'magazine': 1, 'telephone': 1, 'btwn': 1, 'stoners': 1, 'performance': 1, 'award': 1, 'calculated': 1, 'monthnot': 1, 'Them': 1, 'raining': 2, 'firsg': 1, 'ajith': 1, 'stranger': 2, 'stands': 1, 'nitz': 1, 'magic': 1, 'loose': 1, 'idc': 1, 'weaseling': 1, 'further': 1, 'Cbe': 1, 'nowadayslot': 1, 'showroomscity': 1, 'shaping': 1, 'rebooting': 1, 'loans': 1, 'tmrw': 1, 'ft': 1, 'combination': 1, 'scratching': 1, 'bluff': 2, 'Izzit': 2, 'humans': 1, 'natural': 1, 'YWHERE': 1, 'DOGBREATH': 1, 'SOUNDING': 1, 'JAN': 1, 'AL': 1, 'Yeshere': 1, 'aathiwhere': 2, 'voucher': 1, 'virgin': 1, 'sumfing': 1, 'practice': 2, 'remains': 1, 'bro': 1, 'amongst': 1, 'bros': 2, 'emailed': 1, 'yifeng': 1, 'Weightloss': 1, 'ebay': 1, 'spaces': 1, 'embassy': 1, 'cutie': 1, 'WALES': 1, 'hills': 1, 'killed': 2, 'Yesim': 1, 'chechi': 1, 'poorly': 1, 'punishment': 1, 'Brb': 1, 'kill': 1, 'Teach': 1, 'apps': 1, 'TAJ': 1, 'MAHAL': 1, 'symbol': 1, 'lesser': 1, 'known': 1, 'facts': 1, 'Mumtaz': 2, 'Shahjahans': 1, 'wifes': 1, 'Shahjahan': 1, 'Mumtazs': 2, 'delivery': 1, 'Question': 1, 'arises': 1, 'Hell': 1, 'Hari': 1, 'stayin': 1, 'wed': 1, 'rugby': 1, '96': 1, 'europe': 1, 'ganesh': 1, 'shitload': 1, 'staff': 1, 'cultures': 1, 'brainy': 1, 'bec': 1, 'Takin': 1, 'nosy': 1, 'reacting': 1, 'freaked': 1, 'nuerologist': 1, 'dice': 1, 'bhaskar': 1, 'hall': 1, 'term': 1, 'hesitation': 1, 'intha': 1, 'ponnungale': 1, 'ipaditan': 1, 'consider': 1, 'walls': 1, 'bunkers': 1, 'peaceful': 1, 'coveragd': 1, 'area': 2, 'vasai': 1, '4o': 1, 'Catching': 1, 'spiritual': 1, 'satanic': 1, 'imposter': 1, 'meneed': 1, 'priceso': 1, 'itmay': 1, 'destiny': 1, 'painful': 2, 'recognises': 1, 'correctly': 1, 'lorWe': 1, 'merry': 1, 'shun': 1, 'bian': 1, 'glass': 1, 'exhibition': 1, 'flaky': 1, 'tomoCant': 1, 'CHA': 1, 'QUITEAMUZING': 1, 'THATåÕSCOOL': 1, 'sef': 1, 'darling': 1, 'anjie': 1, 'Dis': 2, 'huiming': 1, 'grab': 1, 'basic': 1, 'wkend': 2, 'retard': 1, 'arranging': 1, 'crammed': 1, 'itlet': 1, 'studyn': 1, 'faded': 1, 'glory': 1, 'ralphs': 1, 'Usually': 1, 'progress': 1, 'west': 2, 'coast': 1, 'ÌÏll': 1, 'Jokin': 1, 'Yagoing': 1, 'restaurant': 1, 'soso': 1, 'smsd': 1, 'o': 1, 'stereo': 1, 'mi': 1, 'Save': 1, 'stress': 1, 'dorm': 1, 'islands': 1, 'yor': 1, 'ownyouve': 1, 'stressed': 1, 'depressed': 1, 'Rent': 1, 'expensive': 4, 'helens': 1, 'princes': 1, '6times': 1, 'attended': 1, 'shorts': 1, 'ideal': 2, 'path': 1, 'appear': 1, 'paths': 1, 'T': 1, 'jumpers': 1, 'hat': 1, 'belt': 1, 'Cribbs': 1, 'mega': 1, 'asda': 1, 'counts': 1, 'presnts': 1, 'bcz': 1, 'mis': 2, 'jeevithathile': 1, 'irulinae': 1, 'neekunna': 1, 'prakasamanu': 1, 'sneham': 1, 'prakasam': 1, 'ennal': 1, 'prabha': 2, 'mns': 1, 'isLOVE': 1, 'jabo': 1, 'ship': 1, 'refilled': 2, 'INR': 2, 'KeralaCircle': 2, 'prepaid': 2, 'Rs': 3, 'Transaction': 3, 'ID': 2, 'KR': 2, 'punish': 1, 'limit': 1, 'grace': 2, 'boundaries': 1, 'endless': 1, 'phasing': 1, 'fourth': 1, 'dimension': 1, 'diesel': 1, 'tape': 1, 'affairs': 1, 'dine': 1, 'elama': 1, 'po': 1, 'mudyadhu': 1, 'fyi': 3, 'profile': 1, 'bpo': 1, 'knocking': 1, 'Confidence': 2, 'Aeronautics': 2, 'professors': 2, 'wer': 6, 'calld': 2, 'aeroplane': 2, 'Aftr': 2, 'plane': 4, 'hurried': 2, 'saidif': 2, 'manky': 1, 'scouse': 1, 'stevelike': 1, 'travelling': 1, 'homewot': 1, 'inmind': 1, 'recreation': 1, 'promises': 1, 'comprehensive': 1, 'swhrt': 1, 'deyhope': 1, '2daylove': 1, 'misstake': 1, 'Uh': 1, 'dust': 1, 'pocy': 1, 'note': 2, 'Co': 1, 'Disconnect': 1, 'callcoz': 1, 'iz': 1, 'attempt': 1, 'terrorist': 1, 'Itz': 1, 'confirmd': 1, 'nokia': 1, 'motorola': 1, 'verified': 1, 'CNN': 1, 'IBN': 1, 'answered': 1, 'waitin': 1, 'Miserable': 1, 'massive': 1, 'gut': 1, 'wrenching': 1, 'cramps': 2, 'Omw': 1, 'palm': 1, 'Goodmorningmy': 1, 'grandfather': 1, 'expiredso': 1, 'Loosu': 1, 'De': 1, 'careless': 1, 'fret': 2, 'ovulation': 1, 'strips': 1, 'postal': 1, 'addressull': 1, 'alrightOkay': 1, 'HUN': 1, 'COMIN': 1, '2NITETELL': 1, 'EVERY1': 1, 'SORRY': 2, 'AVA': 1, 'GOODTIMEOLI': 1, 'RANG': 1, 'MELNITE': 1, 'IFINK': 1, 'MITE': 1, 'SORTEDBUT': 1, 'EXPLAIN': 1, 'EVERYTHIN': 1, 'MONL8RSx': 1, 'esaplanade': 1, 'Ujhhhhhhh': 1, 'sandiago': 1, 'parantella': 1, 'lane': 1, 'Wtf': 1, 'Poop': 1, 'Mmmm': 2, 'lick': 2, 'perumbavoor': 1, 'Wherres': 1, 'regretted': 1, 'image': 1, 'Ready': 1, 'Crucify': 1, 'tantrums': 1, 'birthdate': 1, 'certificate': 1, 'publish': 1, 'younger': 1, 'Finished': 1, 'swashbuckling': 1, 'manageable': 1, 'lim': 1, 'player': 1, 'mising': 1, 'gay': 2, 'firmware': 1, 'everybodys': 1, 'speed': 1, 'LIKELY': 1, 'TONIGHT': 1, 'Kyou': 1, 'reception': 1, 'stated': 1, 'GET': 1, 'INTO': 1, 'TROUBLE': 1, 'IJUST': 1, 'TALKED': 1, 'MORNING': 1, 'forwarding': 1, 'pump': 1, 'petrol': 1, 'Sfrom': 1, 'manual': 1, 'processits': 1, 'reset': 1, 'troubleshooting': 1, 'Miles': 1, 'guides': 1, 'Com': 1, 'occasion': 1, 'Celebrated': 1, 'Reflection': 1, 'Values': 1, 'Affectionsamp': 1, 'Traditions': 1, 'Fair': 1, 'weekends': 2, 'Dr': 1, 'Saw': 1, 'Guys': 1, 'Dolls': 1, 'Patrick': 1, 'Swayze': 1, 'Sup': 1, 'panic': 1, 'Sno': 1, 'Captain': 1, 'parking': 1, 'collapsed': 1, 'Stuff': 1, 'DOES': 1, 'sources': 1, 'unhappiness': 1, '5IåÕm': 1, 'knackered': 1, 'iåÕm': 1, 'dreading': 1, 'thou': 1, 'tooPray': 1, 'meRemove': 1, 'teeth': 1, 'maintaining': 1, 'POWER': 2, 'amk': 1, 'ikea': 1, 'costs': 2, 'risks': 1, 'benefits': 1, 'bot': 1, 'notes': 1, 'slice': 1, 'breadstick': 1, 'hiding': 1, 'Whenevr': 2, 'gray': 1, 'Remembr': 1, 'listn': 1, 'watevr': 1, 'whileamp': 1, 'screwd': 1, 'absolutely': 1, 'South': 1, 'Park': 1, 'Ultimately': 1, 'tor': 1, 'motive': 1, 'tui': 1, 'achieve': 1, 'korli': 1, 'RITE': 1, 'BEST': 1, 'MATE': 2, 'PETE': 1, 'WENT': 1, 'WEEK': 2, 'WERE': 1, '2GEVA': 1, 'LONGER': 1, 'THAN': 1, 'approx': 1, 'Per': 1, 'throws': 1, 'brothers': 1, 'settling': 1, 'happenin': 1, 'ola': 1, 'Remembrs': 1, 'Forgets': 1, 'Remembered': 1, 'Everytime': 1, 'Package': 1, 'programs': 1, 'revealing': 1, 'crashing': 1, 'Inform': 1, 'jot': 1, 'ovulatewhen': 1, '2u': 2, '3wks': 1, 'sitter': 1, 'kaitlyn': 1, 'sooooo': 1, 'Lion': 1, 'inconsiderate': 1, 'nag': 1, 'recession': 1, 'hence': 1, 'haircut': 1, 'breezy': 1, 'drove': 1, 'London': 1, 'smashed': 1, 'driver': 1, 'dent': 1, 'Mallika': 1, 'Sherawat': 1, 'Find': 1, 'scores': 1, 'sophas': 1, 'secondary': 1, 'schools': 1, 'applying': 1, 'Contact': 1, 'ogunrinde': 1, 'dependents': 1, 'pierre': 1, 'cardin': 1, 'looks': 2, 'photoshop': 1, 'temales': 1, 'lambu': 1, 'ji': 1, 'cometil': 1, 'batchlor': 1, 'Salam': 1, 'Wahleykkumsharing': 1, 'newsBy': 1, 'TayseerTISSCO': 1, 'joinedHope': 1, 'fineInshah': 1, 'Allahmeet': 1, 'sometimeRakheshvisitor': 1, 'Arms': 1, 'Cardiff': 1, 'uni': 1, 'recovery': 2, 'cooped': 1, 'detailed': 1, 'tylers': 1, 'crisis': 1, 'Shola': 1, 'academic': 2, 'secretary': 1, 'Sagamu': 1, 'lautech': 1, 'vital': 1, 'completes': 1, 'education': 1, 'citizen': 1, 'rates': 1, 'zealand': 1, 'pickle': 1, 'Everyday': 1, 'cheat': 1, 'fatty': 1, 'kappa': 1, 'batt': 1, 'Xavier': 1, 'Yesmum': 1, 'textin': 1, 'laid': 1, 'airtel': 1, 'Meat': 1, 'supreme': 1, 'actual': 1, 'harder': 1, 'NBME': 1, 'Poyyarikaturkolathupalayamunjalur': 1, 'posterode': 1, '2day': 2, 'useless': 1, 'soc': 1, 'costumes': 1, 'future': 2, 'yowifes': 1, 'Hint': 1, 'hint': 1, 'youåÕre': 1, 'anybodys': 1, 'tactful': 1, 'sorta': 1, 'blown': 1, 'timeyou': 1, 'MOON': 1, 'STARS': 1, 'musical': 1, 'Peaceful': 1, 'Sleep': 1, 'hypertension': 1, 'Joking': 1, 'resubbing': 1, 'andros': 1, 'Google': 1, 'nearby': 1, 'cliffs': 1, 'MR': 1, 'SHEFFIELD': 1, 'nanny': 1, 'weirdy': 1, 'brownies': 1, 'get4an18th': 1, 'loves': 1, 'sex': 1, 'sleeps': 1, 'weåÕve': 1, '2geva': 1, 'mint': 1, 'Baby': 1, 'uxxxx': 1, 'BOO': 1, 'ENJOYIN': 1, 'YOURJOB': 1, 'SEEMED': 1, 'GETTIN': 1, 'HUNNYHOPE': 1, 'OKTAKE': 1, 'IåÕLLSPEAK': 1, 'SOONLOTS': 1, 'XXXX': 1, 'Whenwhere': 1, 'played': 1, 'smash': 1, 'religiously': 1, 'shu': 2, 'singapore': 1, 'owe': 1, 'gooddhanush': 1, 'redred': 1, 'bloodblood': 1, 'heartheart': 1, 'tis': 1, '1u': 1, '3u': 1, '4some1': 1, 'luvs': 1, 'praying': 1, 'chikkuk': 1, 'srsly': 1, 'yi': 1, 'Bloody': 1, 'surname': 1, 'clue': 1, 'spanish': 1, 'begins': 1, 'Kkare': 1, 'greatbhaji': 2, 'cricketer': 2, 'sachin': 2, 'worldvery': 2, 'zoom': 1, 'Re': 1, 'sathya': 2, 'internal': 1, 'subs': 1, 'extract': 1, 'Almost': 1, 'annie': 1, 'noisy': 1, '120': 1, 'Chinatown': 1, 'porridge': 1, 'claypot': 1, 'yam': 1, 'fishhead': 1, 'beehoon': 1, 'Either': 1, 'nydc': 1, 'homelove': 1, 'goods': 1, 'disagreeable': 1, 'yettys': 1, 'offense': 1, 'SHOWR': 1, 'Already': 1, 'squatting': 1, 'lou': 1, 'Lancaster': 1, 'Neway': 1, 'couldnåÕt': 1, 'fit': 1, 'Hasnt': 1, 'italian': 1, 'panties': 1, 'Kkwhy': 1, 'Thing': 1, 'foot': 1, 'Dont4get2text': 1, 'music': 1, 'church': 1, 'Dvd': 1, 'copies': 1, 'repent': 1, 'HONEYDID': 1, 'GIMMI': 1, 'DE': 1, 'GOSSx': 1, '2u2': 1, 'patty': 1, 'donewant': 1, 'haul': 1, 'spirit': 1, 'rules': 1, 'Yet': 1, 'bend': 1, 'thia': 1, 'DOESNT': 1, 'inlude': 1, 'previews': 1, 'hassling': 1, 'andres': 1, 'HAUGHAIGHGTUJHYGUJ': 1, 'clover': 1, 'report': 3, 'showered': 1, 'erything': 1, 'LAPTOP': 1, 'Starts': 1, 'knowwait': 1, 'veggie': 1, 'Collect': 1, 'puzzeles': 1, 'satsgettin': 1, '447per': 1, 'death': 1, 'robs': 1, 'Avenge': 1, 'Appt': 1, 'previous': 2, 'fifth': 1, 'woozles': 1, 'weasels': 1, 'exeter': 1, 'ENC': 1, 'needing': 1, 'shoppin': 2, 'denying': 1, 'hang': 1, 'overtime': 1, 'nigpun': 1, 'alivebetter': 1, 'knowyetunde': 1, 'involve': 1, 'imposed': 1, 'virtual': 1, 'preferably': 1, 'kegger': 1, 'Carry': 1, 'outsider': 1, 'deary': 1, 'MESSAGE': 1, 'SENT': 1, 'ammaelife': 1, 'steering': 1, 'Maangalyam': 1, 'Alaipayuthe': 1, 'suggestion': 1, 'Lands': 1, 'helps': 1, 'forgt': 1, 'spontaneously': 1, 'GOODEVENING': 1, 'chikkuwat': 1, 'jurong': 1, 'Available': 1, 'buffet': 1, 'Cine': 1, 'amore': 1, 'wknd': 1, 'Looking': 1, 'handsome': 1, 'finding': 1, 'Working': 1, 'printing': 1, 'handing': 1, 'lifebook': 1, 'cedar': 1, 'continent': 1, 'minus': 1, 'paragraphs': 1, 'infront': 1, 'Correct': 1, 'lorgoin': 1, 'Wewa': 1, '130': 1, 'Iriver': 1, '255': 1, '128': 1, 'mb': 1, 'Nothin': 1, 'hanger': 1, 'CERI': 1, 'REBEL': 1, 'DREAMZ': 1, 'LITTLE': 1, 'BUDDY': 1, '2MORO': 1, 'NEEDS': 1, 'BLOKES': 1, 'Esplanade': 1, 'heavily': 1, 'kanji': 1, 'Aldrine': 1, 'rakhesh': 1, 'RTM': 1, 'herepls': 1, 'callurgent': 1, '850': 1, 'Toa': 1, '650': 1, 'NEFT': 1, 'beneficiary': 1, 'History': 1, 'Comfort': 1, 'Luxury': 1, 'Sold': 1, 'Price': 1, 'OnionRs': 1, 'PetrolRs': 1, 'BeerRs': 1, 'SHESIL': 1, 'champ': 1, 'glasgow': 1, 'himthen': 1, 'problematic': 1, 'nos': 1, 'dodgey': 1, 'Expecting': 1, 'totes': 1, 'Eatin': 1, 'Didnt': 1, 'marking': 1, 'nowcan': 1, 'spys': 1, 'mails': 1, 'warwick': 1, 'tmw': 1, 'canceled': 1, 'havnt': 1, 'sometime': 1, 'cook': 1, 'fo': 1, 'senor': 1, '1526': 1, 'pubcafe': 1, 'rejected': 1, 'yah': 1, 'cancel': 1, 'drmstake': 1, 'basketball': 1, 'outdoors': 1, 'breathing': 1, 'neck': 1, 'toldshe': 1}\n"
     ]
    }
   ],
   "source": [
    "print(len(freq_ham))\n",
    "print(freq_ham)"
   ]
  },
  {
   "cell_type": "code",
   "execution_count": 21,
   "metadata": {
    "collapsed": true
   },
   "outputs": [],
   "source": [
    "word_given_spam = {}\n",
    "for k1,v1 in freq_spam.items():\n",
    "    if k1 in freq_ham:\n",
    "        word_given_spam[k1] = v1/(freq_ham[k1]+v1)\n",
    "    else:\n",
    "        word_given_spam[k1] = 1"
   ]
  },
  {
   "cell_type": "code",
   "execution_count": 22,
   "metadata": {
    "collapsed": true
   },
   "outputs": [],
   "source": [
    "word_given_ham = {}\n",
    "for k1,v1 in freq_ham.items():\n",
    "    if k1 in freq_spam:\n",
    "        word_given_ham[k1] = v1/(freq_spam[k1]+v1)\n",
    "    else:\n",
    "        word_given_ham[k1] = 1"
   ]
  },
  {
   "cell_type": "code",
   "execution_count": 39,
   "metadata": {
    "collapsed": true
   },
   "outputs": [],
   "source": [
    "def find_words(mail):\n",
    "    words = []\n",
    "    for word in mail.split():\n",
    "        if word not in words:\n",
    "            words.append(word)\n",
    "    return words"
   ]
  },
  {
   "cell_type": "code",
   "execution_count": 40,
   "metadata": {},
   "outputs": [
    {
     "data": {
      "text/plain": [
       "['Lets',\n",
       " 'pool',\n",
       " 'our',\n",
       " 'money',\n",
       " 'together',\n",
       " 'and',\n",
       " 'buy',\n",
       " 'a',\n",
       " 'bunch',\n",
       " 'of',\n",
       " 'lotto',\n",
       " 'tickets',\n",
       " 'If',\n",
       " 'we',\n",
       " 'win',\n",
       " 'I',\n",
       " 'get',\n",
       " 'u',\n",
       " 'Deal']"
      ]
     },
     "execution_count": 40,
     "metadata": {},
     "output_type": "execute_result"
    }
   ],
   "source": [
    "find_words(X_test[1])"
   ]
  },
  {
   "cell_type": "code",
   "execution_count": 41,
   "metadata": {
    "collapsed": true
   },
   "outputs": [],
   "source": [
    "#Probability of being spam\n",
    "def naive_bayes_prob_spam(mail):\n",
    "    words = find_words(mail)\n",
    "    prob = 1\n",
    "    for word in words:\n",
    "        if word in word_given_spam:\n",
    "            prob*=word_given_spam[word]\n",
    "        elif word in word_given_ham:\n",
    "            prob = 0.0000000000000001\n",
    "        else:                 #For a new word assume p =0.5\n",
    "            prob*=0.5\n",
    "    return prob*p_spam"
   ]
  },
  {
   "cell_type": "code",
   "execution_count": 42,
   "metadata": {
    "collapsed": true
   },
   "outputs": [],
   "source": [
    "#Probability of being ham\n",
    "def naive_bayes_prob_ham(mail):\n",
    "    words = find_words(mail)\n",
    "    prob = 1\n",
    "    for word in words:\n",
    "        if word in word_given_ham:\n",
    "            prob*=word_given_ham[word]\n",
    "        elif word in word_given_spam:\n",
    "            prob = 0.0000000000000001\n",
    "        else:                 #For a new word assume p =0.5\n",
    "            prob*=0.5\n",
    "    return prob*p_ham"
   ]
  },
  {
   "cell_type": "code",
   "execution_count": 43,
   "metadata": {
    "collapsed": true
   },
   "outputs": [],
   "source": [
    "def predicted_prob(mail):\n",
    "    prob_being_ham = naive_bayes_prob_ham(mail)\n",
    "    prob_being_spam = naive_bayes_prob_spam(mail)\n",
    "    return prob_being_spam/(prob_being_spam+prob_being_ham)"
   ]
  },
  {
   "cell_type": "code",
   "execution_count": 44,
   "metadata": {},
   "outputs": [
    {
     "name": "stdout",
     "output_type": "stream",
     "text": [
      "Double your mins  txts on Orange or 12 price linerental  Motorola and SonyEricsson with BTooth FREENokia FREE Call MobileUpd8 on 08000839402 or2optoutHV9D\n",
      "Predicted spam with prob: 0.9999999999937259\n",
      "Actual y: spam\n",
      "Forwarded from 21870000Hi  this is your Mailbox Messaging SMS alert You have 40 matches Please call back on 09056242159 to retrieve your messages and matches cc100pmin\n",
      "Predicted spam with prob: 0.9999999894261585\n",
      "Actual y: spam\n",
      "Get 3 Lions England tone reply lionm 4 mono or lionp 4 poly 4 more go 2 wwwringtonescouk the original n best Tones 3GBP network operator rates apply\n",
      "Predicted spam with prob: 0.9999999962335769\n",
      "Actual y: spam\n",
      "As a valued customer I am pleased to advise you that following recent review of your Mob No you are awarded with a å1500 Bonus Prize call 09066364589\n",
      "Predicted spam with prob: 0.9999515174368522\n",
      "Actual y: spam\n",
      "Free entry in 2 a weekly comp for a chance to win an ipod Txt POD to 80182 to get entry std txt rate TCs apply 08452810073 for details 18\n",
      "Predicted spam with prob: 0.9999999993205883\n",
      "Actual y: spam\n",
      "Fantasy Football is back on your TV Go to Sky Gamestar on Sky Active and play å250k Dream Team Scoring starts on Saturday so register nowSKY OPT OUT to 88088\n",
      "Predicted spam with prob: 0.9999999766276841\n",
      "Actual y: spam\n",
      "PRIVATE Your 2003 Account Statement for shows 800 unredeemed S I M points Call 08715203652 Identifier Code 42810 Expires 29100\n",
      "Predicted spam with prob: 0.9999999999980351\n",
      "Actual y: spam\n",
      "Eerie Nokia tones 4u rply TONE TITLE to 8007 eg TONE DRACULA to 8007 Titles GHOST ADDAMSFA MUNSTERS EXORCIST TWILIGHT wwwgetzedcouk POBox36504W45WQ 150p\n",
      "Predicted spam with prob: 0.9999999999983816\n",
      "Actual y: spam\n",
      "HMV BONUS SPECIAL 500 pounds of genuine HMV vouchers to be won Just answer 4 easy questions Play Now Send HMV to 86688 More infowww100percentrealcom\n",
      "Predicted spam with prob: 0.9999999997972135\n",
      "Actual y: spam\n",
      "Moby Pub QuizWin a å100 High Street prize if u know who the new Duchess of Cornwall will be Txt her first name to 82277unsub STOP å150 008704050406 SP Arrow\n",
      "Predicted spam with prob: 0.9997807256468761\n",
      "Actual y: spam\n",
      "True It is passable And if you get a high score and apply for phd you get 5years of salary So it makes life easier\n",
      "Predicted spam with prob: 0.5132257955903313\n",
      "Actual y: ham\n",
      "URGENT Your 4 Costa Del Sol Holiday or å5000 await collection Call 09050090044 Now toClaim SAE TC s POBox334 Stockport SK38xh Costå150pm Max10mins\n",
      "Predicted spam with prob: 0.9999999999999275\n",
      "Actual y: spam\n",
      "You have 1 new voicemail Please call 08719181513\n",
      "Predicted spam with prob: 0.9999999999997918\n",
      "Actual y: spam\n",
      "You have won a Nokia 7250i This is what you get when you win our FREE auction To take part send Nokia to 86021 now HGSuite3422Lands RowW1JHL 16\n",
      "Predicted spam with prob: 0.9999988807891488\n",
      "Actual y: spam\n",
      "For ur chance to win a å250 wkly shopping spree TXT SHOP to 80878 TsCs wwwtxt2shopcom custcare 08715705022 1x150pwk\n",
      "Predicted spam with prob: 0.9999999999992422\n",
      "Actual y: spam\n",
      "Yes I started to send requests to make it but pain came back so Im back in bed Double coins at the factory too I gotta cash in all my nitros\n",
      "Predicted spam with prob: 0.6352549159763691\n",
      "Actual y: ham\n",
      "You are a å1000 winner or Guaranteed Caller Prize this is our Final attempt to contact you To Claim Call 09071517866 Now 150ppmPOBox10183BhamB64XE\n",
      "Predicted spam with prob: 0.9999999998209427\n",
      "Actual y: spam\n",
      "EASTENDERS TV Quiz What FLOWER does DOT compare herself to D VIOLET E TULIP F LILY txt D E or F to 84025 NOW 4 chance 2 WIN å100 Cash WKENT150P16\n",
      "Predicted spam with prob: 0.9999999995061634\n",
      "Actual y: spam\n",
      "You have WON a guaranteed å1000 cash or a å2000 prize To claim yr prize call our customer service representative on 08714712412 between 10am7pm Cost 10p\n",
      "Predicted spam with prob: 0.9999999999827358\n",
      "Actual y: spam\n",
      "SMS SERVICES for your inclusive text credits pls goto wwwcomuknet login 3qxj9 unsubscribe with STOP no extra charge help 08702840625COMUK 220CM2 9AE\n",
      "Predicted spam with prob: 0.9999999998634171\n",
      "Actual y: spam\n",
      "IMPORTANT MESSAGE This is a final contact attempt You have important messages waiting out our customer claims dept Expires 13404 Call 08717507382 NOW\n",
      "Predicted spam with prob: 0.999999999981075\n",
      "Actual y: spam\n",
      "You will recieve your tone within the next 24hrs For Terms and conditions please see Channel U Teletext Pg 750\n",
      "Predicted spam with prob: 0.9999996542670286\n",
      "Actual y: spam\n",
      "Are we doing the norm tomorrow I finish just a 415 cos of st tests Need to sort library stuff out at some point tomo  got letter from today  access til end march so i better get move on\n",
      "Predicted spam with prob: 0.9251985919827154\n",
      "Actual y: ham\n",
      "U have a Secret Admirer who is looking 2 make contact with Ufind out who they Rreveal who thinks UR so specialcall on 09065171142stopsms08\n",
      "Predicted spam with prob: 0.9999988635196198\n",
      "Actual y: spam\n",
      "Free entry in 2 a wkly comp to win FA Cup final tkts 21st May 2005 Text FA to 87121 to receive entry questionstd txt rateTCs apply 08452810075over18s\n",
      "Predicted spam with prob: 0.9999999999792288\n",
      "Actual y: spam\n",
      "You have WON a guaranteed å1000 cash or a å2000 prize To claim yr prize call our customer service representative on 08714712394 between 10am7pm\n",
      "Predicted spam with prob: 0.9999999999827358\n",
      "Actual y: spam\n",
      "httptms widelivecomindex wmlid820554ad0a1705572711firsttrueåÁC C RingtoneåÁ\n",
      "Predicted spam with prob: 0.9999999999999989\n",
      "Actual y: spam\n",
      "For ur chance to win a å250 cash every wk TXT ACTION to 80608 TsCs wwwmovietriviatv custcare 08712405022 1x150pwk\n",
      "Predicted spam with prob: 0.9999999999995965\n",
      "Actual y: spam\n",
      "WIN a year supply of CDs 4 a store of ur choice worth å500  enter our å100 Weekly draw txt MUSIC to 87066 TsCs wwwLdewcomsubs161win150ppmx3\n",
      "Predicted spam with prob: 0.9999999999765126\n",
      "Actual y: spam\n",
      "Urgent Please call 09061743810 from landline Your ABTA complimentary 4 Tenerife Holiday or 5000 cash await collection SAE TCs Box 326 CW25WX 150 ppm\n",
      "Predicted spam with prob: 0.999999999999864\n",
      "Actual y: spam\n",
      "URGENT Your Mobile number has been awarded with a å2000 prize GUARANTEED Call 09058094455 from land line Claim 3030 Valid 12hrs only\n",
      "Predicted spam with prob: 0.9999999999885202\n",
      "Actual y: spam\n",
      "SIX chances to win CASH From 100 to 20000 pounds txt CSH11 and send to 87575 Cost 150pday 6days 16 TsandCs apply Reply HL 4 info\n",
      "Predicted spam with prob: 0.9999999999998587\n",
      "Actual y: spam\n",
      "HOT LIVE FANTASIES call now 08707509020 Just 20p per min NTT Ltd PO Box 1327 Croydon CR9 5WB 0870 is a national rate call\n",
      "Predicted spam with prob: 0.9999999999998133\n",
      "Actual y: spam\n",
      "Had your mobile 11 months or more U R entitled to Update to the latest colour mobiles with camera for Free Call The Mobile Update Co FREE on 08002986030\n",
      "Predicted spam with prob: 0.9999998498992337\n",
      "Actual y: spam\n",
      "Final Chance Claim ur å150 worth of discount vouchers today Text YES to 85023 now SavaMob member offers mobile T Cs SavaMob POBOX84 M263UZ å300 Subs 16\n",
      "Predicted spam with prob: 0.999999999999932\n",
      "Actual y: spam\n",
      "Show ur colours Euro 2004 241 Offer Get an England Flag  3Lions tone on ur phone Click on the following service message for info\n",
      "Predicted spam with prob: 0.9999999999984467\n",
      "Actual y: spam\n",
      "Todays Voda numbers ending with 7634 are selected to receive a å350 reward If you have a match please call 08712300220 quoting claim code 7684 standard rates apply\n",
      "Predicted spam with prob: 0.9999999853859409\n",
      "Actual y: spam\n",
      "Boy I love u Grl Hogolo Boy gold chain kodstini Grl Agalla Boy necklace madstini Grl agalla Boy Hogli 1 mutai eerulli kodthini Grl I love U kano\n",
      "Predicted spam with prob: 0.9885186355468762\n",
      "Actual y: ham\n",
      "83039 62735å450 UK Break AccommodationVouchers terms  conditions apply 2 claim you mustprovide your claim number which is 15541\n",
      "Predicted spam with prob: 0.9999999999680811\n",
      "Actual y: spam\n",
      "Text BANNEDUK to 89555 to see cost 150p textoperator g696ga 18 XXX\n",
      "Predicted spam with prob: 0.9999999999979086\n",
      "Actual y: spam\n",
      "As one of our registered subscribers u can enter the draw 4 a 100 GB gift voucher by replying with ENTER To unsubscribe text STOP\n",
      "Predicted spam with prob: 0.9999998504376357\n",
      "Actual y: spam\n",
      "74355 XMAS iscoming  ur awarded either å500 CD gift vouchers  free entry 2 r å100 weekly draw txt MUSIC to 87066 TnC\n",
      "Predicted spam with prob: 0.9999999999934133\n",
      "Actual y: spam\n",
      "8007 25p 4 Alfie Moons Children in Need song on ur mob Tell ur m8s Txt TONE CHARITY to 8007 for nokias or POLY CHARITY for polys zed 08701417012 profit 2 charity\n",
      "Predicted spam with prob: 0.9999999762650443\n",
      "Actual y: spam\n",
      "This is the 2nd time we have tried 2 contact u U have won the 750 Pound prize 2 claim is easy call 08712101358 NOW Only 10p per min BTnationalrate\n",
      "Predicted spam with prob: 0.9999984308903968\n",
      "Actual y: spam\n",
      "1000s of girls many local 2 u who r virgins 2 this  r ready 2 4fil ur every sexual need Can u 4fil theirs text CUTE to 69911å150p m\n",
      "Predicted spam with prob: 0.9981256946313813\n",
      "Actual y: spam\n",
      "Hey babe my friend had to cancel still up for a visit\n",
      "Predicted spam with prob: 0.9999937919497023\n",
      "Actual y: ham\n",
      "Youve won tkts to the EURO2004 CUP FINAL or å800 CASH to collect CALL 09058099801 b4190604 POBOX 7876150ppm\n",
      "Predicted spam with prob: 0.999999999999758\n",
      "Actual y: spam\n",
      "U have a secret admirer who is looking 2 make contact with Ufind out who they Rreveal who thinks UR so specialcall on 09058094599\n",
      "Predicted spam with prob: 0.9999966718982417\n",
      "Actual y: spam\n",
      "FREE MESSAGE Activate your 500 FREE Text Messages by replying to this message with the word FREE For terms  conditions visit www07781482378com\n",
      "Predicted spam with prob: 0.9999999996017688\n",
      "Actual y: spam\n",
      "This message is free Welcome to the new  improved Sex  Dogging club To unsubscribe from this service reply STOP msgs150p 18only\n",
      "Predicted spam with prob: 0.9999999999229993\n",
      "Actual y: spam\n",
      "U have a secret admirer REVEAL who thinks U R So special Call 09065174042 To opt out Reply REVEAL STOP 150 per msg recd Cust care 07821230901\n",
      "Predicted spam with prob: 0.9999995880743937\n",
      "Actual y: spam\n",
      "UpdateNow  Xmas Offer Latest Motorola SonyEricsson  Nokia  FREE Bluetooth Double Mins  1000 Txt on Orange Call MobileUpd8 on 08000839402 or call2optoutF4Q\n",
      "Predicted spam with prob: 0.999999999999994\n",
      "Actual y: spam\n",
      "You can never do NOTHING\n",
      "Predicted spam with prob: 0.9999999999836676\n",
      "Actual y: ham\n",
      "December only Had your mobile 11mths You are entitled to update to the latest colour camera mobile for Free Call The Mobile Update Co FREE on 08002986906\n",
      "Predicted spam with prob: 0.9999999967684046\n",
      "Actual y: spam\n",
      "FREE entry into our å250 weekly comp just send the word WIN to 80086 NOW 18 TC wwwtxttowincouk\n",
      "Predicted spam with prob: 0.9999999999902129\n",
      "Actual y: spam\n",
      "HCL chennai requires FRESHERS for voice processExcellent english neededSalary upto   Call MsSuman    for Telephonic interview via Indyarockscom\n",
      "Predicted spam with prob: 0.803515489035851\n",
      "Actual y: ham\n",
      "PRIVATE Your 2003 Account Statement for 07808 XXXXXX shows 800 unredeemed S I M points Call 08719899217 Identifier Code 41685 Expires 071104\n",
      "Predicted spam with prob: 0.9999999999960703\n",
      "Actual y: spam\n",
      "Hard LIVE 121 chat just 60pmin Choose your girl and connect LIVE Call 09094646899 now Cheap Chat UKs biggest live service VU BCM1896WC1N3XX\n",
      "Predicted spam with prob: 0.9999999999273841\n",
      "Actual y: spam\n",
      "URGENT Last weekends draw shows that you have won å1000 cash or a Spanish holiday CALL NOW 09050000332 to claim TC RSTM SW7 3SS 150ppm\n",
      "Predicted spam with prob: 0.999999999655378\n",
      "Actual y: spam\n",
      "UÛªve Bin Awarded å50 to Play 4 Instant Cash Call 08715203028 To Claim EVERY 9th Player Wins Min å50å500 OptOut 08718727870\n",
      "Predicted spam with prob: 0.9999999999792595\n",
      "Actual y: spam\n",
      "wamma get laidwant real doggin locations sent direct to your mobile join the UKs largest dogging network txt dogs to 69696 nownyt ec2a 3lp å150msg\n",
      "Predicted spam with prob: 0.999999998376492\n",
      "Actual y: spam\n",
      "Well done ENGLAND Get the official poly ringtone or colour flag on yer mobile text TONE or FLAG to 84199 NOW Optout txt ENG STOP Box39822 W111WX å150\n",
      "Predicted spam with prob: 0.9999999991787819\n",
      "Actual y: spam\n",
      "Orange brings you ringtones from all time Chart Heroes with a free hit each week Go to Ringtones  Pics on wap To stop receiving these tips reply STOP\n",
      "Predicted spam with prob: 0.9326377828538176\n",
      "Actual y: spam\n",
      "Double eviction this week  Spiral and Michael and good riddance to them\n",
      "Predicted spam with prob: 0.9999999998999433\n",
      "Actual y: ham\n",
      "Thanks for your ringtone order ref number K718 Your mobile will be charged å450 Should your tone not arrive please call customer services on 09065069120\n",
      "Predicted spam with prob: 0.9999999973120588\n",
      "Actual y: spam\n",
      "You have won 1000 cash or a 2000 prize To claim call09050000327\n",
      "Predicted spam with prob: 0.9999999999998985\n",
      "Actual y: spam\n",
      "You are guaranteed the latest Nokia Phone a 40GB iPod MP3 player or a å500 prize Txt word COLLECT to No 83355 IBHltd LdnW15H 150pMtmsgrcvd18\n",
      "Predicted spam with prob: 0.9999999999729918\n",
      "Actual y: spam\n",
      "Send a logo 2 ur lover  2 names joined by a heart Txt LOVE NAME1 NAME2 MOBNO eg LOVE ADAM EVE 07123456789 to 87077 Yahoo POBox36504W45WQ TxtNO 4 no ads 150p\n",
      "Predicted spam with prob: 0.9999998341729531\n",
      "Actual y: spam\n",
      "The beauty of life is in next second which hides thousands of secrets I wish every second will be wonderful in ur life gud n8\n",
      "Predicted spam with prob: 0.6010032913957113\n",
      "Actual y: ham\n",
      "URGENT We are trying to contact you Last weekends draw shows that you have won a å900 prize GUARANTEED Call 09061701851 Claim code K61 Valid 12hours only\n",
      "Predicted spam with prob: 0.9999999895622813\n",
      "Actual y: spam\n",
      "URGENT Your Mobile No was awarded a å2000 Bonus Caller Prize on 10803 This is our 2nd attempt to contact YOU Call 08714719523 BOX95QU BT National Rate\n",
      "Predicted spam with prob: 0.9999999970243293\n",
      "Actual y: spam\n",
      "FREE entry into our å250 weekly comp just send the word ENTER to 84128 NOW 18 TC wwwtextcompcom cust care 08712405020\n",
      "Predicted spam with prob: 0.9999999995987303\n",
      "Actual y: spam\n",
      "Double Mins  1000 txts on Orange tariffs Latest Motorola SonyEricsson  Nokia with Bluetooth FREE Call MobileUpd8 on 08000839402 or call2optoutHF8\n",
      "Predicted spam with prob: 0.9999999999999876\n",
      "Actual y: spam\n",
      "Hi the SEXYCHAT girls are waiting for you to text them Text now for a great night chatting send STOP to stop this service\n",
      "Predicted spam with prob: 0.9999987217130671\n",
      "Actual y: spam\n",
      "Great NEW Offer  DOUBLE Mins  DOUBLE Txt on best Orange tariffs AND get latest camera phones 4 FREE Call MobileUpd8 free on 08000839402 NOW or 2stoptxt TCs\n",
      "Predicted spam with prob: 0.99999999993601\n",
      "Actual y: spam\n",
      "Thanks for your ringtone order ref number R836 Your mobile will be charged å450 Should your tone not arrive please call customer services on 09065069154\n",
      "Predicted spam with prob: 0.9999999973120588\n",
      "Actual y: spam\n",
      "Your free ringtone is waiting to be collected Simply text the password MIX to 85069 to verify Get Usher and Britney FML\n",
      "Predicted spam with prob: 0.9999999990746916\n",
      "Actual y: spam\n",
      "Mila age23 blonde new in UK I look sex with UK guys if u like fun with me Text MTALK to 6986618  30pptxt 1st 5free å150 increments Help08718728876\n",
      "Predicted spam with prob: 0.9995695274044323\n",
      "Actual y: spam\n",
      "Dear 0776xxxxxxx Uve been invited to XCHAT This is our final attempt to contact u Txt CHAT to 86688 150pMsgrcvdHGSuite3422LandsRowW1J6HL LDN 18yrs\n",
      "Predicted spam with prob: 0.9999999998404087\n",
      "Actual y: spam\n",
      "No 1 Nokia Tone 4 ur mob every week Just txt NOK to 87021 1st Tone FREE  so get txtin now and tell ur friends 150ptone 16 reply HL 4info\n",
      "Predicted spam with prob: 0.999998182845516\n",
      "Actual y: spam\n",
      "Customer service announcement We recently tried to make a delivery to you but were unable to do so please call 07099833605 to reschedule Ref9280114\n",
      "Predicted spam with prob: 0.9997542485527374\n",
      "Actual y: spam\n",
      "Sunshine Quiz Wkly Q Win a top Sony DVD player if u know which country Liverpool played in mid week Txt ansr to 82277 å150 SPTyrone\n",
      "Predicted spam with prob: 0.9999996756000945\n",
      "Actual y: spam\n",
      "Get the official ENGLAND poly ringtone or colour flag on yer mobile for tonights game Text TONE or FLAG to 84199 Optout txt ENG STOP Box39822 W111WX å150\n",
      "Predicted spam with prob: 0.9999999999929307\n",
      "Actual y: spam\n",
      "URGENT Your Mobile No was awarded å2000 Bonus Caller Prize on 5903 This is our final try to contact U Call from Landline 09064019788 BOX42WR29C 150PPM\n",
      "Predicted spam with prob: 0.999999894210018\n",
      "Actual y: spam\n",
      "Thanks for your ringtone order reference number X49Your mobile will be charged 450 Should your tone not arrive please call customer services 09065989182\n",
      "Predicted spam with prob: 0.9999995339779987\n",
      "Actual y: spam\n",
      "Free video camera phones with Half Price line rental for 12 mths and 500 cross ntwk mins 100 txts Call MobileUpd8 08001950382 or Call2OptOut674\n",
      "Predicted spam with prob: 0.9999999999968258\n",
      "Actual y: spam\n",
      "This is the 2nd time we have tried 2 contact u U have won the 750 Pound prize 2 claim is easy call 08712101358 NOW Only 10p per min BTnationalrate\n",
      "Predicted spam with prob: 0.9999984308903968\n",
      "Actual y: spam\n",
      "Someone has conacted our dating service and entered your phone because they fancy youTo find out who it is call from landline 09111030116 PoBox12n146tf15\n",
      "Predicted spam with prob: 0.9999999998403809\n",
      "Actual y: spam\n",
      "You are a winner you have been specially selected to receive å1000 cash or a å2000 award Speak to a live operator to claim call 087147123779am7pm Cost 10p\n",
      "Predicted spam with prob: 0.9999999974582217\n",
      "Actual y: spam\n",
      "URGENT Your Mobile number has been awarded with a å2000 prize GUARANTEED Call 09058094454 from land line Claim 3030 Valid 12hrs only\n",
      "Predicted spam with prob: 0.9999999999885202\n",
      "Actual y: spam\n",
      "Dear Dave this is your final notice to collect your 4 Tenerife Holiday or 5000 CASH award Call 09061743806 from landline TCs SAE Box326 CW25WX 150ppm\n",
      "Predicted spam with prob: 0.9999999999217851\n",
      "Actual y: spam\n",
      "FreeMsg Txt CALL to No 86888  claim your reward of 3 hours talk time to use from your phone now Subscribe6GBPmnth inc 3hrs 16 stoptxtStop\n",
      "Predicted spam with prob: 0.999999988553802\n",
      "Actual y: spam\n",
      "FREE for 1st week No1 Nokia tone 4 ur mob every week just txt NOKIA to 8007 Get txting and tell ur mates wwwgetzedcouk POBox 36504 W45WQ norm150ptone 16\n",
      "Predicted spam with prob: 0.9999999999923532\n",
      "Actual y: spam\n",
      "FreeMsg Fancy a flirt Reply DATE now  join the UKs fastest growing mobile dating service Msgs rcvd just 25p to optout txt stop to 83021 Reply DATE now\n",
      "Predicted spam with prob: 0.9999999999646036\n",
      "Actual y: spam\n",
      "Win the newest ÛÏHarry Potter and the Order of the Phoenix Book 5 reply HARRY answer 5 questions  chance to be the first among readers\n",
      "Predicted spam with prob: 0.9999999690845094\n",
      "Actual y: spam\n",
      "Dear Uve been invited to XCHAT This is our final attempt to contact u Txt CHAT to 86688\n",
      "Predicted spam with prob: 0.9999999998404087\n",
      "Actual y: spam\n",
      "New TEXTBUDDY Chat 2 horny guys in ur area 4 just 25p Free 2 receive Search postcode or at gaytextbuddycom TXT ONE name to 89693 08715500022 rpl Stop 2 cnl\n",
      "Predicted spam with prob: 0.9999999804250203\n",
      "Actual y: spam\n",
      "Congratulations ur awarded either å500 of CD gift vouchers  Free entry 2 our å100 weekly draw txt MUSIC to 87066 TnCs wwwLdewcom 1 win150ppmx3age16\n",
      "Predicted spam with prob: 0.9999999999984556\n",
      "Actual y: spam\n",
      "Double mins and txts 4 6months FREE Bluetooth on Orange Available on Sony Nokia Motorola phones Call MobileUpd8 on 08000839402 or call2optoutN9DX\n",
      "Predicted spam with prob: 0.9999999999989208\n",
      "Actual y: spam\n",
      "UR awarded a City Break and could WIN a å200 Summer Shopping spree every WK Txt STORE to 88039  SkilGme TsCs087147403231WinawkAge16 å150perWKsub\n",
      "Predicted spam with prob: 0.9999999999940037\n",
      "Actual y: spam\n",
      "YES The only place in town to meet exciting adult singles is now in the UK Txt CHAT to 86688 now 150pMsg\n",
      "Predicted spam with prob: 0.999999797216246\n",
      "Actual y: spam\n",
      "Txt CALL to No 86888  claim your reward of 3 hours talk time to use from your phone now Subscribe6GBPmnth inc 3hrs 16 stoptxtStop wwwgambtv\n",
      "Predicted spam with prob: 0.999999988553802\n",
      "Actual y: spam\n",
      "Do you want 750 anytime any network mins 150 text and a NEW video phone for only five pounds per week call 08000776320 now or reply for delivery Tomorrow\n",
      "Predicted spam with prob: 0.9999999621677366\n",
      "Actual y: spam\n",
      "all the lastest from Stereophonics Marley Dizzee Racal Libertines and The Strokes Win Nookii games with Flirt Click TheMob WAP Bookmark or text WAP to 82468\n",
      "Predicted spam with prob: 0.9999999168976778\n",
      "Actual y: spam\n",
      "PRIVATE Your 2003 Account Statement for 07973788240 shows 800 unredeemed S I M points Call 08715203649 Identifier Code 40533 Expires 311004\n",
      "Predicted spam with prob: 0.9999999999960703\n",
      "Actual y: spam\n",
      "WELL DONE Your 4 Costa Del Sol Holiday or å5000 await collection Call 09050090044 Now toClaim SAE TCs POBox334 Stockport SK38xh Costå150pm Max10mins\n",
      "Predicted spam with prob: 0.9999999999997038\n",
      "Actual y: spam\n",
      "MAKE SURE ALEX KNOWS HIS BIRTHDAY IS OVER IN FIFTEEN MINUTES AS FAR AS YOURE CONCERNED\n",
      "Predicted spam with prob: 0.6766811590429825\n",
      "Actual y: ham\n",
      "URGENT Your mobile number  WON a å2000 Bonus Caller prize on 100603 This is the 2nd attempt to reach you Call 09066368753 ASAP Box 97N7QP 150ppm\n",
      "Predicted spam with prob: 0.9999999596056284\n",
      "Actual y: spam\n",
      "Dear Uve been invited to XCHAT This is our final attempt to contact u Txt CHAT to 86688 150pMsgrcvdHGSuite3422LandsRowW1J6HL LDN 18 yrs\n",
      "Predicted spam with prob: 0.9999999996808174\n",
      "Actual y: spam\n",
      "Once a fishrman woke early in d mrng It was very dark He waited a while amp found a sack ful of stones He strtd throwin thm in2 d sea 2 pass time Atlast he had jus 1stone sun rose up amp he found out tht those r nt stones those were diamonds MoralDont wake up early in d mrng GOOD night\n",
      "Predicted spam with prob: 0.935825504885576\n",
      "Actual y: ham\n",
      "PRIVATE Your 2003 Account Statement for shows 800 unredeemed S I M points Call 08715203694 Identifier Code 40533 Expires 311004\n",
      "Predicted spam with prob: 0.9999999999980351\n",
      "Actual y: spam\n",
      "You have an important customer service announcement Call FREEPHONE 0800 542 0825 now\n",
      "Predicted spam with prob: 0.999999999999676\n",
      "Actual y: spam\n",
      "URGENT This is our 2nd attempt to contact U Your å900 prize from YESTERDAY is still awaiting collection To claim CALL NOW 09061702893\n",
      "Predicted spam with prob: 0.9999999999245501\n",
      "Actual y: spam\n",
      "PRIVATE Your 2003 Account Statement for shows 800 unredeemed SIM points Call 08718738001 Identifier Code 49557 Expires 261104\n",
      "Predicted spam with prob: 0.9999999999999863\n",
      "Actual y: spam\n",
      "Customer Loyalty OfferThe NEW Nokia6650 Mobile from ONLY å10 at TXTAUCTION Txt word START to No 81151  get yours Now 4TCtxt TC 150pMTmsg\n",
      "Predicted spam with prob: 0.9999999999207732\n",
      "Actual y: spam\n",
      "Kit Strip  you have been billed 150p Netcollex Ltd PO Box 1013 IG11 OJA\n",
      "Predicted spam with prob: 0.9999999999996124\n",
      "Actual y: spam\n",
      "Please CALL 08712402779 immediately as there is an urgent message waiting for you\n",
      "Predicted spam with prob: 0.9999999998503697\n",
      "Actual y: spam\n",
      "123 Congratulations  in this weeks competition draw u have won the å1450 prize to claim just call 09050002311 b4280703 TCsstop SMS 08718727868 Over 18 only 150ppm\n",
      "Predicted spam with prob: 0.9999999416758689\n",
      "Actual y: spam\n",
      "U have a secret admirer who is looking 2 make contact with Ufind out who they Rreveal who thinks UR so specialcall on 09058094565\n",
      "Predicted spam with prob: 0.9999966718982417\n",
      "Actual y: spam\n",
      "pdateNow  Double mins and 1000 txts on Orange tariffs Latest Motorola SonyEricsson  Nokia  Bluetooth FREE Call MobileUpd8 on 08000839402 or call2optoutYHL\n",
      "Predicted spam with prob: 0.9999999999999133\n",
      "Actual y: spam\n",
      "Your 2004 account for 07XXXXXXXXX shows 786 unredeemed points To claim call 08719181259 Identifier code XXXXX Expires 260305\n",
      "Predicted spam with prob: 0.9999999999988868\n",
      "Actual y: spam\n",
      "Thanks for your ringtone order reference number X29 Your mobile will be charged 450 Should your tone not arrive please call customer services 09065989180\n",
      "Predicted spam with prob: 0.9999999991895139\n",
      "Actual y: spam\n",
      "Eerie Nokia tones 4u rply TONE TITLE to 8007 eg TONE DRACULA to 8007 Titles GHOST ADDAMSFA MUNSTERS EXORCIST TWILIGHT wwwgetzedcouk POBox36504W45WQ 150p\n",
      "Predicted spam with prob: 0.9999999999983816\n",
      "Actual y: spam\n",
      "A å400 XMAS REWARD IS WAITING FOR YOU Our computer has randomly picked you from our loyal mobile customers to receive a å400 reward Just call 09066380611\n",
      "Predicted spam with prob: 0.9999999845345221\n",
      "Actual y: spam\n",
      "Open rebtel with firefox When it loads just put plus sign in the user name place and it will show you two numbers The lower number is my number Once you pick that number the pin will display okay\n",
      "Predicted spam with prob: 0.6460821603577396\n",
      "Actual y: ham\n",
      "PRIVATE Your 2004 Account Statement for 0784987 shows 786 unredeemed Bonus Points To claim call 08719180219 Identifier Code 45239 Expires 060505\n",
      "Predicted spam with prob: 0.9999999999999596\n",
      "Actual y: spam\n",
      "URGENT Your mobile No 077xxx WON a å2000 Bonus Caller Prize on 020603 This is the 2nd attempt to reach YOU Call 09066362206 ASAP BOX97N7QP 150ppm\n",
      "Predicted spam with prob: 0.9999999953836265\n",
      "Actual y: spam\n",
      "Hey no I ad a crap nite was borin without ya 2 boggy with me u boring biatch Thanx but u wait til nxt time il ave ya\n",
      "Predicted spam with prob: 0.6355559079967428\n",
      "Actual y: ham\n",
      "Bored housewives Chat n date now 08717507711 BTnational rate 10pmin only from landlines\n",
      "Predicted spam with prob: 0.999999999999024\n",
      "Actual y: spam\n",
      "Please call our customer service representative on 0800 169 6031 between 10am9pm as you have WON a guaranteed å1000 cash or å5000 prize\n",
      "Predicted spam with prob: 0.9999999997729095\n",
      "Actual y: spam\n",
      "Do you want a new video handset 750 anytime any network mins Half Price Line Rental Camcorder Reply or call 08000930705 for delivery tomorrow\n",
      "Predicted spam with prob: 0.9999999984853819\n",
      "Actual y: spam\n",
      "Uve been selected to stay in 1 of 250 top British hotels  FOR NOTHING Holiday valued at å350 Dial 08712300220 to claim  National Rate Call Bx526 SW73SS\n",
      "Predicted spam with prob: 0.9999999943574241\n",
      "Actual y: spam\n",
      "network operator The service is free For T  Cs visit 80488biz\n",
      "Predicted spam with prob: 0.9999999999999135\n",
      "Actual y: spam\n",
      "Urgent Please call 09066612661 from landline å5000 cash or a luxury 4 Canary Islands Holiday await collection TCs SAE award 20M12AQ 150ppm 16 ÛÏ\n",
      "Predicted spam with prob: 0.9999999999999891\n",
      "Actual y: spam\n",
      "money you r a lucky winner  2 claim your prize text money 2 88600 over å1million to give away  ppt150x3normal text rate box403 w1t1jy\n",
      "Predicted spam with prob: 0.9999997685074211\n",
      "Actual y: spam\n",
      "URGENT We are trying to contact U Todays draw shows that you have won a å800 prize GUARANTEED Call 09050003091 from land line Claim C52 Valid12hrs only\n",
      "Predicted spam with prob: 0.9999999900520302\n",
      "Actual y: spam\n",
      "URGENT Your Mobile number has been awarded a UKP2000 prize GUARANTEED Call 09061790125 from landline Claim 3030 Valid 12hrs only 150ppm\n",
      "Predicted spam with prob: 0.9999999999911516\n",
      "Actual y: spam\n",
      "Ur HMV Quiz cashbalance is currently å500  to maximize ur cashin now send HMV1 to 86688 only 150pmsg\n",
      "Predicted spam with prob: 0.9999999999931407\n",
      "Actual y: spam\n",
      "Hi there 2nights ur lucky night Uve been invited 2 XCHAT the Uks wildest chat Txt CHAT to 86688 now 150pMsgrcvdHGSuite3422LandsRowW1J6HL LDN 18yrs\n",
      "Predicted spam with prob: 0.9999990428084433\n",
      "Actual y: spam\n",
      "Congrats Nokia 3650 video camera phone is your Call 09066382422 Calls cost 150ppm Ave call 3mins vary from mobiles 16 Close 300603 post BCM4284 Ldn WC1N3XX\n",
      "Predicted spam with prob: 0.9999999999847888\n",
      "Actual y: spam\n",
      "RGENT This is the 2nd attempt to contact UU have WON å1250 CALL 09071512433 b4 050703 TCsBCM4235WC1N3XX callcost 150ppm mobilesvary maxå7 50\n",
      "Predicted spam with prob: 0.9999999999691526\n",
      "Actual y: spam\n",
      "WIN We have a winner Mr T Foley won an iPod More exciting prizes soon so keep an eye on ur mobile or visit wwwwin82050couk\n",
      "Predicted spam with prob: 0.9999986731579584\n",
      "Actual y: spam\n",
      "YOU ARE CHOSEN TO RECEIVE A å350 AWARD Pls call claim number 09066364311 to collect your award which you are selected to receive as a valued mobile customer\n",
      "Predicted spam with prob: 0.9999999673452348\n",
      "Actual y: spam\n",
      "Please call our customer service representative on FREEPHONE 0808 145 4742 between 9am11pm as you have WON a guaranteed å1000 cash or å5000 prize\n",
      "Predicted spam with prob: 0.9999999997729095\n",
      "Actual y: spam\n",
      "If you dont your prize will go to another customer TC at wwwtcbiz 18 150pmin Polo Ltd Suite 373 London W1J 6HL Please call back if busy\n",
      "Predicted spam with prob: 0.9990573324598897\n",
      "Actual y: spam\n",
      "Rock yr chik Get 100s of filthy films XXX pics on yr phone now rply FILTH to 69669 Saristar Ltd E14 9YT 08701752560 450p per 5 days Stop2 cancel\n",
      "Predicted spam with prob: 0.9999988982429742\n",
      "Actual y: spam\n",
      "This is the 2nd time we have tried to contact u U have won the å400 prize 2 claim is easy just call 087104711148 NOW Only 10p per minute BTnationalrate\n",
      "Predicted spam with prob: 0.999971854332935\n",
      "Actual y: spam\n",
      "Panasonic  BluetoothHdset FREE Nokia FREE Motorola FREE  DoubleMins  DoubleTxt on Orange contract Call MobileUpd8 on 08000839402 or call 2optout\n",
      "Predicted spam with prob: 0.999999999999785\n",
      "Actual y: spam\n",
      "December only Had your mobile 11mths You are entitled to update to the latest colour camera mobile for Free Call The Mobile Update Co FREE on 08002986906\n",
      "Predicted spam with prob: 0.9999999967684046\n",
      "Actual y: spam\n",
      "We tried to contact you re your reply to our offer of a Video Phone 750 anytime any network mins Half Price Line Rental Camcorder Reply or call 08000930705\n",
      "Predicted spam with prob: 0.9999999934573768\n",
      "Actual y: spam\n",
      "SMS AUCTION You have won a Nokia 7250i This is what you get when you win our FREE auction To take part send Nokia to 86021 now HGSuite3422Lands RowW1JHL 16\n",
      "Predicted spam with prob: 0.9999986772965359\n",
      "Actual y: spam\n",
      "Had your contract mobile 11 Mnths Latest Motorola Nokia etc all FREE Double Mins  Text on Orange tariffs TEXT YES for callback no to remove from records\n",
      "Predicted spam with prob: 0.9999999987351827\n",
      "Actual y: spam\n",
      "U 447801259231 have a secret admirer who is looking 2 make contact with Ufind out who they Rreveal who thinks UR so specialcall on 09058094597\n",
      "Predicted spam with prob: 0.9999966718982417\n",
      "Actual y: spam\n",
      "Hi ya babe x u 4goten bout me scammers getting smartThough this is a regular vodafone no if you respond you get further prem rate msgsubscription Other nos used also Beware\n",
      "Predicted spam with prob: 0.8921227641033481\n",
      "Actual y: spam\n",
      "Todays Vodafone numbers ending with 4882 are selected to a receive a å350 award If your number matches call 09064019014 to receive your å350 award\n",
      "Predicted spam with prob: 0.9999999998773588\n",
      "Actual y: spam\n",
      "Free Top ringtone sub to weekly ringtoneget 1st week freesend SUBPOLY to 816183 per weekstop sms08718727870\n",
      "Predicted spam with prob: 0.9999999999999625\n",
      "Actual y: spam\n",
      "Do you want a New Nokia 3510i Colour Phone Delivered Tomorrow With 200 FREE minutes to any mobile  100 FREE text  FREE camcorder Reply or Call 08000930705\n",
      "Predicted spam with prob: 0.9999999901126116\n",
      "Actual y: spam\n",
      "Wan2 win a MeetGreet with Westlife 4 U or a m8 They are currently on what tour 1Unbreakable 2Untamed 3Unkempt Text 12 or 3 to 83049 Cost 50p std text\n",
      "Predicted spam with prob: 0.999999901086957\n",
      "Actual y: spam\n",
      "XMAS iscoming  ur awarded either å500 CD gift vouchers  free entry 2 r å100 weekly draw txt MUSIC to 87066 TnC wwwLdewcom1win150ppmx3age16subscription\n",
      "Predicted spam with prob: 0.9999999999967066\n",
      "Actual y: spam\n",
      "GENT We are trying to contact you Last weekends draw shows that you won a å1000 prize GUARANTEED Call 09064012160 Claim Code K52 Valid 12hrs only 150ppm\n",
      "Predicted spam with prob: 0.9999999991284139\n",
      "Actual y: spam\n",
      "Win a å1000 cash prize or a prize worth å5000\n",
      "Predicted spam with prob: 0.9999999999999916\n",
      "Actual y: spam\n"
     ]
    }
   ],
   "source": [
    "for i,test_mail in enumerate(X_test):\n",
    "    pred_prob = predicted_prob(test_mail)\n",
    "    if pred_prob>=0.5:\n",
    "        print(test_mail)\n",
    "        print(\"Predicted spam with prob:\",pred_prob)\n",
    "        print(\"Actual y:\",y_test[i])\n",
    "        "
   ]
  },
  {
   "cell_type": "code",
   "execution_count": 45,
   "metadata": {},
   "outputs": [
    {
     "name": "stdout",
     "output_type": "stream",
     "text": [
      "0.9407894736842105\n"
     ]
    }
   ],
   "source": [
    "c = 0\n",
    "for i,test_mail in enumerate(X_test):\n",
    "    pred_prob = predicted_prob(test_mail)\n",
    "    if pred_prob>=0.5 and y_test[i]==\"spam\":\n",
    "        c=c+1\n",
    "    elif pred_prob<0.5 and y_test[i]==\"ham\":\n",
    "        c=c+1\n",
    "print(c/len(y_test))"
   ]
  },
  {
   "cell_type": "code",
   "execution_count": 46,
   "metadata": {},
   "outputs": [
    {
     "data": {
      "text/html": [
       "<div>\n",
       "<style scoped>\n",
       "    .dataframe tbody tr th:only-of-type {\n",
       "        vertical-align: middle;\n",
       "    }\n",
       "\n",
       "    .dataframe tbody tr th {\n",
       "        vertical-align: top;\n",
       "    }\n",
       "\n",
       "    .dataframe thead th {\n",
       "        text-align: right;\n",
       "    }\n",
       "</style>\n",
       "<table border=\"1\" class=\"dataframe\">\n",
       "  <thead>\n",
       "    <tr style=\"text-align: right;\">\n",
       "      <th></th>\n",
       "      <th>Predicted Yes</th>\n",
       "      <th>Predicted No</th>\n",
       "    </tr>\n",
       "  </thead>\n",
       "  <tbody>\n",
       "    <tr>\n",
       "      <th>Actual Yes</th>\n",
       "      <td>148</td>\n",
       "      <td>86</td>\n",
       "    </tr>\n",
       "    <tr>\n",
       "      <th>Actual No</th>\n",
       "      <td>13</td>\n",
       "      <td>1425</td>\n",
       "    </tr>\n",
       "  </tbody>\n",
       "</table>\n",
       "</div>"
      ],
      "text/plain": [
       "            Predicted Yes  Predicted No\n",
       "Actual Yes            148            86\n",
       "Actual No              13          1425"
      ]
     },
     "execution_count": 46,
     "metadata": {},
     "output_type": "execute_result"
    }
   ],
   "source": [
    "#True positives\n",
    "#Assuming spam = 1 and ham = 0\n",
    "tp,tn, fp,fn=0,0,0,0\n",
    "for i,test_mail in enumerate(X_test):\n",
    "    pred_prob = predicted_prob(test_mail)\n",
    "    if pred_prob>=0.5 and y_test[i]==\"spam\":\n",
    "        tp=tp+1\n",
    "    elif pred_prob<0.5 and y_test[i]==\"ham\":\n",
    "        tn=tn+1\n",
    "    elif pred_prob>=0.5 and y_test[i]==\"ham\":\n",
    "        fp=fp+1\n",
    "    elif pred_prob<0.5 and y_test[i]==\"spam\":\n",
    "        fn=fn+1\n",
    "pd.DataFrame(data = [[tp,fn],[fp,tn]],index=[\"Actual Yes\", \"Actual No\"], columns=[\"Predicted Yes\", \"Predicted No\"])"
   ]
  },
  {
   "cell_type": "code",
   "execution_count": null,
   "metadata": {
    "collapsed": true
   },
   "outputs": [],
   "source": []
  }
 ],
 "metadata": {
  "kernelspec": {
   "display_name": "Python 3",
   "language": "python",
   "name": "python3"
  },
  "language_info": {
   "codemirror_mode": {
    "name": "ipython",
    "version": 3
   },
   "file_extension": ".py",
   "mimetype": "text/x-python",
   "name": "python",
   "nbconvert_exporter": "python",
   "pygments_lexer": "ipython3",
   "version": "3.6.3"
  }
 },
 "nbformat": 4,
 "nbformat_minor": 2
}
