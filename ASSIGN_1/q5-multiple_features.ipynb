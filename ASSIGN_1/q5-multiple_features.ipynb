{
 "cells": [
  {
   "cell_type": "code",
   "execution_count": 1,
   "metadata": {},
   "outputs": [],
   "source": [
    "import pandas as pd\n",
    "import numpy as np\n",
    "import matplotlib.pyplot as plt\n",
    "import timeit"
   ]
  },
  {
   "cell_type": "code",
   "execution_count": 2,
   "metadata": {},
   "outputs": [
    {
     "data": {
      "text/html": [
       "<div>\n",
       "<style scoped>\n",
       "    .dataframe tbody tr th:only-of-type {\n",
       "        vertical-align: middle;\n",
       "    }\n",
       "\n",
       "    .dataframe tbody tr th {\n",
       "        vertical-align: top;\n",
       "    }\n",
       "\n",
       "    .dataframe thead th {\n",
       "        text-align: right;\n",
       "    }\n",
       "</style>\n",
       "<table border=\"1\" class=\"dataframe\">\n",
       "  <thead>\n",
       "    <tr style=\"text-align: right;\">\n",
       "      <th></th>\n",
       "      <th>price</th>\n",
       "      <th>lotsize</th>\n",
       "      <th>bedrooms</th>\n",
       "      <th>bathrms</th>\n",
       "      <th>stories</th>\n",
       "      <th>driveway</th>\n",
       "      <th>recroom</th>\n",
       "      <th>fullbase</th>\n",
       "      <th>gashw</th>\n",
       "      <th>airco</th>\n",
       "      <th>garagepl</th>\n",
       "      <th>prefarea</th>\n",
       "    </tr>\n",
       "  </thead>\n",
       "  <tbody>\n",
       "    <tr>\n",
       "      <th>1</th>\n",
       "      <td>42000.0</td>\n",
       "      <td>5850</td>\n",
       "      <td>3</td>\n",
       "      <td>1</td>\n",
       "      <td>2</td>\n",
       "      <td>yes</td>\n",
       "      <td>no</td>\n",
       "      <td>yes</td>\n",
       "      <td>no</td>\n",
       "      <td>no</td>\n",
       "      <td>1</td>\n",
       "      <td>no</td>\n",
       "    </tr>\n",
       "    <tr>\n",
       "      <th>2</th>\n",
       "      <td>38500.0</td>\n",
       "      <td>4000</td>\n",
       "      <td>2</td>\n",
       "      <td>1</td>\n",
       "      <td>1</td>\n",
       "      <td>yes</td>\n",
       "      <td>no</td>\n",
       "      <td>no</td>\n",
       "      <td>no</td>\n",
       "      <td>no</td>\n",
       "      <td>0</td>\n",
       "      <td>no</td>\n",
       "    </tr>\n",
       "    <tr>\n",
       "      <th>3</th>\n",
       "      <td>49500.0</td>\n",
       "      <td>3060</td>\n",
       "      <td>3</td>\n",
       "      <td>1</td>\n",
       "      <td>1</td>\n",
       "      <td>yes</td>\n",
       "      <td>no</td>\n",
       "      <td>no</td>\n",
       "      <td>no</td>\n",
       "      <td>no</td>\n",
       "      <td>0</td>\n",
       "      <td>no</td>\n",
       "    </tr>\n",
       "    <tr>\n",
       "      <th>4</th>\n",
       "      <td>60500.0</td>\n",
       "      <td>6650</td>\n",
       "      <td>3</td>\n",
       "      <td>1</td>\n",
       "      <td>2</td>\n",
       "      <td>yes</td>\n",
       "      <td>yes</td>\n",
       "      <td>no</td>\n",
       "      <td>no</td>\n",
       "      <td>no</td>\n",
       "      <td>0</td>\n",
       "      <td>no</td>\n",
       "    </tr>\n",
       "    <tr>\n",
       "      <th>5</th>\n",
       "      <td>61000.0</td>\n",
       "      <td>6360</td>\n",
       "      <td>2</td>\n",
       "      <td>1</td>\n",
       "      <td>1</td>\n",
       "      <td>yes</td>\n",
       "      <td>no</td>\n",
       "      <td>no</td>\n",
       "      <td>no</td>\n",
       "      <td>no</td>\n",
       "      <td>0</td>\n",
       "      <td>no</td>\n",
       "    </tr>\n",
       "  </tbody>\n",
       "</table>\n",
       "</div>"
      ],
      "text/plain": [
       "     price  lotsize  bedrooms  bathrms  stories driveway recroom fullbase  \\\n",
       "1  42000.0     5850         3        1        2      yes      no      yes   \n",
       "2  38500.0     4000         2        1        1      yes      no       no   \n",
       "3  49500.0     3060         3        1        1      yes      no       no   \n",
       "4  60500.0     6650         3        1        2      yes     yes       no   \n",
       "5  61000.0     6360         2        1        1      yes      no       no   \n",
       "\n",
       "  gashw airco  garagepl prefarea  \n",
       "1    no    no         1       no  \n",
       "2    no    no         0       no  \n",
       "3    no    no         0       no  \n",
       "4    no    no         0       no  \n",
       "5    no    no         0       no  "
      ]
     },
     "execution_count": 2,
     "metadata": {},
     "output_type": "execute_result"
    }
   ],
   "source": [
    "df = pd.read_csv('Housing.csv', index_col='Unnamed: 0')\n",
    "df.head()"
   ]
  },
  {
   "cell_type": "code",
   "execution_count": 3,
   "metadata": {},
   "outputs": [
    {
     "data": {
      "text/plain": [
       "(546, 12)"
      ]
     },
     "execution_count": 3,
     "metadata": {},
     "output_type": "execute_result"
    }
   ],
   "source": [
    "df.shape"
   ]
  },
  {
   "cell_type": "code",
   "execution_count": 4,
   "metadata": {},
   "outputs": [
    {
     "data": {
      "text/html": [
       "<div>\n",
       "<style scoped>\n",
       "    .dataframe tbody tr th:only-of-type {\n",
       "        vertical-align: middle;\n",
       "    }\n",
       "\n",
       "    .dataframe tbody tr th {\n",
       "        vertical-align: top;\n",
       "    }\n",
       "\n",
       "    .dataframe thead th {\n",
       "        text-align: right;\n",
       "    }\n",
       "</style>\n",
       "<table border=\"1\" class=\"dataframe\">\n",
       "  <thead>\n",
       "    <tr style=\"text-align: right;\">\n",
       "      <th></th>\n",
       "      <th>price</th>\n",
       "      <th>lotsize</th>\n",
       "      <th>bedrooms</th>\n",
       "      <th>bathrms</th>\n",
       "      <th>stories</th>\n",
       "      <th>driveway</th>\n",
       "      <th>recroom</th>\n",
       "      <th>fullbase</th>\n",
       "      <th>gashw</th>\n",
       "      <th>airco</th>\n",
       "      <th>garagepl</th>\n",
       "      <th>prefarea</th>\n",
       "    </tr>\n",
       "  </thead>\n",
       "  <tbody>\n",
       "    <tr>\n",
       "      <th>count</th>\n",
       "      <td>546.000000</td>\n",
       "      <td>546.000000</td>\n",
       "      <td>546.000000</td>\n",
       "      <td>546.000000</td>\n",
       "      <td>546.000000</td>\n",
       "      <td>546</td>\n",
       "      <td>546</td>\n",
       "      <td>546</td>\n",
       "      <td>546</td>\n",
       "      <td>546</td>\n",
       "      <td>546.000000</td>\n",
       "      <td>546</td>\n",
       "    </tr>\n",
       "    <tr>\n",
       "      <th>unique</th>\n",
       "      <td>NaN</td>\n",
       "      <td>NaN</td>\n",
       "      <td>NaN</td>\n",
       "      <td>NaN</td>\n",
       "      <td>NaN</td>\n",
       "      <td>2</td>\n",
       "      <td>2</td>\n",
       "      <td>2</td>\n",
       "      <td>2</td>\n",
       "      <td>2</td>\n",
       "      <td>NaN</td>\n",
       "      <td>2</td>\n",
       "    </tr>\n",
       "    <tr>\n",
       "      <th>top</th>\n",
       "      <td>NaN</td>\n",
       "      <td>NaN</td>\n",
       "      <td>NaN</td>\n",
       "      <td>NaN</td>\n",
       "      <td>NaN</td>\n",
       "      <td>yes</td>\n",
       "      <td>no</td>\n",
       "      <td>no</td>\n",
       "      <td>no</td>\n",
       "      <td>no</td>\n",
       "      <td>NaN</td>\n",
       "      <td>no</td>\n",
       "    </tr>\n",
       "    <tr>\n",
       "      <th>freq</th>\n",
       "      <td>NaN</td>\n",
       "      <td>NaN</td>\n",
       "      <td>NaN</td>\n",
       "      <td>NaN</td>\n",
       "      <td>NaN</td>\n",
       "      <td>469</td>\n",
       "      <td>449</td>\n",
       "      <td>355</td>\n",
       "      <td>521</td>\n",
       "      <td>373</td>\n",
       "      <td>NaN</td>\n",
       "      <td>418</td>\n",
       "    </tr>\n",
       "    <tr>\n",
       "      <th>mean</th>\n",
       "      <td>68121.597070</td>\n",
       "      <td>5150.265568</td>\n",
       "      <td>2.965201</td>\n",
       "      <td>1.285714</td>\n",
       "      <td>1.807692</td>\n",
       "      <td>NaN</td>\n",
       "      <td>NaN</td>\n",
       "      <td>NaN</td>\n",
       "      <td>NaN</td>\n",
       "      <td>NaN</td>\n",
       "      <td>0.692308</td>\n",
       "      <td>NaN</td>\n",
       "    </tr>\n",
       "    <tr>\n",
       "      <th>std</th>\n",
       "      <td>26702.670926</td>\n",
       "      <td>2168.158725</td>\n",
       "      <td>0.737388</td>\n",
       "      <td>0.502158</td>\n",
       "      <td>0.868203</td>\n",
       "      <td>NaN</td>\n",
       "      <td>NaN</td>\n",
       "      <td>NaN</td>\n",
       "      <td>NaN</td>\n",
       "      <td>NaN</td>\n",
       "      <td>0.861307</td>\n",
       "      <td>NaN</td>\n",
       "    </tr>\n",
       "    <tr>\n",
       "      <th>min</th>\n",
       "      <td>25000.000000</td>\n",
       "      <td>1650.000000</td>\n",
       "      <td>1.000000</td>\n",
       "      <td>1.000000</td>\n",
       "      <td>1.000000</td>\n",
       "      <td>NaN</td>\n",
       "      <td>NaN</td>\n",
       "      <td>NaN</td>\n",
       "      <td>NaN</td>\n",
       "      <td>NaN</td>\n",
       "      <td>0.000000</td>\n",
       "      <td>NaN</td>\n",
       "    </tr>\n",
       "    <tr>\n",
       "      <th>25%</th>\n",
       "      <td>49125.000000</td>\n",
       "      <td>3600.000000</td>\n",
       "      <td>2.000000</td>\n",
       "      <td>1.000000</td>\n",
       "      <td>1.000000</td>\n",
       "      <td>NaN</td>\n",
       "      <td>NaN</td>\n",
       "      <td>NaN</td>\n",
       "      <td>NaN</td>\n",
       "      <td>NaN</td>\n",
       "      <td>0.000000</td>\n",
       "      <td>NaN</td>\n",
       "    </tr>\n",
       "    <tr>\n",
       "      <th>50%</th>\n",
       "      <td>62000.000000</td>\n",
       "      <td>4600.000000</td>\n",
       "      <td>3.000000</td>\n",
       "      <td>1.000000</td>\n",
       "      <td>2.000000</td>\n",
       "      <td>NaN</td>\n",
       "      <td>NaN</td>\n",
       "      <td>NaN</td>\n",
       "      <td>NaN</td>\n",
       "      <td>NaN</td>\n",
       "      <td>0.000000</td>\n",
       "      <td>NaN</td>\n",
       "    </tr>\n",
       "    <tr>\n",
       "      <th>75%</th>\n",
       "      <td>82000.000000</td>\n",
       "      <td>6360.000000</td>\n",
       "      <td>3.000000</td>\n",
       "      <td>2.000000</td>\n",
       "      <td>2.000000</td>\n",
       "      <td>NaN</td>\n",
       "      <td>NaN</td>\n",
       "      <td>NaN</td>\n",
       "      <td>NaN</td>\n",
       "      <td>NaN</td>\n",
       "      <td>1.000000</td>\n",
       "      <td>NaN</td>\n",
       "    </tr>\n",
       "    <tr>\n",
       "      <th>max</th>\n",
       "      <td>190000.000000</td>\n",
       "      <td>16200.000000</td>\n",
       "      <td>6.000000</td>\n",
       "      <td>4.000000</td>\n",
       "      <td>4.000000</td>\n",
       "      <td>NaN</td>\n",
       "      <td>NaN</td>\n",
       "      <td>NaN</td>\n",
       "      <td>NaN</td>\n",
       "      <td>NaN</td>\n",
       "      <td>3.000000</td>\n",
       "      <td>NaN</td>\n",
       "    </tr>\n",
       "  </tbody>\n",
       "</table>\n",
       "</div>"
      ],
      "text/plain": [
       "                price       lotsize    bedrooms     bathrms     stories  \\\n",
       "count      546.000000    546.000000  546.000000  546.000000  546.000000   \n",
       "unique            NaN           NaN         NaN         NaN         NaN   \n",
       "top               NaN           NaN         NaN         NaN         NaN   \n",
       "freq              NaN           NaN         NaN         NaN         NaN   \n",
       "mean     68121.597070   5150.265568    2.965201    1.285714    1.807692   \n",
       "std      26702.670926   2168.158725    0.737388    0.502158    0.868203   \n",
       "min      25000.000000   1650.000000    1.000000    1.000000    1.000000   \n",
       "25%      49125.000000   3600.000000    2.000000    1.000000    1.000000   \n",
       "50%      62000.000000   4600.000000    3.000000    1.000000    2.000000   \n",
       "75%      82000.000000   6360.000000    3.000000    2.000000    2.000000   \n",
       "max     190000.000000  16200.000000    6.000000    4.000000    4.000000   \n",
       "\n",
       "       driveway recroom fullbase gashw airco    garagepl prefarea  \n",
       "count       546     546      546   546   546  546.000000      546  \n",
       "unique        2       2        2     2     2         NaN        2  \n",
       "top         yes      no       no    no    no         NaN       no  \n",
       "freq        469     449      355   521   373         NaN      418  \n",
       "mean        NaN     NaN      NaN   NaN   NaN    0.692308      NaN  \n",
       "std         NaN     NaN      NaN   NaN   NaN    0.861307      NaN  \n",
       "min         NaN     NaN      NaN   NaN   NaN    0.000000      NaN  \n",
       "25%         NaN     NaN      NaN   NaN   NaN    0.000000      NaN  \n",
       "50%         NaN     NaN      NaN   NaN   NaN    0.000000      NaN  \n",
       "75%         NaN     NaN      NaN   NaN   NaN    1.000000      NaN  \n",
       "max         NaN     NaN      NaN   NaN   NaN    3.000000      NaN  "
      ]
     },
     "execution_count": 4,
     "metadata": {},
     "output_type": "execute_result"
    }
   ],
   "source": [
    "df.describe(include='all')"
   ]
  },
  {
   "cell_type": "code",
   "execution_count": 5,
   "metadata": {},
   "outputs": [
    {
     "name": "stdout",
     "output_type": "stream",
     "text": [
      "<class 'pandas.core.frame.DataFrame'>\n",
      "Int64Index: 546 entries, 1 to 546\n",
      "Data columns (total 12 columns):\n",
      "price       546 non-null float64\n",
      "lotsize     546 non-null int64\n",
      "bedrooms    546 non-null int64\n",
      "bathrms     546 non-null int64\n",
      "stories     546 non-null int64\n",
      "driveway    546 non-null object\n",
      "recroom     546 non-null object\n",
      "fullbase    546 non-null object\n",
      "gashw       546 non-null object\n",
      "airco       546 non-null object\n",
      "garagepl    546 non-null int64\n",
      "prefarea    546 non-null object\n",
      "dtypes: float64(1), int64(5), object(6)\n",
      "memory usage: 55.5+ KB\n"
     ]
    }
   ],
   "source": [
    "df.info()"
   ]
  },
  {
   "cell_type": "code",
   "execution_count": 6,
   "metadata": {},
   "outputs": [
    {
     "data": {
      "text/html": [
       "<div>\n",
       "<style scoped>\n",
       "    .dataframe tbody tr th:only-of-type {\n",
       "        vertical-align: middle;\n",
       "    }\n",
       "\n",
       "    .dataframe tbody tr th {\n",
       "        vertical-align: top;\n",
       "    }\n",
       "\n",
       "    .dataframe thead th {\n",
       "        text-align: right;\n",
       "    }\n",
       "</style>\n",
       "<table border=\"1\" class=\"dataframe\">\n",
       "  <thead>\n",
       "    <tr style=\"text-align: right;\">\n",
       "      <th></th>\n",
       "      <th>price</th>\n",
       "      <th>lotsize</th>\n",
       "      <th>bedrooms</th>\n",
       "      <th>bathrms</th>\n",
       "      <th>stories</th>\n",
       "      <th>garagepl</th>\n",
       "    </tr>\n",
       "  </thead>\n",
       "  <tbody>\n",
       "    <tr>\n",
       "      <th>price</th>\n",
       "      <td>1.000000</td>\n",
       "      <td>0.535796</td>\n",
       "      <td>0.366447</td>\n",
       "      <td>0.516719</td>\n",
       "      <td>0.421190</td>\n",
       "      <td>0.383302</td>\n",
       "    </tr>\n",
       "    <tr>\n",
       "      <th>lotsize</th>\n",
       "      <td>0.535796</td>\n",
       "      <td>1.000000</td>\n",
       "      <td>0.151851</td>\n",
       "      <td>0.193833</td>\n",
       "      <td>0.083675</td>\n",
       "      <td>0.352872</td>\n",
       "    </tr>\n",
       "    <tr>\n",
       "      <th>bedrooms</th>\n",
       "      <td>0.366447</td>\n",
       "      <td>0.151851</td>\n",
       "      <td>1.000000</td>\n",
       "      <td>0.373769</td>\n",
       "      <td>0.407974</td>\n",
       "      <td>0.139117</td>\n",
       "    </tr>\n",
       "    <tr>\n",
       "      <th>bathrms</th>\n",
       "      <td>0.516719</td>\n",
       "      <td>0.193833</td>\n",
       "      <td>0.373769</td>\n",
       "      <td>1.000000</td>\n",
       "      <td>0.324066</td>\n",
       "      <td>0.178178</td>\n",
       "    </tr>\n",
       "    <tr>\n",
       "      <th>stories</th>\n",
       "      <td>0.421190</td>\n",
       "      <td>0.083675</td>\n",
       "      <td>0.407974</td>\n",
       "      <td>0.324066</td>\n",
       "      <td>1.000000</td>\n",
       "      <td>0.043412</td>\n",
       "    </tr>\n",
       "    <tr>\n",
       "      <th>garagepl</th>\n",
       "      <td>0.383302</td>\n",
       "      <td>0.352872</td>\n",
       "      <td>0.139117</td>\n",
       "      <td>0.178178</td>\n",
       "      <td>0.043412</td>\n",
       "      <td>1.000000</td>\n",
       "    </tr>\n",
       "  </tbody>\n",
       "</table>\n",
       "</div>"
      ],
      "text/plain": [
       "             price   lotsize  bedrooms   bathrms   stories  garagepl\n",
       "price     1.000000  0.535796  0.366447  0.516719  0.421190  0.383302\n",
       "lotsize   0.535796  1.000000  0.151851  0.193833  0.083675  0.352872\n",
       "bedrooms  0.366447  0.151851  1.000000  0.373769  0.407974  0.139117\n",
       "bathrms   0.516719  0.193833  0.373769  1.000000  0.324066  0.178178\n",
       "stories   0.421190  0.083675  0.407974  0.324066  1.000000  0.043412\n",
       "garagepl  0.383302  0.352872  0.139117  0.178178  0.043412  1.000000"
      ]
     },
     "execution_count": 6,
     "metadata": {},
     "output_type": "execute_result"
    }
   ],
   "source": [
    "df.corr()"
   ]
  },
  {
   "cell_type": "code",
   "execution_count": 7,
   "metadata": {},
   "outputs": [],
   "source": [
    "df.driveway = df.driveway.eq('yes').mul(1)\n",
    "df.recroom = df.recroom.eq('yes').mul(1)\n",
    "df.fullbase = df.fullbase.eq('yes').mul(1)\n",
    "df.gashw = df.gashw.eq('yes').mul(1)\n",
    "df.airco = df.airco.eq('yes').mul(1)\n",
    "df.prefarea = df.prefarea.eq('yes').mul(1)"
   ]
  },
  {
   "cell_type": "code",
   "execution_count": 8,
   "metadata": {},
   "outputs": [
    {
     "data": {
      "text/html": [
       "<div>\n",
       "<style scoped>\n",
       "    .dataframe tbody tr th:only-of-type {\n",
       "        vertical-align: middle;\n",
       "    }\n",
       "\n",
       "    .dataframe tbody tr th {\n",
       "        vertical-align: top;\n",
       "    }\n",
       "\n",
       "    .dataframe thead th {\n",
       "        text-align: right;\n",
       "    }\n",
       "</style>\n",
       "<table border=\"1\" class=\"dataframe\">\n",
       "  <thead>\n",
       "    <tr style=\"text-align: right;\">\n",
       "      <th></th>\n",
       "      <th>price</th>\n",
       "      <th>lotsize</th>\n",
       "      <th>bedrooms</th>\n",
       "      <th>bathrms</th>\n",
       "      <th>stories</th>\n",
       "      <th>driveway</th>\n",
       "      <th>recroom</th>\n",
       "      <th>fullbase</th>\n",
       "      <th>gashw</th>\n",
       "      <th>airco</th>\n",
       "      <th>garagepl</th>\n",
       "      <th>prefarea</th>\n",
       "    </tr>\n",
       "  </thead>\n",
       "  <tbody>\n",
       "    <tr>\n",
       "      <th>1</th>\n",
       "      <td>42000.0</td>\n",
       "      <td>5850</td>\n",
       "      <td>3</td>\n",
       "      <td>1</td>\n",
       "      <td>2</td>\n",
       "      <td>1</td>\n",
       "      <td>0</td>\n",
       "      <td>1</td>\n",
       "      <td>0</td>\n",
       "      <td>0</td>\n",
       "      <td>1</td>\n",
       "      <td>0</td>\n",
       "    </tr>\n",
       "    <tr>\n",
       "      <th>2</th>\n",
       "      <td>38500.0</td>\n",
       "      <td>4000</td>\n",
       "      <td>2</td>\n",
       "      <td>1</td>\n",
       "      <td>1</td>\n",
       "      <td>1</td>\n",
       "      <td>0</td>\n",
       "      <td>0</td>\n",
       "      <td>0</td>\n",
       "      <td>0</td>\n",
       "      <td>0</td>\n",
       "      <td>0</td>\n",
       "    </tr>\n",
       "    <tr>\n",
       "      <th>3</th>\n",
       "      <td>49500.0</td>\n",
       "      <td>3060</td>\n",
       "      <td>3</td>\n",
       "      <td>1</td>\n",
       "      <td>1</td>\n",
       "      <td>1</td>\n",
       "      <td>0</td>\n",
       "      <td>0</td>\n",
       "      <td>0</td>\n",
       "      <td>0</td>\n",
       "      <td>0</td>\n",
       "      <td>0</td>\n",
       "    </tr>\n",
       "    <tr>\n",
       "      <th>4</th>\n",
       "      <td>60500.0</td>\n",
       "      <td>6650</td>\n",
       "      <td>3</td>\n",
       "      <td>1</td>\n",
       "      <td>2</td>\n",
       "      <td>1</td>\n",
       "      <td>1</td>\n",
       "      <td>0</td>\n",
       "      <td>0</td>\n",
       "      <td>0</td>\n",
       "      <td>0</td>\n",
       "      <td>0</td>\n",
       "    </tr>\n",
       "    <tr>\n",
       "      <th>5</th>\n",
       "      <td>61000.0</td>\n",
       "      <td>6360</td>\n",
       "      <td>2</td>\n",
       "      <td>1</td>\n",
       "      <td>1</td>\n",
       "      <td>1</td>\n",
       "      <td>0</td>\n",
       "      <td>0</td>\n",
       "      <td>0</td>\n",
       "      <td>0</td>\n",
       "      <td>0</td>\n",
       "      <td>0</td>\n",
       "    </tr>\n",
       "  </tbody>\n",
       "</table>\n",
       "</div>"
      ],
      "text/plain": [
       "     price  lotsize  bedrooms  bathrms  stories  driveway  recroom  fullbase  \\\n",
       "1  42000.0     5850         3        1        2         1        0         1   \n",
       "2  38500.0     4000         2        1        1         1        0         0   \n",
       "3  49500.0     3060         3        1        1         1        0         0   \n",
       "4  60500.0     6650         3        1        2         1        1         0   \n",
       "5  61000.0     6360         2        1        1         1        0         0   \n",
       "\n",
       "   gashw  airco  garagepl  prefarea  \n",
       "1      0      0         1         0  \n",
       "2      0      0         0         0  \n",
       "3      0      0         0         0  \n",
       "4      0      0         0         0  \n",
       "5      0      0         0         0  "
      ]
     },
     "execution_count": 8,
     "metadata": {},
     "output_type": "execute_result"
    }
   ],
   "source": [
    "df.head()"
   ]
  },
  {
   "cell_type": "markdown",
   "metadata": {},
   "source": [
    "# Linear Regression using Normal Equation"
   ]
  },
  {
   "cell_type": "code",
   "execution_count": 9,
   "metadata": {},
   "outputs": [],
   "source": [
    "x = df[['lotsize','bedrooms','bathrms', 'stories', 'garagepl']] \n",
    "y = df['price']"
   ]
  },
  {
   "cell_type": "code",
   "execution_count": 10,
   "metadata": {},
   "outputs": [
    {
     "name": "stdout",
     "output_type": "stream",
     "text": [
      "(546, 5) (546,)\n"
     ]
    }
   ],
   "source": [
    "print(x.shape, y.shape)"
   ]
  },
  {
   "cell_type": "code",
   "execution_count": 11,
   "metadata": {},
   "outputs": [],
   "source": [
    "w = np.dot(np.linalg.inv(np.dot(x.T,x)),np.dot(x.T,y))"
   ]
  },
  {
   "cell_type": "code",
   "execution_count": 12,
   "metadata": {},
   "outputs": [
    {
     "data": {
      "text/plain": [
       "array([4.65197346e+00, 1.95181494e+03, 1.59650826e+04, 7.84859911e+03,\n",
       "       5.42674735e+03])"
      ]
     },
     "execution_count": 12,
     "metadata": {},
     "output_type": "execute_result"
    }
   ],
   "source": [
    "w"
   ]
  },
  {
   "cell_type": "code",
   "execution_count": 13,
   "metadata": {},
   "outputs": [
    {
     "data": {
      "text/plain": [
       "(546,)"
      ]
     },
     "execution_count": 13,
     "metadata": {},
     "output_type": "execute_result"
    }
   ],
   "source": [
    "h = np.dot(x,w)\n",
    "h.shape"
   ]
  },
  {
   "cell_type": "code",
   "execution_count": 14,
   "metadata": {},
   "outputs": [
    {
     "data": {
      "image/png": "[encoded data removed]",
      "text/plain": [
       "<Figure size 432x288 with 1 Axes>"
      ]
     },
     "metadata": {
      "needs_background": "light"
     },
     "output_type": "display_data"
    },
    {
     "name": "stdout",
     "output_type": "stream",
     "text": [
      "Note: If x consists of more than one feature, the plot would not make any sense.\n",
      "Reason: The n-dimentions (n features) would be displayed in 2 dimentions.\n"
     ]
    }
   ],
   "source": [
    "plt.plot(x,h,x,y,'x')\n",
    "plt.ylabel(\"Price\")\n",
    "plt.show()\n",
    "print(\"Note: If x consists of more than one feature, the plot would not make any sense.\")\n",
    "print(\"Reason: The n-dimentions (n features) would be displayed in 2 dimentions.\")"
   ]
  },
  {
   "cell_type": "code",
   "execution_count": 15,
   "metadata": {},
   "outputs": [
    {
     "name": "stdout",
     "output_type": "stream",
     "text": [
      "Score using naive Linear Regression: 0.20734946329186107\n"
     ]
    }
   ],
   "source": [
    "score = np.sum((np.abs(np.divide((h-y),y))))/h.size\n",
    "print(\"Score using naive Linear Regression: \" + str(score))"
   ]
  },
  {
   "cell_type": "code",
   "execution_count": 17,
   "metadata": {},
   "outputs": [
    {
     "data": {
      "text/plain": [
       "2.542576709319225e+16"
      ]
     },
     "execution_count": 17,
     "metadata": {},
     "output_type": "execute_result"
    }
   ],
   "source": [
    "cost = (1/2*546)*np.sum(np.matmul(h-y,h-y))\n",
    "cost"
   ]
  },
  {
   "cell_type": "markdown",
   "metadata": {},
   "source": [
    "### Prediction"
   ]
  },
  {
   "cell_type": "code",
   "execution_count": 16,
   "metadata": {},
   "outputs": [
    {
     "name": "stdout",
     "output_type": "stream",
     "text": [
      " Lotsize | Bedrooms | Bathrooms |  Stories |   Garage\n",
      "    4500 |        3 |         2 |        2 |        2\n",
      "The predicted value for: 85270.18345983059\n"
     ]
    }
   ],
   "source": [
    "try:\n",
    "    test = np.array([4500, 3, 2, 2, 2])\n",
    "    val = np.dot(test,w)\n",
    "    print(\"%8s | %8s | %9s | %8s | %8s\" % (\"Lotsize\", \"Bedrooms\", \"Bathrooms\", \"Stories\", \"Garage\"))\n",
    "    print(\"%8d | %8d | %9d | %8d | %8d\" % (test[0],test[1],test[2],test[3],test[4]))\n",
    "    print(\"The predicted value for: \" + str(val))\n",
    "except Exception as e:\n",
    "    print(\"Give correct number of inputs to predict\")\n",
    "    print(e)"
   ]
  },
  {
   "cell_type": "markdown",
   "metadata": {},
   "source": [
    "# Gradient Descent"
   ]
  },
  {
   "cell_type": "code",
   "execution_count": 107,
   "metadata": {},
   "outputs": [
    {
     "data": {
      "text/html": [
       "<div>\n",
       "<style scoped>\n",
       "    .dataframe tbody tr th:only-of-type {\n",
       "        vertical-align: middle;\n",
       "    }\n",
       "\n",
       "    .dataframe tbody tr th {\n",
       "        vertical-align: top;\n",
       "    }\n",
       "\n",
       "    .dataframe thead th {\n",
       "        text-align: right;\n",
       "    }\n",
       "</style>\n",
       "<table border=\"1\" class=\"dataframe\">\n",
       "  <thead>\n",
       "    <tr style=\"text-align: right;\">\n",
       "      <th></th>\n",
       "      <th>price</th>\n",
       "      <th>lotsize</th>\n",
       "      <th>bedrooms</th>\n",
       "      <th>bathrms</th>\n",
       "      <th>stories</th>\n",
       "      <th>driveway</th>\n",
       "      <th>recroom</th>\n",
       "      <th>fullbase</th>\n",
       "      <th>gashw</th>\n",
       "      <th>airco</th>\n",
       "      <th>garagepl</th>\n",
       "      <th>prefarea</th>\n",
       "    </tr>\n",
       "  </thead>\n",
       "  <tbody>\n",
       "    <tr>\n",
       "      <th>1</th>\n",
       "      <td>42000.0</td>\n",
       "      <td>5850</td>\n",
       "      <td>3</td>\n",
       "      <td>1</td>\n",
       "      <td>2</td>\n",
       "      <td>1</td>\n",
       "      <td>0</td>\n",
       "      <td>1</td>\n",
       "      <td>0</td>\n",
       "      <td>0</td>\n",
       "      <td>1</td>\n",
       "      <td>0</td>\n",
       "    </tr>\n",
       "    <tr>\n",
       "      <th>2</th>\n",
       "      <td>38500.0</td>\n",
       "      <td>4000</td>\n",
       "      <td>2</td>\n",
       "      <td>1</td>\n",
       "      <td>1</td>\n",
       "      <td>1</td>\n",
       "      <td>0</td>\n",
       "      <td>0</td>\n",
       "      <td>0</td>\n",
       "      <td>0</td>\n",
       "      <td>0</td>\n",
       "      <td>0</td>\n",
       "    </tr>\n",
       "    <tr>\n",
       "      <th>3</th>\n",
       "      <td>49500.0</td>\n",
       "      <td>3060</td>\n",
       "      <td>3</td>\n",
       "      <td>1</td>\n",
       "      <td>1</td>\n",
       "      <td>1</td>\n",
       "      <td>0</td>\n",
       "      <td>0</td>\n",
       "      <td>0</td>\n",
       "      <td>0</td>\n",
       "      <td>0</td>\n",
       "      <td>0</td>\n",
       "    </tr>\n",
       "    <tr>\n",
       "      <th>4</th>\n",
       "      <td>60500.0</td>\n",
       "      <td>6650</td>\n",
       "      <td>3</td>\n",
       "      <td>1</td>\n",
       "      <td>2</td>\n",
       "      <td>1</td>\n",
       "      <td>1</td>\n",
       "      <td>0</td>\n",
       "      <td>0</td>\n",
       "      <td>0</td>\n",
       "      <td>0</td>\n",
       "      <td>0</td>\n",
       "    </tr>\n",
       "    <tr>\n",
       "      <th>5</th>\n",
       "      <td>61000.0</td>\n",
       "      <td>6360</td>\n",
       "      <td>2</td>\n",
       "      <td>1</td>\n",
       "      <td>1</td>\n",
       "      <td>1</td>\n",
       "      <td>0</td>\n",
       "      <td>0</td>\n",
       "      <td>0</td>\n",
       "      <td>0</td>\n",
       "      <td>0</td>\n",
       "      <td>0</td>\n",
       "    </tr>\n",
       "  </tbody>\n",
       "</table>\n",
       "</div>"
      ],
      "text/plain": [
       "     price  lotsize  bedrooms  bathrms  stories  driveway  recroom  fullbase  \\\n",
       "1  42000.0     5850         3        1        2         1        0         1   \n",
       "2  38500.0     4000         2        1        1         1        0         0   \n",
       "3  49500.0     3060         3        1        1         1        0         0   \n",
       "4  60500.0     6650         3        1        2         1        1         0   \n",
       "5  61000.0     6360         2        1        1         1        0         0   \n",
       "\n",
       "   gashw  airco  garagepl  prefarea  \n",
       "1      0      0         1         0  \n",
       "2      0      0         0         0  \n",
       "3      0      0         0         0  \n",
       "4      0      0         0         0  \n",
       "5      0      0         0         0  "
      ]
     },
     "execution_count": 107,
     "metadata": {},
     "output_type": "execute_result"
    }
   ],
   "source": [
    "df.head()"
   ]
  },
  {
   "cell_type": "code",
   "execution_count": 108,
   "metadata": {},
   "outputs": [],
   "source": [
    "x = df[['lotsize','bedrooms','bathrms', 'stories', 'garagepl']] \n",
    "y = df['price']"
   ]
  },
  {
   "cell_type": "code",
   "execution_count": 109,
   "metadata": {},
   "outputs": [],
   "source": [
    "# # Normalizing x and y\n",
    "#x = (x-np.min(x,axis=0))/(np.max(x,axis=0)-np.min(x,axis=0))\n",
    "#y = (y-np.min(y,axis=0))/(np.max(y,axis=0)-np.min(y,axis=0))\n",
    "#print(x)\n",
    "#print(y)"
   ]
  },
  {
   "cell_type": "code",
   "execution_count": 110,
   "metadata": {},
   "outputs": [
    {
     "name": "stdout",
     "output_type": "stream",
     "text": [
      "      lotsize  bedrooms   bathrms   stories  garagepl\n",
      "1    0.322732  0.047192 -0.568973  0.221501  0.357239\n",
      "2   -0.530526 -1.308947 -0.568973 -0.930304 -0.803788\n",
      "3   -0.964074  0.047192 -0.568973 -0.930304 -0.803788\n",
      "4    0.691709  0.047192 -0.568973  0.221501 -0.803788\n",
      "5    0.557955 -1.308947 -0.568973 -0.930304 -0.803788\n",
      "6   -0.456731  0.047192 -0.568973 -0.930304 -0.803788\n",
      "7   -0.585873  0.047192  1.422433  0.221501  1.518266\n",
      "8   -0.456731  0.047192 -0.568973  1.373306 -0.803788\n",
      "9   -0.161550  0.047192 -0.568973 -0.930304 -0.803788\n",
      "10   0.161305  0.047192  1.422433  2.525111  0.357239\n",
      "11   0.945380  0.047192  1.422433 -0.930304  2.679293\n",
      "12  -0.991747 -1.308947 -0.568973 -0.930304 -0.803788\n",
      "13  -1.591334  0.047192 -0.568973  0.221501 -0.803788\n",
      "14  -1.047094  0.047192 -0.568973 -0.930304 -0.803788\n",
      "15  -0.715015 -1.308947 -0.568973 -0.930304 -0.803788\n",
      "16  -0.906421 -1.308947 -0.568973 -0.930304 -0.803788\n",
      "17  -0.853381  0.047192 -0.568973  0.221501  0.357239\n",
      "18   0.022939  1.403330 -0.568973  1.373306 -0.803788\n",
      "19  -0.784198 -2.665085 -0.568973 -0.930304 -0.803788\n",
      "20  -0.536984 -1.308947  1.422433 -0.930304  0.357239\n",
      "21  -0.168468  0.047192 -0.568973  0.221501  0.357239\n",
      "22  -0.295304  1.403330  1.422433  0.221501 -0.803788\n",
      "23  -0.530526  0.047192 -0.568973  0.221501 -0.803788\n",
      "24  -0.560967 -1.308947 -0.568973 -0.930304 -0.803788\n",
      "25  -0.087754 -1.308947 -0.568973 -0.930304 -0.803788\n",
      "26  -0.991747 -1.308947 -0.568973  0.221501 -0.803788\n",
      "27  -0.622771 -1.308947 -0.568973 -0.930304 -0.803788\n",
      "28  -0.087754 -1.308947 -0.568973 -0.930304 -0.803788\n",
      "29  -0.991747  0.047192 -0.568973 -0.930304 -0.803788\n",
      "30  -0.299916  0.047192 -0.568973  0.221501 -0.803788\n",
      "..        ...       ...       ...       ...       ...\n",
      "517  0.391915  0.047192  1.422433  1.373306 -0.803788\n",
      "518  0.391915  1.403330  1.422433  2.525111 -0.803788\n",
      "519  0.502608  1.403330  1.422433  0.221501  0.357239\n",
      "520  0.391915  0.047192  1.422433  0.221501  0.357239\n",
      "521  1.166766  1.403330  1.422433  2.525111  0.357239\n",
      "522  0.391915  1.403330  1.422433  2.525111  0.357239\n",
      "523  0.391915  1.403330  1.422433  2.525111  0.357239\n",
      "524  0.391915  1.403330  1.422433  2.525111  1.518266\n",
      "525  0.391915  1.403330  1.422433  2.525111  0.357239\n",
      "526  1.072216  0.047192  1.422433  2.525111  1.518266\n",
      "527 -0.000122  0.047192  1.422433  2.525111  1.518266\n",
      "528  0.541812  0.047192 -0.568973  2.525111  0.357239\n",
      "529  0.391915  0.047192  1.422433  2.525111  0.357239\n",
      "530  0.391915  0.047192  1.422433  1.373306 -0.803788\n",
      "531  0.391915  0.047192 -0.568973  2.525111  1.518266\n",
      "532  0.853136  0.047192 -0.568973  2.525111  1.518266\n",
      "533  3.574339  0.047192 -0.568973 -0.930304  1.518266\n",
      "534  1.169534  0.047192 -0.568973 -0.930304 -0.803788\n",
      "535 -0.069306  0.047192 -0.568973  1.373306 -0.803788\n",
      "536  0.299671  0.047192  1.422433  2.525111 -0.803788\n",
      "537  0.391915  0.047192  1.422433  2.525111 -0.803788\n",
      "538 -0.161550  0.047192 -0.568973  1.373306 -0.803788\n",
      "539  0.622526  0.047192  1.422433  1.373306 -0.803788\n",
      "540  1.000727  1.403330  1.422433  0.221501 -0.803788\n",
      "541  0.634056  0.047192  1.422433  2.525111  0.357239\n",
      "542 -0.161550  0.047192  1.422433  2.525111 -0.803788\n",
      "543  0.391915  0.047192  1.422433  2.525111 -0.803788\n",
      "544  0.391915  0.047192  1.422433  2.525111  0.357239\n",
      "545  0.391915  0.047192  1.422433  0.221501  0.357239\n",
      "546  0.391915  0.047192 -0.568973  0.221501  0.357239\n",
      "\n",
      "[546 rows x 5 columns]\n",
      "1     -0.978239\n",
      "2     -1.109312\n",
      "3     -0.697368\n",
      "4     -0.285425\n",
      "5     -0.266700\n",
      "6     -0.079453\n",
      "7     -0.079453\n",
      "8      0.032896\n",
      "9      0.587147\n",
      "10     0.763160\n",
      "11     0.819334\n",
      "12    -1.408908\n",
      "13    -1.539981\n",
      "14    -1.202936\n",
      "15    -1.165486\n",
      "16    -1.131782\n",
      "17    -1.034413\n",
      "18    -1.025051\n",
      "19    -0.865891\n",
      "20    -0.865891\n",
      "21    -0.734818\n",
      "22    -0.083198\n",
      "23    -1.131782\n",
      "24    -1.128037\n",
      "25    -0.978239\n",
      "26    -0.967004\n",
      "27    -0.922065\n",
      "28    -0.903340\n",
      "29    -0.884616\n",
      "30    -0.869636\n",
      "         ...   \n",
      "517    1.006581\n",
      "518    1.062755\n",
      "519    1.231278\n",
      "520    1.268727\n",
      "521    1.306177\n",
      "522    1.381075\n",
      "523    1.493424\n",
      "524    1.568323\n",
      "525    1.680671\n",
      "526    1.942817\n",
      "527    1.381075\n",
      "528    1.418525\n",
      "529    1.474699\n",
      "530    1.493424\n",
      "531    1.708758\n",
      "532    1.942817\n",
      "533    0.070345\n",
      "534    0.107795\n",
      "535    0.519738\n",
      "536    0.519738\n",
      "537    0.538463\n",
      "538    0.557188\n",
      "539    0.594637\n",
      "540    0.632087\n",
      "541    0.632087\n",
      "542    0.875508\n",
      "543    0.969132\n",
      "544    1.306177\n",
      "545    1.381075\n",
      "546    1.381075\n",
      "Name: price, Length: 546, dtype: float64\n"
     ]
    }
   ],
   "source": [
    "x = (x-x.mean())/x.std()\n",
    "y = (y-y.mean())/y.std()\n",
    "print(x)\n",
    "print(y)"
   ]
  },
  {
   "cell_type": "code",
   "execution_count": 111,
   "metadata": {},
   "outputs": [
    {
     "name": "stdout",
     "output_type": "stream",
     "text": [
      "x.shape: (546, 5)\n",
      "y.shape: (546,)\n",
      "m: 546\n",
      "n: 5\n",
      "x.shape after appending a column for bias: (546, 6)\n"
     ]
    }
   ],
   "source": [
    "print(\"x.shape: \" + str(x.shape))\n",
    "print(\"y.shape: \" + str(y.shape))\n",
    "m = x.shape[0]\n",
    "n = x.shape[1]\n",
    "print(\"m: \" + str(m))\n",
    "print(\"n: \" + str(n))\n",
    "t = np.ones((m,1))\n",
    "x = np.hstack((t,x))\n",
    "print(\"x.shape after appending a column for bias: \" + str(x.shape))"
   ]
  },
  {
   "cell_type": "code",
   "execution_count": 112,
   "metadata": {},
   "outputs": [
    {
     "data": {
      "text/plain": [
       "(array([[ 0.1825781 ],\n",
       "        [ 1.09320784],\n",
       "        [-0.25655173],\n",
       "        [-1.5286191 ],\n",
       "        [-0.37724481],\n",
       "        [-0.29313022]]), (6, 1))"
      ]
     },
     "execution_count": 112,
     "metadata": {},
     "output_type": "execute_result"
    }
   ],
   "source": [
    "w = np.random.randn(n+1,1)\n",
    "w,w.shape"
   ]
  },
  {
   "cell_type": "code",
   "execution_count": 113,
   "metadata": {},
   "outputs": [
    {
     "data": {
      "text/plain": [
       "2.9475548494091117"
      ]
     },
     "execution_count": 113,
     "metadata": {},
     "output_type": "execute_result"
    }
   ],
   "source": [
    "y = np.array(y)\n",
    "y = np.reshape(y,(y.shape[0],1))\n",
    "h = np.matmul(x,w)\n",
    "#h2 = np.dot(x,w.T)\n",
    "J = (1/(2*m))*np.sum(np.square(h-y))\n",
    "J"
   ]
  },
  {
   "cell_type": "code",
   "execution_count": 114,
   "metadata": {},
   "outputs": [
    {
     "name": "stdout",
     "output_type": "stream",
     "text": [
      "x.shape: (546, 6)\n",
      "w.shape: (6, 1)\n",
      "y.shape: (546, 1)\n"
     ]
    }
   ],
   "source": [
    "\n",
    "print(\"x.shape: \" + str(x.shape))\n",
    "print(\"w.shape: \" + str(w.shape))\n",
    "print(\"y.shape: \" + str(y.shape))\n",
    "\n",
    "alpha = 0.001 # Learning rate\n",
    "temp = np.zeros((n+1,1))\n",
    "\n",
    "iterations = 0\n",
    "t = 10000\n",
    "log = np.array([])\n",
    "while(iterations<10000):\n",
    "    h = np.matmul(x,w)\n",
    "    for i in range(n+1):\n",
    "        temp[i] = w[i,:] - alpha*(1/m)*(np.sum( (h-y)*x[:,i:i+1], axis=0))\n",
    "    for i in range(n+1):\n",
    "        w[i,:] = temp[i]\n",
    "    #print(w)\n",
    "    #print(np.matmul(h-y,(h-y).T))\n",
    "    J = (1/(2*m))*np.sum(np.square(h-y))\n",
    "    #print(J)\n",
    "    log = np.append(log, J)\n",
    "    iterations+=1"
   ]
  },
  {
   "cell_type": "code",
   "execution_count": 115,
   "metadata": {},
   "outputs": [
    {
     "data": {
      "text/plain": [
       "0.2189349491919986"
      ]
     },
     "execution_count": 115,
     "metadata": {},
     "output_type": "execute_result"
    }
   ],
   "source": [
    "# h = np.dot(x,w.T)\n",
    "# plt.plot(x[:,1],h,'r',x[:,1],y,'gx')\n",
    "# plt.xlabel('Lotsize')\n",
    "# plt.ylabel('Price')\n",
    "# plt.show()\n",
    "w\n",
    "J"
   ]
  },
  {
   "cell_type": "code",
   "execution_count": 116,
   "metadata": {},
   "outputs": [
    {
     "data": {
      "image/png": "[encoded data removed]",
      "text/plain": [
       "<Figure size 432x288 with 1 Axes>"
      ]
     },
     "metadata": {
      "needs_background": "light"
     },
     "output_type": "display_data"
    }
   ],
   "source": [
    "it = np.arange(t)\n",
    "plt.plot(it, log)\n",
    "plt.xlabel('Iterations')\n",
    "plt.ylabel('Cost')\n",
    "plt.title('Cost function vs No. of iterations')\n",
    "plt.show()"
   ]
  },
  {
   "cell_type": "code",
   "execution_count": 117,
   "metadata": {},
   "outputs": [
    {
     "name": "stdout",
     "output_type": "stream",
     "text": [
      "Minimum Loss: 0.2189349491919986\n"
     ]
    }
   ],
   "source": [
    "print(\"Minimum Loss: \" + str(log.min()))"
   ]
  },
  {
   "cell_type": "markdown",
   "metadata": {},
   "source": [
    "# Conclusion"
   ]
  },
  {
   "cell_type": "markdown",
   "metadata": {},
   "source": [
    "Minimum value for loss is 2733.\n",
    "<Baki ka likh do>"
   ]
  },
  {
   "cell_type": "markdown",
   "metadata": {},
   "source": [
    "# Normal equation after regurisation"
   ]
  },
  {
   "cell_type": "code",
   "execution_count": 118,
   "metadata": {},
   "outputs": [
    {
     "data": {
      "text/html": [
       "<div>\n",
       "<style scoped>\n",
       "    .dataframe tbody tr th:only-of-type {\n",
       "        vertical-align: middle;\n",
       "    }\n",
       "\n",
       "    .dataframe tbody tr th {\n",
       "        vertical-align: top;\n",
       "    }\n",
       "\n",
       "    .dataframe thead th {\n",
       "        text-align: right;\n",
       "    }\n",
       "</style>\n",
       "<table border=\"1\" class=\"dataframe\">\n",
       "  <thead>\n",
       "    <tr style=\"text-align: right;\">\n",
       "      <th></th>\n",
       "      <th>price</th>\n",
       "      <th>lotsize</th>\n",
       "      <th>bedrooms</th>\n",
       "      <th>bathrms</th>\n",
       "      <th>stories</th>\n",
       "      <th>driveway</th>\n",
       "      <th>recroom</th>\n",
       "      <th>fullbase</th>\n",
       "      <th>gashw</th>\n",
       "      <th>airco</th>\n",
       "      <th>garagepl</th>\n",
       "      <th>prefarea</th>\n",
       "    </tr>\n",
       "  </thead>\n",
       "  <tbody>\n",
       "    <tr>\n",
       "      <th>1</th>\n",
       "      <td>42000.0</td>\n",
       "      <td>5850</td>\n",
       "      <td>3</td>\n",
       "      <td>1</td>\n",
       "      <td>2</td>\n",
       "      <td>yes</td>\n",
       "      <td>no</td>\n",
       "      <td>yes</td>\n",
       "      <td>no</td>\n",
       "      <td>no</td>\n",
       "      <td>1</td>\n",
       "      <td>no</td>\n",
       "    </tr>\n",
       "    <tr>\n",
       "      <th>2</th>\n",
       "      <td>38500.0</td>\n",
       "      <td>4000</td>\n",
       "      <td>2</td>\n",
       "      <td>1</td>\n",
       "      <td>1</td>\n",
       "      <td>yes</td>\n",
       "      <td>no</td>\n",
       "      <td>no</td>\n",
       "      <td>no</td>\n",
       "      <td>no</td>\n",
       "      <td>0</td>\n",
       "      <td>no</td>\n",
       "    </tr>\n",
       "    <tr>\n",
       "      <th>3</th>\n",
       "      <td>49500.0</td>\n",
       "      <td>3060</td>\n",
       "      <td>3</td>\n",
       "      <td>1</td>\n",
       "      <td>1</td>\n",
       "      <td>yes</td>\n",
       "      <td>no</td>\n",
       "      <td>no</td>\n",
       "      <td>no</td>\n",
       "      <td>no</td>\n",
       "      <td>0</td>\n",
       "      <td>no</td>\n",
       "    </tr>\n",
       "    <tr>\n",
       "      <th>4</th>\n",
       "      <td>60500.0</td>\n",
       "      <td>6650</td>\n",
       "      <td>3</td>\n",
       "      <td>1</td>\n",
       "      <td>2</td>\n",
       "      <td>yes</td>\n",
       "      <td>yes</td>\n",
       "      <td>no</td>\n",
       "      <td>no</td>\n",
       "      <td>no</td>\n",
       "      <td>0</td>\n",
       "      <td>no</td>\n",
       "    </tr>\n",
       "    <tr>\n",
       "      <th>5</th>\n",
       "      <td>61000.0</td>\n",
       "      <td>6360</td>\n",
       "      <td>2</td>\n",
       "      <td>1</td>\n",
       "      <td>1</td>\n",
       "      <td>yes</td>\n",
       "      <td>no</td>\n",
       "      <td>no</td>\n",
       "      <td>no</td>\n",
       "      <td>no</td>\n",
       "      <td>0</td>\n",
       "      <td>no</td>\n",
       "    </tr>\n",
       "  </tbody>\n",
       "</table>\n",
       "</div>"
      ],
      "text/plain": [
       "     price  lotsize  bedrooms  bathrms  stories driveway recroom fullbase  \\\n",
       "1  42000.0     5850         3        1        2      yes      no      yes   \n",
       "2  38500.0     4000         2        1        1      yes      no       no   \n",
       "3  49500.0     3060         3        1        1      yes      no       no   \n",
       "4  60500.0     6650         3        1        2      yes     yes       no   \n",
       "5  61000.0     6360         2        1        1      yes      no       no   \n",
       "\n",
       "  gashw airco  garagepl prefarea  \n",
       "1    no    no         1       no  \n",
       "2    no    no         0       no  \n",
       "3    no    no         0       no  \n",
       "4    no    no         0       no  \n",
       "5    no    no         0       no  "
      ]
     },
     "execution_count": 118,
     "metadata": {},
     "output_type": "execute_result"
    }
   ],
   "source": [
    "df = pd.read_csv('Housing.csv', index_col='Unnamed: 0')\n",
    "df.head()"
   ]
  },
  {
   "cell_type": "code",
   "execution_count": 119,
   "metadata": {},
   "outputs": [],
   "source": [
    "x = df[['lotsize','bedrooms','bathrms', 'stories', 'garagepl']] \n",
    "y = df['price']"
   ]
  },
  {
   "cell_type": "code",
   "execution_count": 120,
   "metadata": {},
   "outputs": [
    {
     "name": "stdout",
     "output_type": "stream",
     "text": [
      "(546, 5) (546,)\n"
     ]
    }
   ],
   "source": [
    "print(x.shape, y.shape)"
   ]
  },
  {
   "cell_type": "code",
   "execution_count": 121,
   "metadata": {},
   "outputs": [],
   "source": [
    "lamda = np.array([1000,1000,1000,1000,1000])"
   ]
  },
  {
   "cell_type": "code",
   "execution_count": 122,
   "metadata": {},
   "outputs": [],
   "source": [
    "w = np.dot(np.linalg.inv(np.dot(x.T,x) + lamda),np.dot(x.T,y))"
   ]
  },
  {
   "cell_type": "code",
   "execution_count": 123,
   "metadata": {},
   "outputs": [
    {
     "data": {
      "text/plain": [
       "array([    8.9744776 ,  5850.96932779, -2730.68589004,  5071.93835854,\n",
       "       -4378.58340488])"
      ]
     },
     "execution_count": 123,
     "metadata": {},
     "output_type": "execute_result"
    }
   ],
   "source": [
    "w"
   ]
  },
  {
   "cell_type": "code",
   "execution_count": 124,
   "metadata": {},
   "outputs": [
    {
     "data": {
      "text/plain": [
       "(546,)"
      ]
     },
     "execution_count": 124,
     "metadata": {},
     "output_type": "execute_result"
    }
   ],
   "source": [
    "h = np.dot(x,w)\n",
    "h.shape"
   ]
  },
  {
   "cell_type": "code",
   "execution_count": 125,
   "metadata": {},
   "outputs": [
    {
     "data": {
      "image/png": "[encoded data removed]",
      "text/plain": [
       "<Figure size 432x288 with 1 Axes>"
      ]
     },
     "metadata": {
      "needs_background": "light"
     },
     "output_type": "display_data"
    },
    {
     "name": "stdout",
     "output_type": "stream",
     "text": [
      "Note: If x consists of more than one feature, the plot would not make any sense.\n",
      "Reason: The n-dimentions (n features) would be displayed in 2 dimentions.\n"
     ]
    }
   ],
   "source": [
    "plt.plot(x,h,x,y,'x')\n",
    "plt.ylabel(\"Price\")\n",
    "plt.show()\n",
    "print(\"Note: If x consists of more than one feature, the plot would not make any sense.\")\n",
    "print(\"Reason: The n-dimentions (n features) would be displayed in 2 dimentions.\")"
   ]
  },
  {
   "cell_type": "code",
   "execution_count": 126,
   "metadata": {},
   "outputs": [
    {
     "name": "stdout",
     "output_type": "stream",
     "text": [
      "Score using naive Linear Regression: 0.2456416359766596\n"
     ]
    }
   ],
   "source": [
    "score = np.sum((np.abs(np.divide((h-y),y))))/h.size\n",
    "print(\"Score using naive Linear Regression: \" + str(score))"
   ]
  },
  {
   "cell_type": "code",
   "execution_count": 127,
   "metadata": {},
   "outputs": [
    {
     "name": "stdout",
     "output_type": "stream",
     "text": [
      " Lotsize | Bedrooms | Bathrooms |  Stories |   Garage\n",
      "    4500 |        3 |         2 |        2 |        2\n",
      "The predicted value for: 53863.39529615549\n"
     ]
    }
   ],
   "source": [
    "try:\n",
    "    test = np.array([4500, 3, 2, 2, 2])\n",
    "    val = np.dot(test,w)\n",
    "    print(\"%8s | %8s | %9s | %8s | %8s\" % (\"Lotsize\", \"Bedrooms\", \"Bathrooms\", \"Stories\", \"Garage\"))\n",
    "    print(\"%8d | %8d | %9d | %8d | %8d\" % (test[0],test[1],test[2],test[3],test[4]))\n",
    "    print(\"The predicted value for: \" + str(val))\n",
    "except Exception as e:\n",
    "    print(\"Give correct number of inputs to predict\")\n",
    "    print(e)"
   ]
  },
  {
   "cell_type": "markdown",
   "metadata": {},
   "source": [
    "# Gradient Descent"
   ]
  },
  {
   "cell_type": "code",
   "execution_count": 128,
   "metadata": {},
   "outputs": [],
   "source": [
    "df.head()\n",
    "x = df[['lotsize','bedrooms','bathrms', 'stories', 'garagepl']] \n",
    "y = df['price']"
   ]
  },
  {
   "cell_type": "code",
   "execution_count": 129,
   "metadata": {},
   "outputs": [
    {
     "name": "stdout",
     "output_type": "stream",
     "text": [
      "      lotsize  bedrooms   bathrms   stories  garagepl\n",
      "1    0.322732  0.047192 -0.568973  0.221501  0.357239\n",
      "2   -0.530526 -1.308947 -0.568973 -0.930304 -0.803788\n",
      "3   -0.964074  0.047192 -0.568973 -0.930304 -0.803788\n",
      "4    0.691709  0.047192 -0.568973  0.221501 -0.803788\n",
      "5    0.557955 -1.308947 -0.568973 -0.930304 -0.803788\n",
      "6   -0.456731  0.047192 -0.568973 -0.930304 -0.803788\n",
      "7   -0.585873  0.047192  1.422433  0.221501  1.518266\n",
      "8   -0.456731  0.047192 -0.568973  1.373306 -0.803788\n",
      "9   -0.161550  0.047192 -0.568973 -0.930304 -0.803788\n",
      "10   0.161305  0.047192  1.422433  2.525111  0.357239\n",
      "11   0.945380  0.047192  1.422433 -0.930304  2.679293\n",
      "12  -0.991747 -1.308947 -0.568973 -0.930304 -0.803788\n",
      "13  -1.591334  0.047192 -0.568973  0.221501 -0.803788\n",
      "14  -1.047094  0.047192 -0.568973 -0.930304 -0.803788\n",
      "15  -0.715015 -1.308947 -0.568973 -0.930304 -0.803788\n",
      "16  -0.906421 -1.308947 -0.568973 -0.930304 -0.803788\n",
      "17  -0.853381  0.047192 -0.568973  0.221501  0.357239\n",
      "18   0.022939  1.403330 -0.568973  1.373306 -0.803788\n",
      "19  -0.784198 -2.665085 -0.568973 -0.930304 -0.803788\n",
      "20  -0.536984 -1.308947  1.422433 -0.930304  0.357239\n",
      "21  -0.168468  0.047192 -0.568973  0.221501  0.357239\n",
      "22  -0.295304  1.403330  1.422433  0.221501 -0.803788\n",
      "23  -0.530526  0.047192 -0.568973  0.221501 -0.803788\n",
      "24  -0.560967 -1.308947 -0.568973 -0.930304 -0.803788\n",
      "25  -0.087754 -1.308947 -0.568973 -0.930304 -0.803788\n",
      "26  -0.991747 -1.308947 -0.568973  0.221501 -0.803788\n",
      "27  -0.622771 -1.308947 -0.568973 -0.930304 -0.803788\n",
      "28  -0.087754 -1.308947 -0.568973 -0.930304 -0.803788\n",
      "29  -0.991747  0.047192 -0.568973 -0.930304 -0.803788\n",
      "30  -0.299916  0.047192 -0.568973  0.221501 -0.803788\n",
      "..        ...       ...       ...       ...       ...\n",
      "517  0.391915  0.047192  1.422433  1.373306 -0.803788\n",
      "518  0.391915  1.403330  1.422433  2.525111 -0.803788\n",
      "519  0.502608  1.403330  1.422433  0.221501  0.357239\n",
      "520  0.391915  0.047192  1.422433  0.221501  0.357239\n",
      "521  1.166766  1.403330  1.422433  2.525111  0.357239\n",
      "522  0.391915  1.403330  1.422433  2.525111  0.357239\n",
      "523  0.391915  1.403330  1.422433  2.525111  0.357239\n",
      "524  0.391915  1.403330  1.422433  2.525111  1.518266\n",
      "525  0.391915  1.403330  1.422433  2.525111  0.357239\n",
      "526  1.072216  0.047192  1.422433  2.525111  1.518266\n",
      "527 -0.000122  0.047192  1.422433  2.525111  1.518266\n",
      "528  0.541812  0.047192 -0.568973  2.525111  0.357239\n",
      "529  0.391915  0.047192  1.422433  2.525111  0.357239\n",
      "530  0.391915  0.047192  1.422433  1.373306 -0.803788\n",
      "531  0.391915  0.047192 -0.568973  2.525111  1.518266\n",
      "532  0.853136  0.047192 -0.568973  2.525111  1.518266\n",
      "533  3.574339  0.047192 -0.568973 -0.930304  1.518266\n",
      "534  1.169534  0.047192 -0.568973 -0.930304 -0.803788\n",
      "535 -0.069306  0.047192 -0.568973  1.373306 -0.803788\n",
      "536  0.299671  0.047192  1.422433  2.525111 -0.803788\n",
      "537  0.391915  0.047192  1.422433  2.525111 -0.803788\n",
      "538 -0.161550  0.047192 -0.568973  1.373306 -0.803788\n",
      "539  0.622526  0.047192  1.422433  1.373306 -0.803788\n",
      "540  1.000727  1.403330  1.422433  0.221501 -0.803788\n",
      "541  0.634056  0.047192  1.422433  2.525111  0.357239\n",
      "542 -0.161550  0.047192  1.422433  2.525111 -0.803788\n",
      "543  0.391915  0.047192  1.422433  2.525111 -0.803788\n",
      "544  0.391915  0.047192  1.422433  2.525111  0.357239\n",
      "545  0.391915  0.047192  1.422433  0.221501  0.357239\n",
      "546  0.391915  0.047192 -0.568973  0.221501  0.357239\n",
      "\n",
      "[546 rows x 5 columns]\n",
      "1     -0.978239\n",
      "2     -1.109312\n",
      "3     -0.697368\n",
      "4     -0.285425\n",
      "5     -0.266700\n",
      "6     -0.079453\n",
      "7     -0.079453\n",
      "8      0.032896\n",
      "9      0.587147\n",
      "10     0.763160\n",
      "11     0.819334\n",
      "12    -1.408908\n",
      "13    -1.539981\n",
      "14    -1.202936\n",
      "15    -1.165486\n",
      "16    -1.131782\n",
      "17    -1.034413\n",
      "18    -1.025051\n",
      "19    -0.865891\n",
      "20    -0.865891\n",
      "21    -0.734818\n",
      "22    -0.083198\n",
      "23    -1.131782\n",
      "24    -1.128037\n",
      "25    -0.978239\n",
      "26    -0.967004\n",
      "27    -0.922065\n",
      "28    -0.903340\n",
      "29    -0.884616\n",
      "30    -0.869636\n",
      "         ...   \n",
      "517    1.006581\n",
      "518    1.062755\n",
      "519    1.231278\n",
      "520    1.268727\n",
      "521    1.306177\n",
      "522    1.381075\n",
      "523    1.493424\n",
      "524    1.568323\n",
      "525    1.680671\n",
      "526    1.942817\n",
      "527    1.381075\n",
      "528    1.418525\n",
      "529    1.474699\n",
      "530    1.493424\n",
      "531    1.708758\n",
      "532    1.942817\n",
      "533    0.070345\n",
      "534    0.107795\n",
      "535    0.519738\n",
      "536    0.519738\n",
      "537    0.538463\n",
      "538    0.557188\n",
      "539    0.594637\n",
      "540    0.632087\n",
      "541    0.632087\n",
      "542    0.875508\n",
      "543    0.969132\n",
      "544    1.306177\n",
      "545    1.381075\n",
      "546    1.381075\n",
      "Name: price, Length: 546, dtype: float64\n"
     ]
    }
   ],
   "source": [
    "x = (x-x.mean())/x.std()\n",
    "y = (y-y.mean())/y.std()\n",
    "print(x)\n",
    "print(y)"
   ]
  },
  {
   "cell_type": "code",
   "execution_count": 130,
   "metadata": {},
   "outputs": [
    {
     "name": "stdout",
     "output_type": "stream",
     "text": [
      "x.shape: (546, 5)\n",
      "y.shape: (546,)\n",
      "m: 546\n",
      "n: 5\n",
      "x.shape after appending a column for bias: (546, 6)\n"
     ]
    }
   ],
   "source": [
    "print(\"x.shape: \" + str(x.shape))\n",
    "print(\"y.shape: \" + str(y.shape))\n",
    "m = x.shape[0]\n",
    "n = x.shape[1]\n",
    "print(\"m: \" + str(m))\n",
    "print(\"n: \" + str(n))\n",
    "lamda = 25;\n",
    "t = np.ones((m,1))\n",
    "x = np.hstack((t,x))\n",
    "print(\"x.shape after appending a column for bias: \" + str(x.shape))"
   ]
  },
  {
   "cell_type": "code",
   "execution_count": 131,
   "metadata": {},
   "outputs": [
    {
     "name": "stdout",
     "output_type": "stream",
     "text": [
      "x.shape: (546, 6)\n",
      "w.shape: (6, 1)\n",
      "y.shape: (546, 1)\n"
     ]
    }
   ],
   "source": [
    "w = np.random.rand(n+1,1)\n",
    "y = np.array(y)\n",
    "y = np.reshape(y,(y.shape[0],1))\n",
    "print(\"x.shape: \" + str(x.shape))\n",
    "print(\"w.shape: \" + str(w.shape))\n",
    "print(\"y.shape: \" + str(y.shape))\n",
    "\n",
    "alpha = 0.001 # Learning rate\n",
    "temp = np.zeros((n+1,1))\n",
    "\n",
    "iterations = 0\n",
    "t = 10000\n",
    "log = np.array([])\n",
    "while(iterations<t):\n",
    "    h = np.dot(x,w)\n",
    "    for i in range(1):\n",
    "        temp[i] = w[i,:] - alpha*(1/m)*(np.sum( (h-y)*x[:,i:i+1], axis=0) )\n",
    "    for i in range(2):\n",
    "        temp[i] = w[i,:] - alpha*(1/m)*(np.sum( (h-y)*x[:,i:i+1], axis=0) + lamda*w[i,:])\n",
    "    for i in range(n+1):\n",
    "        w[i,:] = temp[i]\n",
    "    J = (1/(2*m))*(np.sum(np.square(h-y)) + lamda*np.sum(np.multiply(w,w)))\n",
    "    \n",
    "    log = np.append(log, J)\n",
    "    iterations+=1"
   ]
  },
  {
   "cell_type": "code",
   "execution_count": 132,
   "metadata": {},
   "outputs": [
    {
     "data": {
      "image/png": "[encoded data removed]",
      "text/plain": [
       "<Figure size 432x288 with 1 Axes>"
      ]
     },
     "metadata": {
      "needs_background": "light"
     },
     "output_type": "display_data"
    }
   ],
   "source": [
    "it = np.arange(t)\n",
    "plt.plot(it, log)\n",
    "plt.xlabel('Iterations')\n",
    "plt.ylabel('Cost')\n",
    "plt.title('Cost function vs No. of iterations')\n",
    "plt.show()"
   ]
  },
  {
   "cell_type": "code",
   "execution_count": 133,
   "metadata": {},
   "outputs": [
    {
     "name": "stdout",
     "output_type": "stream",
     "text": [
      "Minimum Loss: 0.36229412585289344\n"
     ]
    }
   ],
   "source": [
    "print(\"Minimum Loss: \" + str(log.min()))"
   ]
  },
  {
   "cell_type": "code",
   "execution_count": null,
   "metadata": {},
   "outputs": [],
   "source": []
  },
  {
   "cell_type": "code",
   "execution_count": null,
   "metadata": {},
   "outputs": [],
   "source": []
  }
 ],
 "metadata": {
  "kernelspec": {
   "display_name": "Python 3",
   "language": "python",
   "name": "python3"
  },
  "language_info": {
   "codemirror_mode": {
    "name": "ipython",
    "version": 3
   },
   "file_extension": ".py",
   "mimetype": "text/x-python",
   "name": "python",
   "nbconvert_exporter": "python",
   "pygments_lexer": "ipython3",
   "version": "3.6.7"
  }
 },
 "nbformat": 4,
 "nbformat_minor": 2
}
